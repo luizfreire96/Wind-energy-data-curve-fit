{
  "cells": [
    {
      "cell_type": "markdown",
      "metadata": {
        "id": "view-in-github",
        "colab_type": "text"
      },
      "source": [
        "<a href=\"https://colab.research.google.com/github/luizfreire96/Wind-energy-data-curve-fit/blob/main/prediction_of_wind_speed_using_weibull_PDF_and_ARMA_model.ipynb\" target=\"_parent\"><img src=\"https://colab.research.google.com/assets/colab-badge.svg\" alt=\"Open In Colab\"/></a>"
      ]
    },
    {
      "cell_type": "markdown",
      "metadata": {
        "id": "ooopdn781HDU"
      },
      "source": [
        "In order to forecast wind speed in another project, it is important to analyze the data to select the best model for predictions. In this project we will analyze the data and try to find the best distribution curve for fitting the data, such as Weibull or Normal. The Data used is the same used in **Yu Ding book, Data Science for Wind Energy.**"
      ]
    },
    {
      "cell_type": "markdown",
      "metadata": {
        "id": "_Yo7hWvFZ6i8"
      },
      "source": [
        "#Importing relevant libraries"
      ]
    },
    {
      "cell_type": "code",
      "execution_count": 10,
      "metadata": {
        "id": "boFn7eaFY4XL"
      },
      "outputs": [],
      "source": [
        "import pandas as pd\n",
        "import numpy as np\n",
        "from scipy.stats import weibull_min\n",
        "from scipy.stats import chi2\n",
        "import matplotlib.pyplot as plt"
      ]
    },
    {
      "cell_type": "markdown",
      "metadata": {
        "id": "gW0nCRH_OnWR"
      },
      "source": [
        "#Importing data"
      ]
    },
    {
      "cell_type": "code",
      "execution_count": 11,
      "metadata": {
        "id": "pEfPModob-J7"
      },
      "outputs": [],
      "source": [
        "df = pd.read_csv('/content/drive/MyDrive/Wind energy collabs and datasets/Wind Time Series/Wind Time Series Dataset(10min).csv')"
      ]
    },
    {
      "cell_type": "markdown",
      "metadata": {
        "id": "w7Ij3vMcchLx"
      },
      "source": [
        "#Tanking a brief look at the data"
      ]
    },
    {
      "cell_type": "code",
      "execution_count": 12,
      "metadata": {
        "colab": {
          "base_uri": "https://localhost:8080/",
          "height": 206
        },
        "id": "Ix0yWqmMccH3",
        "outputId": "dd93ed1b-a658-4140-82a6-1947adad4426"
      },
      "outputs": [
        {
          "output_type": "execute_result",
          "data": {
            "text/plain": [
              "                  Time  WindSpeed      Power\n",
              "0  2014-10-07 01:20:00       8.22  40.526173\n",
              "1  2014-10-07 01:30:00       8.09  38.552540\n",
              "2  2014-10-07 01:50:00       7.21  21.313683\n",
              "3  2014-10-07 02:00:00       6.75  18.031418\n",
              "4  2014-10-07 02:10:00       6.52  16.593281"
            ],
            "text/html": [
              "\n",
              "  <div id=\"df-51fdb04e-c459-4bbe-b418-51ece95fc1f2\">\n",
              "    <div class=\"colab-df-container\">\n",
              "      <div>\n",
              "<style scoped>\n",
              "    .dataframe tbody tr th:only-of-type {\n",
              "        vertical-align: middle;\n",
              "    }\n",
              "\n",
              "    .dataframe tbody tr th {\n",
              "        vertical-align: top;\n",
              "    }\n",
              "\n",
              "    .dataframe thead th {\n",
              "        text-align: right;\n",
              "    }\n",
              "</style>\n",
              "<table border=\"1\" class=\"dataframe\">\n",
              "  <thead>\n",
              "    <tr style=\"text-align: right;\">\n",
              "      <th></th>\n",
              "      <th>Time</th>\n",
              "      <th>WindSpeed</th>\n",
              "      <th>Power</th>\n",
              "    </tr>\n",
              "  </thead>\n",
              "  <tbody>\n",
              "    <tr>\n",
              "      <th>0</th>\n",
              "      <td>2014-10-07 01:20:00</td>\n",
              "      <td>8.22</td>\n",
              "      <td>40.526173</td>\n",
              "    </tr>\n",
              "    <tr>\n",
              "      <th>1</th>\n",
              "      <td>2014-10-07 01:30:00</td>\n",
              "      <td>8.09</td>\n",
              "      <td>38.552540</td>\n",
              "    </tr>\n",
              "    <tr>\n",
              "      <th>2</th>\n",
              "      <td>2014-10-07 01:50:00</td>\n",
              "      <td>7.21</td>\n",
              "      <td>21.313683</td>\n",
              "    </tr>\n",
              "    <tr>\n",
              "      <th>3</th>\n",
              "      <td>2014-10-07 02:00:00</td>\n",
              "      <td>6.75</td>\n",
              "      <td>18.031418</td>\n",
              "    </tr>\n",
              "    <tr>\n",
              "      <th>4</th>\n",
              "      <td>2014-10-07 02:10:00</td>\n",
              "      <td>6.52</td>\n",
              "      <td>16.593281</td>\n",
              "    </tr>\n",
              "  </tbody>\n",
              "</table>\n",
              "</div>\n",
              "      <button class=\"colab-df-convert\" onclick=\"convertToInteractive('df-51fdb04e-c459-4bbe-b418-51ece95fc1f2')\"\n",
              "              title=\"Convert this dataframe to an interactive table.\"\n",
              "              style=\"display:none;\">\n",
              "        \n",
              "  <svg xmlns=\"http://www.w3.org/2000/svg\" height=\"24px\"viewBox=\"0 0 24 24\"\n",
              "       width=\"24px\">\n",
              "    <path d=\"M0 0h24v24H0V0z\" fill=\"none\"/>\n",
              "    <path d=\"M18.56 5.44l.94 2.06.94-2.06 2.06-.94-2.06-.94-.94-2.06-.94 2.06-2.06.94zm-11 1L8.5 8.5l.94-2.06 2.06-.94-2.06-.94L8.5 2.5l-.94 2.06-2.06.94zm10 10l.94 2.06.94-2.06 2.06-.94-2.06-.94-.94-2.06-.94 2.06-2.06.94z\"/><path d=\"M17.41 7.96l-1.37-1.37c-.4-.4-.92-.59-1.43-.59-.52 0-1.04.2-1.43.59L10.3 9.45l-7.72 7.72c-.78.78-.78 2.05 0 2.83L4 21.41c.39.39.9.59 1.41.59.51 0 1.02-.2 1.41-.59l7.78-7.78 2.81-2.81c.8-.78.8-2.07 0-2.86zM5.41 20L4 18.59l7.72-7.72 1.47 1.35L5.41 20z\"/>\n",
              "  </svg>\n",
              "      </button>\n",
              "      \n",
              "  <style>\n",
              "    .colab-df-container {\n",
              "      display:flex;\n",
              "      flex-wrap:wrap;\n",
              "      gap: 12px;\n",
              "    }\n",
              "\n",
              "    .colab-df-convert {\n",
              "      background-color: #E8F0FE;\n",
              "      border: none;\n",
              "      border-radius: 50%;\n",
              "      cursor: pointer;\n",
              "      display: none;\n",
              "      fill: #1967D2;\n",
              "      height: 32px;\n",
              "      padding: 0 0 0 0;\n",
              "      width: 32px;\n",
              "    }\n",
              "\n",
              "    .colab-df-convert:hover {\n",
              "      background-color: #E2EBFA;\n",
              "      box-shadow: 0px 1px 2px rgba(60, 64, 67, 0.3), 0px 1px 3px 1px rgba(60, 64, 67, 0.15);\n",
              "      fill: #174EA6;\n",
              "    }\n",
              "\n",
              "    [theme=dark] .colab-df-convert {\n",
              "      background-color: #3B4455;\n",
              "      fill: #D2E3FC;\n",
              "    }\n",
              "\n",
              "    [theme=dark] .colab-df-convert:hover {\n",
              "      background-color: #434B5C;\n",
              "      box-shadow: 0px 1px 3px 1px rgba(0, 0, 0, 0.15);\n",
              "      filter: drop-shadow(0px 1px 2px rgba(0, 0, 0, 0.3));\n",
              "      fill: #FFFFFF;\n",
              "    }\n",
              "  </style>\n",
              "\n",
              "      <script>\n",
              "        const buttonEl =\n",
              "          document.querySelector('#df-51fdb04e-c459-4bbe-b418-51ece95fc1f2 button.colab-df-convert');\n",
              "        buttonEl.style.display =\n",
              "          google.colab.kernel.accessAllowed ? 'block' : 'none';\n",
              "\n",
              "        async function convertToInteractive(key) {\n",
              "          const element = document.querySelector('#df-51fdb04e-c459-4bbe-b418-51ece95fc1f2');\n",
              "          const dataTable =\n",
              "            await google.colab.kernel.invokeFunction('convertToInteractive',\n",
              "                                                     [key], {});\n",
              "          if (!dataTable) return;\n",
              "\n",
              "          const docLinkHtml = 'Like what you see? Visit the ' +\n",
              "            '<a target=\"_blank\" href=https://colab.research.google.com/notebooks/data_table.ipynb>data table notebook</a>'\n",
              "            + ' to learn more about interactive tables.';\n",
              "          element.innerHTML = '';\n",
              "          dataTable['output_type'] = 'display_data';\n",
              "          await google.colab.output.renderOutput(dataTable, element);\n",
              "          const docLink = document.createElement('div');\n",
              "          docLink.innerHTML = docLinkHtml;\n",
              "          element.appendChild(docLink);\n",
              "        }\n",
              "      </script>\n",
              "    </div>\n",
              "  </div>\n",
              "  "
            ]
          },
          "metadata": {},
          "execution_count": 12
        }
      ],
      "source": [
        "df.head()"
      ]
    },
    {
      "cell_type": "code",
      "execution_count": 13,
      "metadata": {
        "colab": {
          "base_uri": "https://localhost:8080/",
          "height": 300
        },
        "id": "qb8RnjKDfWpC",
        "outputId": "8467cf23-c00b-42a2-9dff-b9e68c232d5b"
      },
      "outputs": [
        {
          "output_type": "execute_result",
          "data": {
            "text/plain": [
              "          WindSpeed         Power\n",
              "count  39195.000000  39195.000000\n",
              "mean       6.863497     30.415774\n",
              "std        2.065032     26.069511\n",
              "min        0.090000     -0.007123\n",
              "25%        5.370000      9.727654\n",
              "50%        6.670000     22.314745\n",
              "75%        8.070000     44.854827\n",
              "max       19.790000    100.000000"
            ],
            "text/html": [
              "\n",
              "  <div id=\"df-0582945a-813d-4625-a03f-2d557266f805\">\n",
              "    <div class=\"colab-df-container\">\n",
              "      <div>\n",
              "<style scoped>\n",
              "    .dataframe tbody tr th:only-of-type {\n",
              "        vertical-align: middle;\n",
              "    }\n",
              "\n",
              "    .dataframe tbody tr th {\n",
              "        vertical-align: top;\n",
              "    }\n",
              "\n",
              "    .dataframe thead th {\n",
              "        text-align: right;\n",
              "    }\n",
              "</style>\n",
              "<table border=\"1\" class=\"dataframe\">\n",
              "  <thead>\n",
              "    <tr style=\"text-align: right;\">\n",
              "      <th></th>\n",
              "      <th>WindSpeed</th>\n",
              "      <th>Power</th>\n",
              "    </tr>\n",
              "  </thead>\n",
              "  <tbody>\n",
              "    <tr>\n",
              "      <th>count</th>\n",
              "      <td>39195.000000</td>\n",
              "      <td>39195.000000</td>\n",
              "    </tr>\n",
              "    <tr>\n",
              "      <th>mean</th>\n",
              "      <td>6.863497</td>\n",
              "      <td>30.415774</td>\n",
              "    </tr>\n",
              "    <tr>\n",
              "      <th>std</th>\n",
              "      <td>2.065032</td>\n",
              "      <td>26.069511</td>\n",
              "    </tr>\n",
              "    <tr>\n",
              "      <th>min</th>\n",
              "      <td>0.090000</td>\n",
              "      <td>-0.007123</td>\n",
              "    </tr>\n",
              "    <tr>\n",
              "      <th>25%</th>\n",
              "      <td>5.370000</td>\n",
              "      <td>9.727654</td>\n",
              "    </tr>\n",
              "    <tr>\n",
              "      <th>50%</th>\n",
              "      <td>6.670000</td>\n",
              "      <td>22.314745</td>\n",
              "    </tr>\n",
              "    <tr>\n",
              "      <th>75%</th>\n",
              "      <td>8.070000</td>\n",
              "      <td>44.854827</td>\n",
              "    </tr>\n",
              "    <tr>\n",
              "      <th>max</th>\n",
              "      <td>19.790000</td>\n",
              "      <td>100.000000</td>\n",
              "    </tr>\n",
              "  </tbody>\n",
              "</table>\n",
              "</div>\n",
              "      <button class=\"colab-df-convert\" onclick=\"convertToInteractive('df-0582945a-813d-4625-a03f-2d557266f805')\"\n",
              "              title=\"Convert this dataframe to an interactive table.\"\n",
              "              style=\"display:none;\">\n",
              "        \n",
              "  <svg xmlns=\"http://www.w3.org/2000/svg\" height=\"24px\"viewBox=\"0 0 24 24\"\n",
              "       width=\"24px\">\n",
              "    <path d=\"M0 0h24v24H0V0z\" fill=\"none\"/>\n",
              "    <path d=\"M18.56 5.44l.94 2.06.94-2.06 2.06-.94-2.06-.94-.94-2.06-.94 2.06-2.06.94zm-11 1L8.5 8.5l.94-2.06 2.06-.94-2.06-.94L8.5 2.5l-.94 2.06-2.06.94zm10 10l.94 2.06.94-2.06 2.06-.94-2.06-.94-.94-2.06-.94 2.06-2.06.94z\"/><path d=\"M17.41 7.96l-1.37-1.37c-.4-.4-.92-.59-1.43-.59-.52 0-1.04.2-1.43.59L10.3 9.45l-7.72 7.72c-.78.78-.78 2.05 0 2.83L4 21.41c.39.39.9.59 1.41.59.51 0 1.02-.2 1.41-.59l7.78-7.78 2.81-2.81c.8-.78.8-2.07 0-2.86zM5.41 20L4 18.59l7.72-7.72 1.47 1.35L5.41 20z\"/>\n",
              "  </svg>\n",
              "      </button>\n",
              "      \n",
              "  <style>\n",
              "    .colab-df-container {\n",
              "      display:flex;\n",
              "      flex-wrap:wrap;\n",
              "      gap: 12px;\n",
              "    }\n",
              "\n",
              "    .colab-df-convert {\n",
              "      background-color: #E8F0FE;\n",
              "      border: none;\n",
              "      border-radius: 50%;\n",
              "      cursor: pointer;\n",
              "      display: none;\n",
              "      fill: #1967D2;\n",
              "      height: 32px;\n",
              "      padding: 0 0 0 0;\n",
              "      width: 32px;\n",
              "    }\n",
              "\n",
              "    .colab-df-convert:hover {\n",
              "      background-color: #E2EBFA;\n",
              "      box-shadow: 0px 1px 2px rgba(60, 64, 67, 0.3), 0px 1px 3px 1px rgba(60, 64, 67, 0.15);\n",
              "      fill: #174EA6;\n",
              "    }\n",
              "\n",
              "    [theme=dark] .colab-df-convert {\n",
              "      background-color: #3B4455;\n",
              "      fill: #D2E3FC;\n",
              "    }\n",
              "\n",
              "    [theme=dark] .colab-df-convert:hover {\n",
              "      background-color: #434B5C;\n",
              "      box-shadow: 0px 1px 3px 1px rgba(0, 0, 0, 0.15);\n",
              "      filter: drop-shadow(0px 1px 2px rgba(0, 0, 0, 0.3));\n",
              "      fill: #FFFFFF;\n",
              "    }\n",
              "  </style>\n",
              "\n",
              "      <script>\n",
              "        const buttonEl =\n",
              "          document.querySelector('#df-0582945a-813d-4625-a03f-2d557266f805 button.colab-df-convert');\n",
              "        buttonEl.style.display =\n",
              "          google.colab.kernel.accessAllowed ? 'block' : 'none';\n",
              "\n",
              "        async function convertToInteractive(key) {\n",
              "          const element = document.querySelector('#df-0582945a-813d-4625-a03f-2d557266f805');\n",
              "          const dataTable =\n",
              "            await google.colab.kernel.invokeFunction('convertToInteractive',\n",
              "                                                     [key], {});\n",
              "          if (!dataTable) return;\n",
              "\n",
              "          const docLinkHtml = 'Like what you see? Visit the ' +\n",
              "            '<a target=\"_blank\" href=https://colab.research.google.com/notebooks/data_table.ipynb>data table notebook</a>'\n",
              "            + ' to learn more about interactive tables.';\n",
              "          element.innerHTML = '';\n",
              "          dataTable['output_type'] = 'display_data';\n",
              "          await google.colab.output.renderOutput(dataTable, element);\n",
              "          const docLink = document.createElement('div');\n",
              "          docLink.innerHTML = docLinkHtml;\n",
              "          element.appendChild(docLink);\n",
              "        }\n",
              "      </script>\n",
              "    </div>\n",
              "  </div>\n",
              "  "
            ]
          },
          "metadata": {},
          "execution_count": 13
        }
      ],
      "source": [
        "df.describe()"
      ]
    },
    {
      "cell_type": "code",
      "execution_count": 14,
      "metadata": {
        "colab": {
          "base_uri": "https://localhost:8080/",
          "height": 265
        },
        "id": "uzdxDJzocnXY",
        "outputId": "dae29c90-d3ff-4a84-b75f-8e736d36967a"
      },
      "outputs": [
        {
          "output_type": "display_data",
          "data": {
            "text/plain": [
              "<Figure size 432x288 with 1 Axes>"
            ],
            "image/png": "[encoded data removed]"
          },
          "metadata": {
            "needs_background": "light"
          }
        }
      ],
      "source": [
        "hist = plt.hist(df['WindSpeed'], 200, density=True)"
      ]
    },
    {
      "cell_type": "markdown",
      "metadata": {
        "id": "KelbG3ClBKKY"
      },
      "source": [
        "## *WEIBULL FIT*"
      ]
    },
    {
      "cell_type": "code",
      "execution_count": 15,
      "metadata": {
        "id": "reO-RSinfGO7"
      },
      "outputs": [],
      "source": [
        " #The method below will estimate the parameters of the Weibull distribution.\n",
        " #It uses the Maximum Likelihood Estimator for this.\n",
        "weibull = weibull_min.fit(df['WindSpeed'])\n",
        "\n",
        "#Attributing the values for each variable we have beta, gamma and alpha respectively.\n",
        "wshape, wloc, wscale = weibull[0], weibull[1], weibull[2]"
      ]
    },
    {
      "cell_type": "code",
      "execution_count": 16,
      "metadata": {
        "colab": {
          "base_uri": "https://localhost:8080/",
          "height": 265
        },
        "id": "XEv_yYBqgaQ6",
        "outputId": "c542d9a7-9ac1-4367-f93e-e8ba6fa3b08e"
      },
      "outputs": [
        {
          "output_type": "display_data",
          "data": {
            "text/plain": [
              "<Figure size 432x288 with 1 Axes>"
            ],
            "image/png": "[encoded data removed]"
          },
          "metadata": {
            "needs_background": "light"
          }
        }
      ],
      "source": [
        " #This create the distribution object.\n",
        "x = np.linspace(0.01, 20, 200)\n",
        "dist = weibull_min.pdf(x, wshape, scale=wscale) \n",
        "\n",
        "#Plotting the histogram and the curve to see how it fits, but a test will be needed anyway.\n",
        "plt.plot(x, dist, 'k-', lw=2, label='frozen pdf')\n",
        "plt.hist(df.WindSpeed, 200, density=True)\n",
        "plt.show()"
      ]
    },
    {
      "cell_type": "code",
      "execution_count": 17,
      "metadata": {
        "id": "28cTRuPAWuGZ"
      },
      "outputs": [],
      "source": [
        "#copying just to don't mess up the original DataFrame\n",
        "df2 = df.copy()"
      ]
    },
    {
      "cell_type": "markdown",
      "metadata": {
        "id": "Va77Qzkd3hXe"
      },
      "source": [
        "###Testing how good this fit is"
      ]
    },
    {
      "cell_type": "markdown",
      "metadata": {
        "id": "tkJyxQs-5iUc"
      },
      "source": [
        "We will use the chi square test to see if the parameters of weibull fit are good enourgh, assuming a p-value of 0.05, that means the 95% of values of the fit fall in the same bin of the actual measurements."
      ]
    },
    {
      "cell_type": "code",
      "execution_count": 18,
      "metadata": {
        "colab": {
          "base_uri": "https://localhost:8080/",
          "height": 206
        },
        "id": "YhGi2C2qGkrk",
        "outputId": "ff439d3e-8ced-4a01-c91d-a876fe172214"
      },
      "outputs": [
        {
          "output_type": "execute_result",
          "data": {
            "text/plain": [
              "                  Time  WindSpeed      Power Month\n",
              "0  2014-10-07 01:20:00       8.22  40.526173    10\n",
              "1  2014-10-07 01:30:00       8.09  38.552540    10\n",
              "2  2014-10-07 01:50:00       7.21  21.313683    10\n",
              "3  2014-10-07 02:00:00       6.75  18.031418    10\n",
              "4  2014-10-07 02:10:00       6.52  16.593281    10"
            ],
            "text/html": [
              "\n",
              "  <div id=\"df-d8f83800-743b-45a9-81fb-c0c51ab3df55\">\n",
              "    <div class=\"colab-df-container\">\n",
              "      <div>\n",
              "<style scoped>\n",
              "    .dataframe tbody tr th:only-of-type {\n",
              "        vertical-align: middle;\n",
              "    }\n",
              "\n",
              "    .dataframe tbody tr th {\n",
              "        vertical-align: top;\n",
              "    }\n",
              "\n",
              "    .dataframe thead th {\n",
              "        text-align: right;\n",
              "    }\n",
              "</style>\n",
              "<table border=\"1\" class=\"dataframe\">\n",
              "  <thead>\n",
              "    <tr style=\"text-align: right;\">\n",
              "      <th></th>\n",
              "      <th>Time</th>\n",
              "      <th>WindSpeed</th>\n",
              "      <th>Power</th>\n",
              "      <th>Month</th>\n",
              "    </tr>\n",
              "  </thead>\n",
              "  <tbody>\n",
              "    <tr>\n",
              "      <th>0</th>\n",
              "      <td>2014-10-07 01:20:00</td>\n",
              "      <td>8.22</td>\n",
              "      <td>40.526173</td>\n",
              "      <td>10</td>\n",
              "    </tr>\n",
              "    <tr>\n",
              "      <th>1</th>\n",
              "      <td>2014-10-07 01:30:00</td>\n",
              "      <td>8.09</td>\n",
              "      <td>38.552540</td>\n",
              "      <td>10</td>\n",
              "    </tr>\n",
              "    <tr>\n",
              "      <th>2</th>\n",
              "      <td>2014-10-07 01:50:00</td>\n",
              "      <td>7.21</td>\n",
              "      <td>21.313683</td>\n",
              "      <td>10</td>\n",
              "    </tr>\n",
              "    <tr>\n",
              "      <th>3</th>\n",
              "      <td>2014-10-07 02:00:00</td>\n",
              "      <td>6.75</td>\n",
              "      <td>18.031418</td>\n",
              "      <td>10</td>\n",
              "    </tr>\n",
              "    <tr>\n",
              "      <th>4</th>\n",
              "      <td>2014-10-07 02:10:00</td>\n",
              "      <td>6.52</td>\n",
              "      <td>16.593281</td>\n",
              "      <td>10</td>\n",
              "    </tr>\n",
              "  </tbody>\n",
              "</table>\n",
              "</div>\n",
              "      <button class=\"colab-df-convert\" onclick=\"convertToInteractive('df-d8f83800-743b-45a9-81fb-c0c51ab3df55')\"\n",
              "              title=\"Convert this dataframe to an interactive table.\"\n",
              "              style=\"display:none;\">\n",
              "        \n",
              "  <svg xmlns=\"http://www.w3.org/2000/svg\" height=\"24px\"viewBox=\"0 0 24 24\"\n",
              "       width=\"24px\">\n",
              "    <path d=\"M0 0h24v24H0V0z\" fill=\"none\"/>\n",
              "    <path d=\"M18.56 5.44l.94 2.06.94-2.06 2.06-.94-2.06-.94-.94-2.06-.94 2.06-2.06.94zm-11 1L8.5 8.5l.94-2.06 2.06-.94-2.06-.94L8.5 2.5l-.94 2.06-2.06.94zm10 10l.94 2.06.94-2.06 2.06-.94-2.06-.94-.94-2.06-.94 2.06-2.06.94z\"/><path d=\"M17.41 7.96l-1.37-1.37c-.4-.4-.92-.59-1.43-.59-.52 0-1.04.2-1.43.59L10.3 9.45l-7.72 7.72c-.78.78-.78 2.05 0 2.83L4 21.41c.39.39.9.59 1.41.59.51 0 1.02-.2 1.41-.59l7.78-7.78 2.81-2.81c.8-.78.8-2.07 0-2.86zM5.41 20L4 18.59l7.72-7.72 1.47 1.35L5.41 20z\"/>\n",
              "  </svg>\n",
              "      </button>\n",
              "      \n",
              "  <style>\n",
              "    .colab-df-container {\n",
              "      display:flex;\n",
              "      flex-wrap:wrap;\n",
              "      gap: 12px;\n",
              "    }\n",
              "\n",
              "    .colab-df-convert {\n",
              "      background-color: #E8F0FE;\n",
              "      border: none;\n",
              "      border-radius: 50%;\n",
              "      cursor: pointer;\n",
              "      display: none;\n",
              "      fill: #1967D2;\n",
              "      height: 32px;\n",
              "      padding: 0 0 0 0;\n",
              "      width: 32px;\n",
              "    }\n",
              "\n",
              "    .colab-df-convert:hover {\n",
              "      background-color: #E2EBFA;\n",
              "      box-shadow: 0px 1px 2px rgba(60, 64, 67, 0.3), 0px 1px 3px 1px rgba(60, 64, 67, 0.15);\n",
              "      fill: #174EA6;\n",
              "    }\n",
              "\n",
              "    [theme=dark] .colab-df-convert {\n",
              "      background-color: #3B4455;\n",
              "      fill: #D2E3FC;\n",
              "    }\n",
              "\n",
              "    [theme=dark] .colab-df-convert:hover {\n",
              "      background-color: #434B5C;\n",
              "      box-shadow: 0px 1px 3px 1px rgba(0, 0, 0, 0.15);\n",
              "      filter: drop-shadow(0px 1px 2px rgba(0, 0, 0, 0.3));\n",
              "      fill: #FFFFFF;\n",
              "    }\n",
              "  </style>\n",
              "\n",
              "      <script>\n",
              "        const buttonEl =\n",
              "          document.querySelector('#df-d8f83800-743b-45a9-81fb-c0c51ab3df55 button.colab-df-convert');\n",
              "        buttonEl.style.display =\n",
              "          google.colab.kernel.accessAllowed ? 'block' : 'none';\n",
              "\n",
              "        async function convertToInteractive(key) {\n",
              "          const element = document.querySelector('#df-d8f83800-743b-45a9-81fb-c0c51ab3df55');\n",
              "          const dataTable =\n",
              "            await google.colab.kernel.invokeFunction('convertToInteractive',\n",
              "                                                     [key], {});\n",
              "          if (!dataTable) return;\n",
              "\n",
              "          const docLinkHtml = 'Like what you see? Visit the ' +\n",
              "            '<a target=\"_blank\" href=https://colab.research.google.com/notebooks/data_table.ipynb>data table notebook</a>'\n",
              "            + ' to learn more about interactive tables.';\n",
              "          element.innerHTML = '';\n",
              "          dataTable['output_type'] = 'display_data';\n",
              "          await google.colab.output.renderOutput(dataTable, element);\n",
              "          const docLink = document.createElement('div');\n",
              "          docLink.innerHTML = docLinkHtml;\n",
              "          element.appendChild(docLink);\n",
              "        }\n",
              "      </script>\n",
              "    </div>\n",
              "  </div>\n",
              "  "
            ]
          },
          "metadata": {},
          "execution_count": 18
        }
      ],
      "source": [
        "df_copy = df.copy()\n",
        "df_copy['Month'] = df['Time'].str[5:7]\n",
        "df_copy.head()"
      ]
    },
    {
      "cell_type": "code",
      "execution_count": 19,
      "metadata": {
        "id": "SACr0AYaSCr8"
      },
      "outputs": [],
      "source": [
        "df_nov = df_copy.query('Month == \"11\"')"
      ]
    },
    {
      "cell_type": "code",
      "execution_count": 20,
      "metadata": {
        "colab": {
          "base_uri": "https://localhost:8080/",
          "height": 300
        },
        "id": "qA8cO8v9j2Pz",
        "outputId": "ce24402a-fcbb-4985-be26-2090f8847aa4"
      },
      "outputs": [
        {
          "output_type": "execute_result",
          "data": {
            "text/plain": [
              "         WindSpeed        Power\n",
              "count  3192.000000  3192.000000\n",
              "mean      7.190216    36.328200\n",
              "std       2.133270    28.876470\n",
              "min       2.120000     0.021368\n",
              "25%       5.560000    11.027384\n",
              "50%       7.160000    29.237354\n",
              "75%       8.660000    57.533865\n",
              "max      15.120000    99.589474"
            ],
            "text/html": [
              "\n",
              "  <div id=\"df-0a8f2076-b64b-4a67-bc57-10d73b0ba847\">\n",
              "    <div class=\"colab-df-container\">\n",
              "      <div>\n",
              "<style scoped>\n",
              "    .dataframe tbody tr th:only-of-type {\n",
              "        vertical-align: middle;\n",
              "    }\n",
              "\n",
              "    .dataframe tbody tr th {\n",
              "        vertical-align: top;\n",
              "    }\n",
              "\n",
              "    .dataframe thead th {\n",
              "        text-align: right;\n",
              "    }\n",
              "</style>\n",
              "<table border=\"1\" class=\"dataframe\">\n",
              "  <thead>\n",
              "    <tr style=\"text-align: right;\">\n",
              "      <th></th>\n",
              "      <th>WindSpeed</th>\n",
              "      <th>Power</th>\n",
              "    </tr>\n",
              "  </thead>\n",
              "  <tbody>\n",
              "    <tr>\n",
              "      <th>count</th>\n",
              "      <td>3192.000000</td>\n",
              "      <td>3192.000000</td>\n",
              "    </tr>\n",
              "    <tr>\n",
              "      <th>mean</th>\n",
              "      <td>7.190216</td>\n",
              "      <td>36.328200</td>\n",
              "    </tr>\n",
              "    <tr>\n",
              "      <th>std</th>\n",
              "      <td>2.133270</td>\n",
              "      <td>28.876470</td>\n",
              "    </tr>\n",
              "    <tr>\n",
              "      <th>min</th>\n",
              "      <td>2.120000</td>\n",
              "      <td>0.021368</td>\n",
              "    </tr>\n",
              "    <tr>\n",
              "      <th>25%</th>\n",
              "      <td>5.560000</td>\n",
              "      <td>11.027384</td>\n",
              "    </tr>\n",
              "    <tr>\n",
              "      <th>50%</th>\n",
              "      <td>7.160000</td>\n",
              "      <td>29.237354</td>\n",
              "    </tr>\n",
              "    <tr>\n",
              "      <th>75%</th>\n",
              "      <td>8.660000</td>\n",
              "      <td>57.533865</td>\n",
              "    </tr>\n",
              "    <tr>\n",
              "      <th>max</th>\n",
              "      <td>15.120000</td>\n",
              "      <td>99.589474</td>\n",
              "    </tr>\n",
              "  </tbody>\n",
              "</table>\n",
              "</div>\n",
              "      <button class=\"colab-df-convert\" onclick=\"convertToInteractive('df-0a8f2076-b64b-4a67-bc57-10d73b0ba847')\"\n",
              "              title=\"Convert this dataframe to an interactive table.\"\n",
              "              style=\"display:none;\">\n",
              "        \n",
              "  <svg xmlns=\"http://www.w3.org/2000/svg\" height=\"24px\"viewBox=\"0 0 24 24\"\n",
              "       width=\"24px\">\n",
              "    <path d=\"M0 0h24v24H0V0z\" fill=\"none\"/>\n",
              "    <path d=\"M18.56 5.44l.94 2.06.94-2.06 2.06-.94-2.06-.94-.94-2.06-.94 2.06-2.06.94zm-11 1L8.5 8.5l.94-2.06 2.06-.94-2.06-.94L8.5 2.5l-.94 2.06-2.06.94zm10 10l.94 2.06.94-2.06 2.06-.94-2.06-.94-.94-2.06-.94 2.06-2.06.94z\"/><path d=\"M17.41 7.96l-1.37-1.37c-.4-.4-.92-.59-1.43-.59-.52 0-1.04.2-1.43.59L10.3 9.45l-7.72 7.72c-.78.78-.78 2.05 0 2.83L4 21.41c.39.39.9.59 1.41.59.51 0 1.02-.2 1.41-.59l7.78-7.78 2.81-2.81c.8-.78.8-2.07 0-2.86zM5.41 20L4 18.59l7.72-7.72 1.47 1.35L5.41 20z\"/>\n",
              "  </svg>\n",
              "      </button>\n",
              "      \n",
              "  <style>\n",
              "    .colab-df-container {\n",
              "      display:flex;\n",
              "      flex-wrap:wrap;\n",
              "      gap: 12px;\n",
              "    }\n",
              "\n",
              "    .colab-df-convert {\n",
              "      background-color: #E8F0FE;\n",
              "      border: none;\n",
              "      border-radius: 50%;\n",
              "      cursor: pointer;\n",
              "      display: none;\n",
              "      fill: #1967D2;\n",
              "      height: 32px;\n",
              "      padding: 0 0 0 0;\n",
              "      width: 32px;\n",
              "    }\n",
              "\n",
              "    .colab-df-convert:hover {\n",
              "      background-color: #E2EBFA;\n",
              "      box-shadow: 0px 1px 2px rgba(60, 64, 67, 0.3), 0px 1px 3px 1px rgba(60, 64, 67, 0.15);\n",
              "      fill: #174EA6;\n",
              "    }\n",
              "\n",
              "    [theme=dark] .colab-df-convert {\n",
              "      background-color: #3B4455;\n",
              "      fill: #D2E3FC;\n",
              "    }\n",
              "\n",
              "    [theme=dark] .colab-df-convert:hover {\n",
              "      background-color: #434B5C;\n",
              "      box-shadow: 0px 1px 3px 1px rgba(0, 0, 0, 0.15);\n",
              "      filter: drop-shadow(0px 1px 2px rgba(0, 0, 0, 0.3));\n",
              "      fill: #FFFFFF;\n",
              "    }\n",
              "  </style>\n",
              "\n",
              "      <script>\n",
              "        const buttonEl =\n",
              "          document.querySelector('#df-0a8f2076-b64b-4a67-bc57-10d73b0ba847 button.colab-df-convert');\n",
              "        buttonEl.style.display =\n",
              "          google.colab.kernel.accessAllowed ? 'block' : 'none';\n",
              "\n",
              "        async function convertToInteractive(key) {\n",
              "          const element = document.querySelector('#df-0a8f2076-b64b-4a67-bc57-10d73b0ba847');\n",
              "          const dataTable =\n",
              "            await google.colab.kernel.invokeFunction('convertToInteractive',\n",
              "                                                     [key], {});\n",
              "          if (!dataTable) return;\n",
              "\n",
              "          const docLinkHtml = 'Like what you see? Visit the ' +\n",
              "            '<a target=\"_blank\" href=https://colab.research.google.com/notebooks/data_table.ipynb>data table notebook</a>'\n",
              "            + ' to learn more about interactive tables.';\n",
              "          element.innerHTML = '';\n",
              "          dataTable['output_type'] = 'display_data';\n",
              "          await google.colab.output.renderOutput(dataTable, element);\n",
              "          const docLink = document.createElement('div');\n",
              "          docLink.innerHTML = docLinkHtml;\n",
              "          element.appendChild(docLink);\n",
              "        }\n",
              "      </script>\n",
              "    </div>\n",
              "  </div>\n",
              "  "
            ]
          },
          "metadata": {},
          "execution_count": 20
        }
      ],
      "source": [
        "df_nov.describe()"
      ]
    },
    {
      "cell_type": "code",
      "execution_count": 21,
      "metadata": {
        "id": "lDsllpqCXqz6"
      },
      "outputs": [],
      "source": [
        "#grouping velocities in 0.1 m/s width bins\n",
        "bins01 = [i/10 for i in range (0, 200, 1)]\n",
        "labels1 = [i/10 for i in range (1, 200, 1)]\n",
        "df_nov01 = df_nov.copy()\n",
        "df_nov01['Windspeedbin'] = pd.cut(df_nov['WindSpeed'], bins01, labels=labels1)"
      ]
    },
    {
      "cell_type": "code",
      "execution_count": 22,
      "metadata": {
        "id": "EnkGWybluxsu"
      },
      "outputs": [],
      "source": [
        "#Counting the frequencies of each bin\n",
        "df_grouped01 = df_nov01.groupby(['Windspeedbin'], as_index=False).count()"
      ]
    },
    {
      "cell_type": "code",
      "execution_count": 23,
      "metadata": {
        "colab": {
          "base_uri": "https://localhost:8080/"
        },
        "id": "LLQ8XAY3zY6x",
        "outputId": "461ce5c6-fdbe-4930-9f42-07e7c4a7b0c4"
      },
      "outputs": [
        {
          "output_type": "stream",
          "name": "stderr",
          "text": [
            "/usr/local/lib/python3.7/dist-packages/pandas/core/indexing.py:1732: SettingWithCopyWarning: \n",
            "A value is trying to be set on a copy of a slice from a DataFrame\n",
            "\n",
            "See the caveats in the documentation: https://pandas.pydata.org/pandas-docs/stable/user_guide/indexing.html#returning-a-view-versus-a-copy\n",
            "  self._setitem_single_block(indexer, value, name)\n"
          ]
        }
      ],
      "source": [
        "#A chi2 test will be used. When the frequencies are low, say, lower than 5,\n",
        "#its better group with other bins to minimize discrepancies between observed and expected data\n",
        "#Then we group bins until frequencies turn into 5 or higher\n",
        "\n",
        "df_test01 = df_grouped01.copy()\n",
        "drop_that_after = []\n",
        "for i in range (1, len(df_test01['WindSpeed']), 1):\n",
        "  if df_test01['WindSpeed'].iloc[i-1] < 5:\n",
        "    df_test01['WindSpeed'].iloc[i] = df_test01['WindSpeed'].iloc[i] + df_test01['WindSpeed'].iloc[i-1]\n",
        "    drop_that_after.append(i-1)\n",
        "df_test01 = df_test01.drop(df_test01.index[drop_that_after])"
      ]
    },
    {
      "cell_type": "code",
      "execution_count": 24,
      "metadata": {
        "colab": {
          "base_uri": "https://localhost:8080/",
          "height": 206
        },
        "id": "hEFZ8f49UaXP",
        "outputId": "0accdb1f-eebd-446f-dfc1-acdd5234158d"
      },
      "outputs": [
        {
          "output_type": "execute_result",
          "data": {
            "text/plain": [
              "   Windspeedbin  Time  WindSpeed  Power  Month\n",
              "24          2.5     3          6      3      3\n",
              "26          2.7     2          6      2      2\n",
              "29          3.0    11         15     11     11\n",
              "30          3.1    16         16     16     16\n",
              "31          3.2    18         18     18     18"
            ],
            "text/html": [
              "\n",
              "  <div id=\"df-90ce4722-4490-4180-bd49-1f7dbcbf2107\">\n",
              "    <div class=\"colab-df-container\">\n",
              "      <div>\n",
              "<style scoped>\n",
              "    .dataframe tbody tr th:only-of-type {\n",
              "        vertical-align: middle;\n",
              "    }\n",
              "\n",
              "    .dataframe tbody tr th {\n",
              "        vertical-align: top;\n",
              "    }\n",
              "\n",
              "    .dataframe thead th {\n",
              "        text-align: right;\n",
              "    }\n",
              "</style>\n",
              "<table border=\"1\" class=\"dataframe\">\n",
              "  <thead>\n",
              "    <tr style=\"text-align: right;\">\n",
              "      <th></th>\n",
              "      <th>Windspeedbin</th>\n",
              "      <th>Time</th>\n",
              "      <th>WindSpeed</th>\n",
              "      <th>Power</th>\n",
              "      <th>Month</th>\n",
              "    </tr>\n",
              "  </thead>\n",
              "  <tbody>\n",
              "    <tr>\n",
              "      <th>24</th>\n",
              "      <td>2.5</td>\n",
              "      <td>3</td>\n",
              "      <td>6</td>\n",
              "      <td>3</td>\n",
              "      <td>3</td>\n",
              "    </tr>\n",
              "    <tr>\n",
              "      <th>26</th>\n",
              "      <td>2.7</td>\n",
              "      <td>2</td>\n",
              "      <td>6</td>\n",
              "      <td>2</td>\n",
              "      <td>2</td>\n",
              "    </tr>\n",
              "    <tr>\n",
              "      <th>29</th>\n",
              "      <td>3.0</td>\n",
              "      <td>11</td>\n",
              "      <td>15</td>\n",
              "      <td>11</td>\n",
              "      <td>11</td>\n",
              "    </tr>\n",
              "    <tr>\n",
              "      <th>30</th>\n",
              "      <td>3.1</td>\n",
              "      <td>16</td>\n",
              "      <td>16</td>\n",
              "      <td>16</td>\n",
              "      <td>16</td>\n",
              "    </tr>\n",
              "    <tr>\n",
              "      <th>31</th>\n",
              "      <td>3.2</td>\n",
              "      <td>18</td>\n",
              "      <td>18</td>\n",
              "      <td>18</td>\n",
              "      <td>18</td>\n",
              "    </tr>\n",
              "  </tbody>\n",
              "</table>\n",
              "</div>\n",
              "      <button class=\"colab-df-convert\" onclick=\"convertToInteractive('df-90ce4722-4490-4180-bd49-1f7dbcbf2107')\"\n",
              "              title=\"Convert this dataframe to an interactive table.\"\n",
              "              style=\"display:none;\">\n",
              "        \n",
              "  <svg xmlns=\"http://www.w3.org/2000/svg\" height=\"24px\"viewBox=\"0 0 24 24\"\n",
              "       width=\"24px\">\n",
              "    <path d=\"M0 0h24v24H0V0z\" fill=\"none\"/>\n",
              "    <path d=\"M18.56 5.44l.94 2.06.94-2.06 2.06-.94-2.06-.94-.94-2.06-.94 2.06-2.06.94zm-11 1L8.5 8.5l.94-2.06 2.06-.94-2.06-.94L8.5 2.5l-.94 2.06-2.06.94zm10 10l.94 2.06.94-2.06 2.06-.94-2.06-.94-.94-2.06-.94 2.06-2.06.94z\"/><path d=\"M17.41 7.96l-1.37-1.37c-.4-.4-.92-.59-1.43-.59-.52 0-1.04.2-1.43.59L10.3 9.45l-7.72 7.72c-.78.78-.78 2.05 0 2.83L4 21.41c.39.39.9.59 1.41.59.51 0 1.02-.2 1.41-.59l7.78-7.78 2.81-2.81c.8-.78.8-2.07 0-2.86zM5.41 20L4 18.59l7.72-7.72 1.47 1.35L5.41 20z\"/>\n",
              "  </svg>\n",
              "      </button>\n",
              "      \n",
              "  <style>\n",
              "    .colab-df-container {\n",
              "      display:flex;\n",
              "      flex-wrap:wrap;\n",
              "      gap: 12px;\n",
              "    }\n",
              "\n",
              "    .colab-df-convert {\n",
              "      background-color: #E8F0FE;\n",
              "      border: none;\n",
              "      border-radius: 50%;\n",
              "      cursor: pointer;\n",
              "      display: none;\n",
              "      fill: #1967D2;\n",
              "      height: 32px;\n",
              "      padding: 0 0 0 0;\n",
              "      width: 32px;\n",
              "    }\n",
              "\n",
              "    .colab-df-convert:hover {\n",
              "      background-color: #E2EBFA;\n",
              "      box-shadow: 0px 1px 2px rgba(60, 64, 67, 0.3), 0px 1px 3px 1px rgba(60, 64, 67, 0.15);\n",
              "      fill: #174EA6;\n",
              "    }\n",
              "\n",
              "    [theme=dark] .colab-df-convert {\n",
              "      background-color: #3B4455;\n",
              "      fill: #D2E3FC;\n",
              "    }\n",
              "\n",
              "    [theme=dark] .colab-df-convert:hover {\n",
              "      background-color: #434B5C;\n",
              "      box-shadow: 0px 1px 3px 1px rgba(0, 0, 0, 0.15);\n",
              "      filter: drop-shadow(0px 1px 2px rgba(0, 0, 0, 0.3));\n",
              "      fill: #FFFFFF;\n",
              "    }\n",
              "  </style>\n",
              "\n",
              "      <script>\n",
              "        const buttonEl =\n",
              "          document.querySelector('#df-90ce4722-4490-4180-bd49-1f7dbcbf2107 button.colab-df-convert');\n",
              "        buttonEl.style.display =\n",
              "          google.colab.kernel.accessAllowed ? 'block' : 'none';\n",
              "\n",
              "        async function convertToInteractive(key) {\n",
              "          const element = document.querySelector('#df-90ce4722-4490-4180-bd49-1f7dbcbf2107');\n",
              "          const dataTable =\n",
              "            await google.colab.kernel.invokeFunction('convertToInteractive',\n",
              "                                                     [key], {});\n",
              "          if (!dataTable) return;\n",
              "\n",
              "          const docLinkHtml = 'Like what you see? Visit the ' +\n",
              "            '<a target=\"_blank\" href=https://colab.research.google.com/notebooks/data_table.ipynb>data table notebook</a>'\n",
              "            + ' to learn more about interactive tables.';\n",
              "          element.innerHTML = '';\n",
              "          dataTable['output_type'] = 'display_data';\n",
              "          await google.colab.output.renderOutput(dataTable, element);\n",
              "          const docLink = document.createElement('div');\n",
              "          docLink.innerHTML = docLinkHtml;\n",
              "          element.appendChild(docLink);\n",
              "        }\n",
              "      </script>\n",
              "    </div>\n",
              "  </div>\n",
              "  "
            ]
          },
          "metadata": {},
          "execution_count": 24
        }
      ],
      "source": [
        "df_test01.head()"
      ]
    },
    {
      "cell_type": "code",
      "execution_count": 25,
      "metadata": {
        "id": "coUELR33hTyr"
      },
      "outputs": [],
      "source": [
        "#Calculating the density for each bin, after that just mutiply to obtain the expected frequency\n",
        "f_exp = []\n",
        "for a in range(1, len(df_test01.Windspeedbin), 1):\n",
        "  f_exp.append(weibull_min.cdf(df_test01.iloc[a]['Windspeedbin'], wshape, scale=wscale)-weibull_min.cdf(df_test01.iloc[a-1]['Windspeedbin'], wshape, scale=wscale))"
      ]
    },
    {
      "cell_type": "code",
      "execution_count": 26,
      "metadata": {
        "id": "BDTUDAamKVCW"
      },
      "outputs": [],
      "source": [
        "f_obs = [i for i in df_test01['WindSpeed']]\n",
        "f_exp = [i*3192 for i in f_exp]"
      ]
    },
    {
      "cell_type": "code",
      "execution_count": 27,
      "metadata": {
        "colab": {
          "base_uri": "https://localhost:8080/"
        },
        "id": "3y0nSqy2W4eB",
        "outputId": "2587589d-946c-4e3c-be28-90a566d48c90"
      },
      "outputs": [
        {
          "output_type": "stream",
          "name": "stdout",
          "text": [
            "6\n",
            "0\n"
          ]
        }
      ],
      "source": [
        "print(f_obs[0])\n",
        "print(f_obs[len(f_obs)-1])"
      ]
    },
    {
      "cell_type": "code",
      "execution_count": 28,
      "metadata": {
        "colab": {
          "base_uri": "https://localhost:8080/"
        },
        "id": "l4RccMZc-Jhd",
        "outputId": "c96b2e28-ac23-43b6-d62a-1e81f854e0a7"
      },
      "outputs": [
        {
          "output_type": "execute_result",
          "data": {
            "text/plain": [
              "0"
            ]
          },
          "metadata": {},
          "execution_count": 28
        }
      ],
      "source": [
        "f_obs.pop()"
      ]
    },
    {
      "cell_type": "code",
      "execution_count": 29,
      "metadata": {
        "colab": {
          "base_uri": "https://localhost:8080/"
        },
        "id": "vYi2_0w0NSBz",
        "outputId": "3e3f1532-d8d4-4728-af3e-823900eefdbb"
      },
      "outputs": [
        {
          "output_type": "execute_result",
          "data": {
            "text/plain": [
              "649.4241670196036"
            ]
          },
          "metadata": {},
          "execution_count": 29
        }
      ],
      "source": [
        "#chi square is a value that represent the error\n",
        "wchisqr = 0\n",
        "for i in range(0, len(f_exp), 1):\n",
        "  wchisqr = wchisqr + (f_obs[i]-f_exp[i])**2/f_exp[i]\n",
        "wchisqr"
      ]
    },
    {
      "cell_type": "code",
      "execution_count": 30,
      "metadata": {
        "colab": {
          "base_uri": "https://localhost:8080/"
        },
        "id": "eHnqkBKy-Tp-",
        "outputId": "ab3af4c0-6d85-48d4-cd39-f767b327d8dd"
      },
      "outputs": [
        {
          "output_type": "stream",
          "name": "stdout",
          "text": [
            "0.0\n"
          ]
        }
      ],
      "source": [
        "#The null hypothesis is that the fit is good enough and we will accept it on p-value > 0.05\n",
        "p_value = 1 - chi2.cdf(x=wchisqr, df=(len(f_obs)-2-1))\n",
        "print(p_value)"
      ]
    },
    {
      "cell_type": "markdown",
      "metadata": {
        "id": "0uz5gpkkG1w7"
      },
      "source": [
        "As we see the va value of chi-square is too high and the p-value is almost 0, then the null hypothesis is rejected. Let's what happens if we change chi-square to a critical value of chi-square"
      ]
    },
    {
      "cell_type": "code",
      "execution_count": 31,
      "metadata": {
        "colab": {
          "base_uri": "https://localhost:8080/"
        },
        "id": "Y8fqaH2aHlbR",
        "outputId": "2d37b32d-bd46-4370-8f98-d2a40687998e"
      },
      "outputs": [
        {
          "output_type": "stream",
          "name": "stdout",
          "text": [
            "0.04999999999999993 117.63165114234555\n"
          ]
        }
      ],
      "source": [
        "critical_chi = chi2.ppf(q=0.95, df=(len(f_obs)-2-1))\n",
        "p_value_critical = 1 - chi2.cdf(x=critical_chi, df=(len(f_obs)-2-1))\n",
        "print(p_value_critical, critical_chi)"
      ]
    },
    {
      "cell_type": "markdown",
      "metadata": {
        "id": "L3ti05XAZ7o6"
      },
      "source": [
        "Lets see what happens if we how the november month data looks like"
      ]
    },
    {
      "cell_type": "code",
      "execution_count": 32,
      "metadata": {
        "colab": {
          "base_uri": "https://localhost:8080/",
          "height": 265
        },
        "id": "ICcHffTNaHXk",
        "outputId": "ba9843e4-f019-4029-908d-1d8cccaec838"
      },
      "outputs": [
        {
          "output_type": "display_data",
          "data": {
            "text/plain": [
              "<Figure size 432x288 with 1 Axes>"
            ],
            "image/png": "[encoded data removed]"
          },
          "metadata": {
            "needs_background": "light"
          }
        }
      ],
      "source": [
        "plt.plot(x, dist, 'k-', lw=2, label='frozen pdf')\n",
        "plt.hist(df_nov.WindSpeed, 200, density=True)\n",
        "plt.show()"
      ]
    },
    {
      "cell_type": "markdown",
      "metadata": {
        "id": "3uYtSnWPafz5"
      },
      "source": [
        "lets try to fit a new curve using only the november data"
      ]
    },
    {
      "cell_type": "code",
      "execution_count": 33,
      "metadata": {
        "colab": {
          "base_uri": "https://localhost:8080/",
          "height": 265
        },
        "id": "xbR5sPnvaeEz",
        "outputId": "650a615e-7940-4d29-bda2-27f5891852e7"
      },
      "outputs": [
        {
          "output_type": "display_data",
          "data": {
            "text/plain": [
              "<Figure size 432x288 with 1 Axes>"
            ],
            "image/png": "[encoded data removed]"
          },
          "metadata": {
            "needs_background": "light"
          }
        }
      ],
      "source": [
        "weibull_nov = weibull_min.fit(df_nov.WindSpeed) \n",
        "wnshape, wnloc, wnscale = weibull_nov[0], weibull_nov[1], weibull_nov[2]\n",
        "dist_nov = weibull_min.pdf(x, wnshape, loc=wnloc,scale=wnscale) \n",
        "\n",
        "plt.plot(x, dist_nov, 'k-', lw=2, label='frozen pdf')\n",
        "plt.hist(df_nov.WindSpeed, 200, density=True)\n",
        "plt.show()\n"
      ]
    },
    {
      "cell_type": "markdown",
      "metadata": {
        "id": "dUqBOhYNeCBz"
      },
      "source": [
        "Looks better, let's make the test again"
      ]
    },
    {
      "cell_type": "code",
      "execution_count": 34,
      "metadata": {
        "id": "HvD5BjJxeHaN"
      },
      "outputs": [],
      "source": [
        "wnf_exp = []\n",
        "for a in range(1, len(df_test01.Windspeedbin), 1):\n",
        "  wnf_exp.append(weibull_min.cdf(df_test01.iloc[a]['Windspeedbin'], wnshape, loc=wnloc,scale=wnscale)-weibull_min.cdf(df_test01.iloc[a-1]['Windspeedbin'], wnshape, loc=wnloc, scale=wnscale))"
      ]
    },
    {
      "cell_type": "code",
      "execution_count": 35,
      "metadata": {
        "colab": {
          "base_uri": "https://localhost:8080/"
        },
        "id": "p6gaQFTkeeVv",
        "outputId": "b3c41402-92fc-4028-857e-bed6d7e9b541"
      },
      "outputs": [
        {
          "output_type": "execute_result",
          "data": {
            "text/plain": [
              "3915.8979474365733"
            ]
          },
          "metadata": {},
          "execution_count": 35
        }
      ],
      "source": [
        "wnchisqr = 0\n",
        "for i in range(0, len(wnf_exp), 1):\n",
        "  wnchisqr = wnchisqr + (f_obs[i]-wnf_exp[i])**2/f_exp[i]\n",
        "wnchisqr"
      ]
    },
    {
      "cell_type": "markdown",
      "metadata": {
        "id": "JiNmtg4_foHh"
      },
      "source": [
        "Worst chisquare score, but we can see that \"hole\" in the middle of the curve, maybe if we turn the bins shorter we can fix that"
      ]
    },
    {
      "cell_type": "code",
      "execution_count": 36,
      "metadata": {
        "colab": {
          "base_uri": "https://localhost:8080/"
        },
        "id": "qsv8ezAzA-2p",
        "outputId": "6d50cd78-039a-4892-df48-ba29209cfae8"
      },
      "outputs": [
        {
          "output_type": "stream",
          "name": "stderr",
          "text": [
            "/usr/local/lib/python3.7/dist-packages/pandas/core/indexing.py:1732: SettingWithCopyWarning: \n",
            "A value is trying to be set on a copy of a slice from a DataFrame\n",
            "\n",
            "See the caveats in the documentation: https://pandas.pydata.org/pandas-docs/stable/user_guide/indexing.html#returning-a-view-versus-a-copy\n",
            "  self._setitem_single_block(indexer, value, name)\n"
          ]
        }
      ],
      "source": [
        "bins05 = [i/20 for i in range (0, 400, 1)]\n",
        "labels1 = [i/20 for i in range (1, 400, 1)]\n",
        "df_nov05 = df_nov.copy()\n",
        "df_nov05['Windspeedbin'] = pd.cut(df_nov['WindSpeed'], bins05, labels=labels1)\n",
        "df_grouped05 = df_nov05.groupby(['Windspeedbin'], as_index=False).count()\n",
        "df_test05 = df_grouped05.copy()\n",
        "drop_that_after = []\n",
        "\n",
        "for i in range (1, len(df_test05['WindSpeed']), 1):\n",
        "  if df_test05['WindSpeed'].iloc[i-1] < 5:\n",
        "    df_test05['WindSpeed'].iloc[i] = df_test05['WindSpeed'].iloc[i] + df_test05['WindSpeed'].iloc[i-1]\n",
        "    drop_that_after.append(i-1)\n",
        "df_test05 = df_test05.drop(df_test05.index[drop_that_after])"
      ]
    },
    {
      "cell_type": "code",
      "execution_count": 37,
      "metadata": {
        "colab": {
          "base_uri": "https://localhost:8080/"
        },
        "id": "2hsQEwoGXHux",
        "outputId": "44617f17-5f66-4e21-f610-3ad1cbcdd6a2"
      },
      "outputs": [
        {
          "output_type": "execute_result",
          "data": {
            "text/plain": [
              "148.70627613081416"
            ]
          },
          "metadata": {},
          "execution_count": 37
        }
      ],
      "source": [
        "wnf_exp05 = []\n",
        "f_obs05 = [i for i in df_test05['WindSpeed']]\n",
        "for a in range(1, len(df_test05.Windspeedbin), 1):\n",
        "  wnf_exp05.append(weibull_min.cdf(df_test05.iloc[a]['Windspeedbin'], wnshape, loc=wnloc,scale=wnscale)-weibull_min.cdf(df_test05.iloc[a-1]['Windspeedbin'], wnshape, loc=wnloc, scale=wnscale))\n",
        "\n",
        "wnf_exp05 = [i*3192 for i in wnf_exp05]\n",
        "wnchisqr05 = 0\n",
        "for i in range(0, len(f_exp), 1):\n",
        "  wnchisqr05 = wnchisqr05 + (f_obs05[i]-wnf_exp05[i])**2/wnf_exp05[i]\n",
        "wnchisqr05"
      ]
    },
    {
      "cell_type": "code",
      "execution_count": 38,
      "metadata": {
        "colab": {
          "base_uri": "https://localhost:8080/",
          "height": 265
        },
        "id": "RxZwgNJiZjNn",
        "outputId": "4749894f-a132-4a5a-ef9c-59a5a5a2156d"
      },
      "outputs": [
        {
          "output_type": "display_data",
          "data": {
            "text/plain": [
              "<Figure size 432x288 with 1 Axes>"
            ],
            "image/png": "[encoded data removed]"
          },
          "metadata": {
            "needs_background": "light"
          }
        }
      ],
      "source": [
        "weibull_nov = weibull_min.fit(df_nov.WindSpeed) \n",
        "wnshape, wnloc, wnscale = weibull_nov[0], weibull_nov[1], weibull_nov[2]\n",
        "dist_nov = weibull_min.pdf(x, wnshape, loc=wnloc,scale=wnscale) \n",
        "\n",
        "plt.plot(x, dist_nov, 'k-', lw=2, label='frozen pdf')\n",
        "plt.hist(df_nov.WindSpeed, 400, density=True)\n",
        "plt.show()"
      ]
    },
    {
      "cell_type": "code",
      "execution_count": 39,
      "metadata": {
        "colab": {
          "base_uri": "https://localhost:8080/"
        },
        "id": "4HIpKJ_ZapyV",
        "outputId": "45e64cef-2ce3-497a-a9e1-6689e73900d0"
      },
      "outputs": [
        {
          "output_type": "execute_result",
          "data": {
            "text/plain": [
              "183"
            ]
          },
          "metadata": {},
          "execution_count": 39
        }
      ],
      "source": [
        "len(f_obs05)"
      ]
    },
    {
      "cell_type": "code",
      "execution_count": 40,
      "metadata": {
        "colab": {
          "base_uri": "https://localhost:8080/"
        },
        "id": "PACASbLqZ8UU",
        "outputId": "5505970d-d3b8-4c56-a8e8-bb16296fe471"
      },
      "outputs": [
        {
          "output_type": "stream",
          "name": "stdout",
          "text": [
            "0.957307902532472\n"
          ]
        }
      ],
      "source": [
        "#the chi-square critical value change due the chenge of the degrees of freedom\n",
        "#lets see the actual p-value for this case\n",
        "p_value = 1 - chi2.cdf(x=wnchisqr05, df=(len(f_obs05)-2-1))\n",
        "print(p_value)"
      ]
    },
    {
      "cell_type": "markdown",
      "metadata": {
        "id": "5nWm23jqbISn"
      },
      "source": [
        "Nice fit, low chi-square score for such amount of degrees of freedom."
      ]
    },
    {
      "cell_type": "markdown",
      "metadata": {
        "id": "sc54IeMeJuqh"
      },
      "source": [
        "# **NORMAL FIT**"
      ]
    },
    {
      "cell_type": "markdown",
      "metadata": {
        "id": "vvokoo9mO_tB"
      },
      "source": [
        "## Importing the statistical function norm from scipy"
      ]
    },
    {
      "cell_type": "code",
      "execution_count": 41,
      "metadata": {
        "id": "xwsl0jYsOkvC"
      },
      "outputs": [],
      "source": [
        "from scipy.stats import norm"
      ]
    },
    {
      "cell_type": "markdown",
      "metadata": {
        "id": "w0gwNMuDPKlH"
      },
      "source": [
        "## Fitting the same data but in normal distribution"
      ]
    },
    {
      "cell_type": "code",
      "execution_count": 42,
      "metadata": {
        "id": "lsAbG0IxO8D0"
      },
      "outputs": [],
      "source": [
        "normal = norm.fit(df['WindSpeed'])\n",
        "nmean, nsd = normal[0], normal[1]"
      ]
    },
    {
      "cell_type": "code",
      "execution_count": 43,
      "metadata": {
        "colab": {
          "base_uri": "https://localhost:8080/",
          "height": 265
        },
        "id": "Yp0vqxiQPm7a",
        "outputId": "6cbdbc2e-219e-4e2f-ca4b-70f723c56557"
      },
      "outputs": [
        {
          "output_type": "display_data",
          "data": {
            "text/plain": [
              "<Figure size 432x288 with 1 Axes>"
            ],
            "image/png": "[encoded data removed]"
          },
          "metadata": {
            "needs_background": "light"
          }
        }
      ],
      "source": [
        "p = norm.pdf(x, nmean, nsd)\n",
        "plt.plot(x, p)\n",
        "plt.hist(df.WindSpeed, bins=200, density=True)\n",
        "plt.show()"
      ]
    },
    {
      "cell_type": "markdown",
      "metadata": {
        "id": "Qk6kJfCbTvze"
      },
      "source": [
        "## Chi-square test"
      ]
    },
    {
      "cell_type": "code",
      "execution_count": 44,
      "metadata": {
        "id": "V2TMal7YRNsu"
      },
      "outputs": [],
      "source": [
        "nf_exp = []\n",
        "for a in range(1, len(df_test01.Windspeedbin), 1):\n",
        "  nf_exp.append(norm.cdf(df_test01.iloc[a]['Windspeedbin'], nmean, nsd)-norm.cdf(df_test01.iloc[a-1]['Windspeedbin'], nmean, nsd))\n",
        "nf_exp = [i*3192 for i in nf_exp]"
      ]
    },
    {
      "cell_type": "code",
      "execution_count": 45,
      "metadata": {
        "colab": {
          "base_uri": "https://localhost:8080/"
        },
        "id": "AAJOY40UUIwE",
        "outputId": "d1ad5dee-1109-484a-d26a-260b80a52823"
      },
      "outputs": [
        {
          "output_type": "execute_result",
          "data": {
            "text/plain": [
              "610.2407146983874"
            ]
          },
          "metadata": {},
          "execution_count": 45
        }
      ],
      "source": [
        "nchisqr = 0\n",
        "for i in range(0, len(nf_exp), 1):\n",
        "  nchisqr = nchisqr + (f_obs[i]-nf_exp[i])**2/nf_exp[i]\n",
        "nchisqr"
      ]
    },
    {
      "cell_type": "markdown",
      "metadata": {
        "id": "-7CUNzsXcapd"
      },
      "source": [
        "Lets use november data to fit the curve"
      ]
    },
    {
      "cell_type": "code",
      "execution_count": 46,
      "metadata": {
        "id": "YtaDGFZwckLl"
      },
      "outputs": [],
      "source": [
        "nnormal01 = norm.fit(df_nov['WindSpeed'])\n",
        "nnmean, nnsd = nnormal01[0], nnormal01[1]"
      ]
    },
    {
      "cell_type": "code",
      "execution_count": 47,
      "metadata": {
        "id": "QP2O-cSicwc1"
      },
      "outputs": [],
      "source": [
        "nf_exp = []\n",
        "for a in range(1, len(df_test01.Windspeedbin), 1):\n",
        "  nf_exp.append(norm.cdf(df_test01.iloc[a]['Windspeedbin'], nnmean, nnsd)-norm.cdf(df_test01.iloc[a-1]['Windspeedbin'], nnmean, nnsd))\n",
        "nf_exp = [i*3192 for i in nf_exp]"
      ]
    },
    {
      "cell_type": "code",
      "execution_count": 48,
      "metadata": {
        "colab": {
          "base_uri": "https://localhost:8080/"
        },
        "id": "YEJCJlTqc_BM",
        "outputId": "bea0ea04-e9b7-44d3-8f17-2c4d2daccc03"
      },
      "outputs": [
        {
          "output_type": "execute_result",
          "data": {
            "text/plain": [
              "264.5189257740384"
            ]
          },
          "metadata": {},
          "execution_count": 48
        }
      ],
      "source": [
        "nchisqr = 0\n",
        "for i in range(0, len(nf_exp), 1):\n",
        "  nchisqr = nchisqr + (f_obs[i]-nf_exp[i])**2/nf_exp[i]\n",
        "nchisqr"
      ]
    },
    {
      "cell_type": "code",
      "execution_count": 49,
      "metadata": {
        "colab": {
          "base_uri": "https://localhost:8080/"
        },
        "id": "YR2Jn6wldkOi",
        "outputId": "0e1f3f7a-6070-4bbd-cba3-037b775a7e6d"
      },
      "outputs": [
        {
          "output_type": "execute_result",
          "data": {
            "text/plain": [
              "(7.190216165413533, 2.132935657946973)"
            ]
          },
          "metadata": {},
          "execution_count": 49
        }
      ],
      "source": [
        "nnormal01"
      ]
    },
    {
      "cell_type": "code",
      "execution_count": 50,
      "metadata": {
        "colab": {
          "base_uri": "https://localhost:8080/",
          "height": 265
        },
        "id": "Xac8ySypdDj2",
        "outputId": "9545a6f5-507d-4c4c-b92c-e65d98de3ddb"
      },
      "outputs": [
        {
          "output_type": "display_data",
          "data": {
            "text/plain": [
              "<Figure size 432x288 with 1 Axes>"
            ],
            "image/png": "[encoded data removed]"
          },
          "metadata": {
            "needs_background": "light"
          }
        }
      ],
      "source": [
        "np = norm.pdf(x, nnmean, nnsd)\n",
        "plt.plot(x, np)\n",
        "plt.hist(df_nov.WindSpeed, bins=200, density=True)\n",
        "plt.show()"
      ]
    },
    {
      "cell_type": "markdown",
      "metadata": {
        "id": "UNmQN65ud2Nh"
      },
      "source": [
        "Doing the same process and split the bins in half"
      ]
    },
    {
      "cell_type": "code",
      "execution_count": 51,
      "metadata": {
        "id": "PUtytQymd6uC"
      },
      "outputs": [],
      "source": [
        "nf_exp05 = []\n",
        "for a in range(1, len(df_test05.Windspeedbin), 1):\n",
        "  nf_exp05.append(norm.cdf(df_test05.iloc[a]['Windspeedbin'], nnmean, nnsd)-norm.cdf(df_test05.iloc[a-1]['Windspeedbin'], nnmean, nnsd))\n",
        "nf_exp05 = [i*3192 for i in nf_exp05]\n"
      ]
    },
    {
      "cell_type": "code",
      "execution_count": 52,
      "metadata": {
        "colab": {
          "base_uri": "https://localhost:8080/"
        },
        "id": "x-U5DWKPe9Q_",
        "outputId": "8bb746b7-7763-44a8-a9af-fa8811908847"
      },
      "outputs": [
        {
          "output_type": "stream",
          "name": "stdout",
          "text": [
            "183 182\n"
          ]
        }
      ],
      "source": [
        "print(len(f_obs05), len(nf_exp05))"
      ]
    },
    {
      "cell_type": "code",
      "execution_count": 53,
      "metadata": {
        "colab": {
          "base_uri": "https://localhost:8080/"
        },
        "id": "memYMzlohcT4",
        "outputId": "0fc36ef1-90c0-4377-c482-35d668933b13"
      },
      "outputs": [
        {
          "output_type": "stream",
          "name": "stdout",
          "text": [
            "6 2\n"
          ]
        }
      ],
      "source": [
        "print(f_obs05[0], f_obs05[len(f_obs05)-1])"
      ]
    },
    {
      "cell_type": "code",
      "execution_count": 54,
      "metadata": {
        "colab": {
          "base_uri": "https://localhost:8080/"
        },
        "id": "BQZYnHZ_huIB",
        "outputId": "681d998e-aed0-4db4-f1ad-af82bd72dc07"
      },
      "outputs": [
        {
          "output_type": "execute_result",
          "data": {
            "text/plain": [
              "2"
            ]
          },
          "metadata": {},
          "execution_count": 54
        }
      ],
      "source": [
        "f_obs05.pop()"
      ]
    },
    {
      "cell_type": "code",
      "execution_count": 55,
      "metadata": {
        "colab": {
          "base_uri": "https://localhost:8080/"
        },
        "id": "e1J6gUW6g_kn",
        "outputId": "07bf9baa-7147-4408-c50e-933f55121750"
      },
      "outputs": [
        {
          "output_type": "execute_result",
          "data": {
            "text/plain": [
              "294.1413521045471"
            ]
          },
          "metadata": {},
          "execution_count": 55
        }
      ],
      "source": [
        "nchisqr05 = 0\n",
        "for i in range(0, len(nf_exp05), 1):\n",
        "  nchisqr05 = nchisqr05 + (f_obs05[i]-nf_exp05[i])**2/nf_exp05[i]\n",
        "nchisqr05"
      ]
    },
    {
      "cell_type": "markdown",
      "metadata": {
        "id": "nzwIYS7MgxGJ"
      },
      "source": [
        "##Prediction using ARMA model"
      ]
    },
    {
      "cell_type": "code",
      "execution_count": 56,
      "metadata": {
        "colab": {
          "base_uri": "https://localhost:8080/"
        },
        "id": "Tl4uVVPgg5YJ",
        "outputId": "b429f013-0847-4811-9b5c-76acb86c2d63"
      },
      "outputs": [
        {
          "output_type": "stream",
          "name": "stdout",
          "text": [
            "<class 'pandas.core.frame.DataFrame'>\n",
            "RangeIndex: 39195 entries, 0 to 39194\n",
            "Data columns (total 3 columns):\n",
            " #   Column     Non-Null Count  Dtype  \n",
            "---  ------     --------------  -----  \n",
            " 0   Time       39195 non-null  object \n",
            " 1   WindSpeed  39195 non-null  float64\n",
            " 2   Power      39195 non-null  float64\n",
            "dtypes: float64(2), object(1)\n",
            "memory usage: 918.8+ KB\n"
          ]
        }
      ],
      "source": [
        "df.info()\n"
      ]
    },
    {
      "cell_type": "code",
      "execution_count": 57,
      "metadata": {
        "id": "Mk583es-hg4c"
      },
      "outputs": [],
      "source": [
        "df_ar = df.copy()\n",
        "df_ar ['Time'] = pd.to_datetime(df_ar['Time'], format='%Y%m%d %H:%M:%S')"
      ]
    },
    {
      "cell_type": "code",
      "execution_count": 58,
      "metadata": {
        "colab": {
          "base_uri": "https://localhost:8080/",
          "height": 353
        },
        "id": "4Oq12O64meUX",
        "outputId": "04bbcc09-ac15-4677-be7c-3046c84686f0"
      },
      "outputs": [
        {
          "output_type": "stream",
          "name": "stderr",
          "text": [
            "/usr/local/lib/python3.7/dist-packages/statsmodels/tools/_testing.py:19: FutureWarning: pandas.util.testing is deprecated. Use the functions in the public API at pandas.testing instead.\n",
            "  import pandas.util.testing as tm\n"
          ]
        },
        {
          "output_type": "execute_result",
          "data": {
            "text/plain": [
              "(0.0, 36.0)"
            ]
          },
          "metadata": {},
          "execution_count": 58
        },
        {
          "output_type": "display_data",
          "data": {
            "text/plain": [
              "<Figure size 432x288 with 1 Axes>"
            ],
            "image/png": "[encoded data removed]"
          },
          "metadata": {
            "needs_background": "light"
          }
        }
      ],
      "source": [
        "from statsmodels.graphics.tsaplots import plot_acf, plot_pacf\n",
        "plot_acf(df['WindSpeed'])\n",
        "plt.xlim(0, 36)"
      ]
    },
    {
      "cell_type": "code",
      "execution_count": 59,
      "metadata": {
        "colab": {
          "base_uri": "https://localhost:8080/",
          "height": 298
        },
        "id": "Rx9_QuA3r64K",
        "outputId": "279d5cb1-2ae7-4e6a-c995-7062497550b1"
      },
      "outputs": [
        {
          "output_type": "execute_result",
          "data": {
            "text/plain": [
              "(0.0, 36.0)"
            ]
          },
          "metadata": {},
          "execution_count": 59
        },
        {
          "output_type": "display_data",
          "data": {
            "text/plain": [
              "<Figure size 432x288 with 1 Axes>"
            ],
            "image/png": "[encoded data removed]"
          },
          "metadata": {
            "needs_background": "light"
          }
        }
      ],
      "source": [
        "plot_pacf(df['WindSpeed'])\n",
        "plt.xlim(0, 36)"
      ]
    },
    {
      "cell_type": "code",
      "execution_count": 60,
      "metadata": {
        "colab": {
          "base_uri": "https://localhost:8080/"
        },
        "id": "eMkMY191tXPH",
        "outputId": "4efd9666-e017-4559-dd6b-d1c9ab148242"
      },
      "outputs": [
        {
          "output_type": "stream",
          "name": "stdout",
          "text": [
            "Looking in indexes: https://pypi.org/simple, https://us-python.pkg.dev/colab-wheels/public/simple/\n",
            "Requirement already satisfied: statsmodels in /usr/local/lib/python3.7/dist-packages (0.10.2)\n",
            "Requirement already satisfied: patsy>=0.4.0 in /usr/local/lib/python3.7/dist-packages (from statsmodels) (0.5.2)\n",
            "Requirement already satisfied: pandas>=0.19 in /usr/local/lib/python3.7/dist-packages (from statsmodels) (1.3.5)\n",
            "Requirement already satisfied: numpy>=1.11 in /usr/local/lib/python3.7/dist-packages (from statsmodels) (1.21.6)\n",
            "Requirement already satisfied: scipy>=0.18 in /usr/local/lib/python3.7/dist-packages (from statsmodels) (1.4.1)\n",
            "Requirement already satisfied: pytz>=2017.3 in /usr/local/lib/python3.7/dist-packages (from pandas>=0.19->statsmodels) (2022.1)\n",
            "Requirement already satisfied: python-dateutil>=2.7.3 in /usr/local/lib/python3.7/dist-packages (from pandas>=0.19->statsmodels) (2.8.2)\n",
            "Requirement already satisfied: six in /usr/local/lib/python3.7/dist-packages (from patsy>=0.4.0->statsmodels) (1.15.0)\n"
          ]
        }
      ],
      "source": [
        "!pip install statsmodels"
      ]
    },
    {
      "cell_type": "code",
      "execution_count": 61,
      "metadata": {
        "id": "lKLYP0D1u03K"
      },
      "outputs": [],
      "source": [
        "from statsmodels.tsa.arima_model import ARMA"
      ]
    },
    {
      "cell_type": "code",
      "source": [
        "df_ar.set_index('Time', inplace=True)"
      ],
      "metadata": {
        "id": "yslBMSWuiRr7"
      },
      "execution_count": 73,
      "outputs": []
    },
    {
      "cell_type": "code",
      "execution_count": 91,
      "metadata": {
        "colab": {
          "base_uri": "https://localhost:8080/"
        },
        "id": "Fyaa6WMlvwNI",
        "outputId": "94a636b0-fd15-41a1-c3c3-c1c43d9b9f5f"
      },
      "outputs": [
        {
          "output_type": "stream",
          "name": "stderr",
          "text": [
            "/usr/local/lib/python3.7/dist-packages/statsmodels/tsa/base/tsa_model.py:219: ValueWarning: A date index has been provided, but it has no associated frequency information and so will be ignored when e.g. forecasting.\n",
            "  ' ignored when e.g. forecasting.', ValueWarning)\n"
          ]
        }
      ],
      "source": [
        "ARMA_model = ARMA(df_ar.WindSpeed[:len(df_ar.WindSpeed*2/3)], order=(4, 4)).fit()"
      ]
    },
    {
      "cell_type": "code",
      "source": [
        "plt.figure(figsize=(20,6))\n",
        "plt.plot(df_ar.WindSpeed[int(len(df_ar.WindSpeed)*2/3):])\n",
        "plt.plot(df_ar.WindSpeed[:int(len(df_ar.WindSpeed)*2/3)])"
      ],
      "metadata": {
        "colab": {
          "base_uri": "https://localhost:8080/",
          "height": 391
        },
        "id": "JifULMdam8_3",
        "outputId": "c7611881-47d9-4e7b-b5fa-95e141676507"
      },
      "execution_count": 95,
      "outputs": [
        {
          "output_type": "execute_result",
          "data": {
            "text/plain": [
              "[<matplotlib.lines.Line2D at 0x7f349d26cc90>]"
            ]
          },
          "metadata": {},
          "execution_count": 95
        },
        {
          "output_type": "display_data",
          "data": {
            "text/plain": [
              "<Figure size 1440x432 with 1 Axes>"
            ],
            "image/png": "[encoded data removed]"
          },
          "metadata": {
            "needs_background": "light"
          }
        }
      ]
    },
    {
      "cell_type": "code",
      "source": [
        "ARMA_test = ARMA(df_ar.WindSpeed[int(len(df_ar.WindSpeed)*2/3):], order=(4, 4)).fit(ARMA_model.params)"
      ],
      "metadata": {
        "colab": {
          "base_uri": "https://localhost:8080/"
        },
        "id": "C-DNPB_-nZtC",
        "outputId": "587cd7d4-39a4-4974-86f0-eee1e6fceeca"
      },
      "execution_count": 105,
      "outputs": [
        {
          "output_type": "stream",
          "name": "stderr",
          "text": [
            "/usr/local/lib/python3.7/dist-packages/statsmodels/tsa/base/tsa_model.py:219: ValueWarning: A date index has been provided, but it has no associated frequency information and so will be ignored when e.g. forecasting.\n",
            "  ' ignored when e.g. forecasting.', ValueWarning)\n"
          ]
        }
      ]
    },
    {
      "cell_type": "code",
      "execution_count": 108,
      "metadata": {
        "colab": {
          "base_uri": "https://localhost:8080/",
          "height": 391
        },
        "id": "fp4LDn7DxwDl",
        "outputId": "e45e33bf-6368-41e8-d92a-8bbbf3ea2b32"
      },
      "outputs": [
        {
          "output_type": "execute_result",
          "data": {
            "text/plain": [
              "[<matplotlib.lines.Line2D at 0x7f349d082cd0>]"
            ]
          },
          "metadata": {},
          "execution_count": 108
        },
        {
          "output_type": "display_data",
          "data": {
            "text/plain": [
              "<Figure size 1440x432 with 1 Axes>"
            ],
            "image/png": "[encoded data removed]"
          },
          "metadata": {
            "needs_background": "light"
          }
        }
      ],
      "source": [
        "import datetime\n",
        "plt.figure(figsize=(20,6))\n",
        "plt.plot(df_ar.WindSpeed[int(len(df_ar.WindSpeed)*2/3):])\n",
        "plt.plot(ARMA_test.predict())"
      ]
    },
    {
      "cell_type": "code",
      "execution_count": 114,
      "metadata": {
        "colab": {
          "base_uri": "https://localhost:8080/"
        },
        "id": "GP0sOkBpFTWB",
        "outputId": "a3671610-8a46-4251-f309-a4e018c90d22"
      },
      "outputs": [
        {
          "output_type": "execute_result",
          "data": {
            "text/plain": [
              "0.9254342946534101"
            ]
          },
          "metadata": {},
          "execution_count": 114
        }
      ],
      "source": [
        "1-(((ARMA_test.resid**2)/(df_ar.WindSpeed[int(len(df_ar.WindSpeed)*2/3):]).shift(4)).dropna().mean())"
      ]
    }
  ],
  "metadata": {
    "colab": {
      "collapsed_sections": [],
      "name": "prediction of wind speed using weibull PDF and ARMA model.ipynb",
      "provenance": [],
      "mount_file_id": "1AJaSqAYaKOu_vis5I7tvyx3dyxgCmKhZ",
      "authorship_tag": "ABX9TyOu/ZkooHPavjeIvwQrqz83",
      "include_colab_link": true
    },
    "kernelspec": {
      "display_name": "Python 3",
      "name": "python3"
    },
    "language_info": {
      "name": "python"
    }
  },
  "nbformat": 4,
  "nbformat_minor": 0
}