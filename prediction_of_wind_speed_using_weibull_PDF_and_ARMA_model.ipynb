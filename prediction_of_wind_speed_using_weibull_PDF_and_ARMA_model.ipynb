{
  "cells": [
    {
      "cell_type": "markdown",
      "metadata": {
        "id": "view-in-github",
        "colab_type": "text"
      },
      "source": [
        "<a href=\"https://colab.research.google.com/github/luizfreire96/Wind-energy-data-curve-fit/blob/main/prediction_of_wind_speed_using_weibull_PDF_and_ARMA_model.ipynb\" target=\"_parent\"><img src=\"https://colab.research.google.com/assets/colab-badge.svg\" alt=\"Open In Colab\"/></a>"
      ]
    },
    {
      "cell_type": "markdown",
      "metadata": {
        "id": "ooopdn781HDU"
      },
      "source": [
        "In order to forecast wind speed in another project, it is important to analyze the data to select the best model for predictions. In this project we will analyze the data and try to find the best distribution curve for fitting the data, such as Weibull or Normal. The Data used is the same used in **Yu Ding book, Data Science for Wind Energy.**"
      ]
    },
    {
      "cell_type": "markdown",
      "metadata": {
        "id": "_Yo7hWvFZ6i8"
      },
      "source": [
        "#Importing relevant libraries"
      ]
    },
    {
      "cell_type": "code",
      "execution_count": 2,
      "metadata": {
        "id": "boFn7eaFY4XL"
      },
      "outputs": [],
      "source": [
        "import pandas as pd\n",
        "import numpy as np\n",
        "from scipy.stats import weibull_min\n",
        "from scipy.stats import chi2\n",
        "import matplotlib.pyplot as plt"
      ]
    },
    {
      "cell_type": "markdown",
      "metadata": {
        "id": "gW0nCRH_OnWR"
      },
      "source": [
        "#Importing data"
      ]
    },
    {
      "cell_type": "code",
      "execution_count": 3,
      "metadata": {
        "id": "pEfPModob-J7"
      },
      "outputs": [],
      "source": [
        "df = pd.read_csv('https://raw.githubusercontent.com/luizfreire96/Wind-energy-data-curve-fit/main/Wind%20Time%20Series%20Dataset(10min).csv')"
      ]
    },
    {
      "cell_type": "markdown",
      "metadata": {
        "id": "w7Ij3vMcchLx"
      },
      "source": [
        "#Taking a brief look at the data"
      ]
    },
    {
      "cell_type": "code",
      "execution_count": 4,
      "metadata": {
        "colab": {
          "base_uri": "https://localhost:8080/",
          "height": 206
        },
        "id": "Ix0yWqmMccH3",
        "outputId": "85cb0e20-b4ea-4595-d0d9-7da22ef5f7c2"
      },
      "outputs": [
        {
          "output_type": "execute_result",
          "data": {
            "text/plain": [
              "                  Time  WindSpeed      Power\n",
              "0  2014-10-07 01:20:00       8.22  40.526173\n",
              "1  2014-10-07 01:30:00       8.09  38.552540\n",
              "2  2014-10-07 01:50:00       7.21  21.313683\n",
              "3  2014-10-07 02:00:00       6.75  18.031418\n",
              "4  2014-10-07 02:10:00       6.52  16.593281"
            ],
            "text/html": [
              "\n",
              "  <div id=\"df-852cb006-3307-43ea-916b-dbe452bb102d\">\n",
              "    <div class=\"colab-df-container\">\n",
              "      <div>\n",
              "<style scoped>\n",
              "    .dataframe tbody tr th:only-of-type {\n",
              "        vertical-align: middle;\n",
              "    }\n",
              "\n",
              "    .dataframe tbody tr th {\n",
              "        vertical-align: top;\n",
              "    }\n",
              "\n",
              "    .dataframe thead th {\n",
              "        text-align: right;\n",
              "    }\n",
              "</style>\n",
              "<table border=\"1\" class=\"dataframe\">\n",
              "  <thead>\n",
              "    <tr style=\"text-align: right;\">\n",
              "      <th></th>\n",
              "      <th>Time</th>\n",
              "      <th>WindSpeed</th>\n",
              "      <th>Power</th>\n",
              "    </tr>\n",
              "  </thead>\n",
              "  <tbody>\n",
              "    <tr>\n",
              "      <th>0</th>\n",
              "      <td>2014-10-07 01:20:00</td>\n",
              "      <td>8.22</td>\n",
              "      <td>40.526173</td>\n",
              "    </tr>\n",
              "    <tr>\n",
              "      <th>1</th>\n",
              "      <td>2014-10-07 01:30:00</td>\n",
              "      <td>8.09</td>\n",
              "      <td>38.552540</td>\n",
              "    </tr>\n",
              "    <tr>\n",
              "      <th>2</th>\n",
              "      <td>2014-10-07 01:50:00</td>\n",
              "      <td>7.21</td>\n",
              "      <td>21.313683</td>\n",
              "    </tr>\n",
              "    <tr>\n",
              "      <th>3</th>\n",
              "      <td>2014-10-07 02:00:00</td>\n",
              "      <td>6.75</td>\n",
              "      <td>18.031418</td>\n",
              "    </tr>\n",
              "    <tr>\n",
              "      <th>4</th>\n",
              "      <td>2014-10-07 02:10:00</td>\n",
              "      <td>6.52</td>\n",
              "      <td>16.593281</td>\n",
              "    </tr>\n",
              "  </tbody>\n",
              "</table>\n",
              "</div>\n",
              "      <button class=\"colab-df-convert\" onclick=\"convertToInteractive('df-852cb006-3307-43ea-916b-dbe452bb102d')\"\n",
              "              title=\"Convert this dataframe to an interactive table.\"\n",
              "              style=\"display:none;\">\n",
              "        \n",
              "  <svg xmlns=\"http://www.w3.org/2000/svg\" height=\"24px\"viewBox=\"0 0 24 24\"\n",
              "       width=\"24px\">\n",
              "    <path d=\"M0 0h24v24H0V0z\" fill=\"none\"/>\n",
              "    <path d=\"M18.56 5.44l.94 2.06.94-2.06 2.06-.94-2.06-.94-.94-2.06-.94 2.06-2.06.94zm-11 1L8.5 8.5l.94-2.06 2.06-.94-2.06-.94L8.5 2.5l-.94 2.06-2.06.94zm10 10l.94 2.06.94-2.06 2.06-.94-2.06-.94-.94-2.06-.94 2.06-2.06.94z\"/><path d=\"M17.41 7.96l-1.37-1.37c-.4-.4-.92-.59-1.43-.59-.52 0-1.04.2-1.43.59L10.3 9.45l-7.72 7.72c-.78.78-.78 2.05 0 2.83L4 21.41c.39.39.9.59 1.41.59.51 0 1.02-.2 1.41-.59l7.78-7.78 2.81-2.81c.8-.78.8-2.07 0-2.86zM5.41 20L4 18.59l7.72-7.72 1.47 1.35L5.41 20z\"/>\n",
              "  </svg>\n",
              "      </button>\n",
              "      \n",
              "  <style>\n",
              "    .colab-df-container {\n",
              "      display:flex;\n",
              "      flex-wrap:wrap;\n",
              "      gap: 12px;\n",
              "    }\n",
              "\n",
              "    .colab-df-convert {\n",
              "      background-color: #E8F0FE;\n",
              "      border: none;\n",
              "      border-radius: 50%;\n",
              "      cursor: pointer;\n",
              "      display: none;\n",
              "      fill: #1967D2;\n",
              "      height: 32px;\n",
              "      padding: 0 0 0 0;\n",
              "      width: 32px;\n",
              "    }\n",
              "\n",
              "    .colab-df-convert:hover {\n",
              "      background-color: #E2EBFA;\n",
              "      box-shadow: 0px 1px 2px rgba(60, 64, 67, 0.3), 0px 1px 3px 1px rgba(60, 64, 67, 0.15);\n",
              "      fill: #174EA6;\n",
              "    }\n",
              "\n",
              "    [theme=dark] .colab-df-convert {\n",
              "      background-color: #3B4455;\n",
              "      fill: #D2E3FC;\n",
              "    }\n",
              "\n",
              "    [theme=dark] .colab-df-convert:hover {\n",
              "      background-color: #434B5C;\n",
              "      box-shadow: 0px 1px 3px 1px rgba(0, 0, 0, 0.15);\n",
              "      filter: drop-shadow(0px 1px 2px rgba(0, 0, 0, 0.3));\n",
              "      fill: #FFFFFF;\n",
              "    }\n",
              "  </style>\n",
              "\n",
              "      <script>\n",
              "        const buttonEl =\n",
              "          document.querySelector('#df-852cb006-3307-43ea-916b-dbe452bb102d button.colab-df-convert');\n",
              "        buttonEl.style.display =\n",
              "          google.colab.kernel.accessAllowed ? 'block' : 'none';\n",
              "\n",
              "        async function convertToInteractive(key) {\n",
              "          const element = document.querySelector('#df-852cb006-3307-43ea-916b-dbe452bb102d');\n",
              "          const dataTable =\n",
              "            await google.colab.kernel.invokeFunction('convertToInteractive',\n",
              "                                                     [key], {});\n",
              "          if (!dataTable) return;\n",
              "\n",
              "          const docLinkHtml = 'Like what you see? Visit the ' +\n",
              "            '<a target=\"_blank\" href=https://colab.research.google.com/notebooks/data_table.ipynb>data table notebook</a>'\n",
              "            + ' to learn more about interactive tables.';\n",
              "          element.innerHTML = '';\n",
              "          dataTable['output_type'] = 'display_data';\n",
              "          await google.colab.output.renderOutput(dataTable, element);\n",
              "          const docLink = document.createElement('div');\n",
              "          docLink.innerHTML = docLinkHtml;\n",
              "          element.appendChild(docLink);\n",
              "        }\n",
              "      </script>\n",
              "    </div>\n",
              "  </div>\n",
              "  "
            ]
          },
          "metadata": {},
          "execution_count": 4
        }
      ],
      "source": [
        "df.head()"
      ]
    },
    {
      "cell_type": "code",
      "execution_count": 5,
      "metadata": {
        "colab": {
          "base_uri": "https://localhost:8080/",
          "height": 300
        },
        "id": "qb8RnjKDfWpC",
        "outputId": "45e38439-7877-4108-cce3-96fc73f631e8"
      },
      "outputs": [
        {
          "output_type": "execute_result",
          "data": {
            "text/plain": [
              "          WindSpeed         Power\n",
              "count  39195.000000  39195.000000\n",
              "mean       6.863497     30.415774\n",
              "std        2.065032     26.069511\n",
              "min        0.090000     -0.007123\n",
              "25%        5.370000      9.727654\n",
              "50%        6.670000     22.314745\n",
              "75%        8.070000     44.854827\n",
              "max       19.790000    100.000000"
            ],
            "text/html": [
              "\n",
              "  <div id=\"df-7fc26531-a865-40dd-8933-aed86826523b\">\n",
              "    <div class=\"colab-df-container\">\n",
              "      <div>\n",
              "<style scoped>\n",
              "    .dataframe tbody tr th:only-of-type {\n",
              "        vertical-align: middle;\n",
              "    }\n",
              "\n",
              "    .dataframe tbody tr th {\n",
              "        vertical-align: top;\n",
              "    }\n",
              "\n",
              "    .dataframe thead th {\n",
              "        text-align: right;\n",
              "    }\n",
              "</style>\n",
              "<table border=\"1\" class=\"dataframe\">\n",
              "  <thead>\n",
              "    <tr style=\"text-align: right;\">\n",
              "      <th></th>\n",
              "      <th>WindSpeed</th>\n",
              "      <th>Power</th>\n",
              "    </tr>\n",
              "  </thead>\n",
              "  <tbody>\n",
              "    <tr>\n",
              "      <th>count</th>\n",
              "      <td>39195.000000</td>\n",
              "      <td>39195.000000</td>\n",
              "    </tr>\n",
              "    <tr>\n",
              "      <th>mean</th>\n",
              "      <td>6.863497</td>\n",
              "      <td>30.415774</td>\n",
              "    </tr>\n",
              "    <tr>\n",
              "      <th>std</th>\n",
              "      <td>2.065032</td>\n",
              "      <td>26.069511</td>\n",
              "    </tr>\n",
              "    <tr>\n",
              "      <th>min</th>\n",
              "      <td>0.090000</td>\n",
              "      <td>-0.007123</td>\n",
              "    </tr>\n",
              "    <tr>\n",
              "      <th>25%</th>\n",
              "      <td>5.370000</td>\n",
              "      <td>9.727654</td>\n",
              "    </tr>\n",
              "    <tr>\n",
              "      <th>50%</th>\n",
              "      <td>6.670000</td>\n",
              "      <td>22.314745</td>\n",
              "    </tr>\n",
              "    <tr>\n",
              "      <th>75%</th>\n",
              "      <td>8.070000</td>\n",
              "      <td>44.854827</td>\n",
              "    </tr>\n",
              "    <tr>\n",
              "      <th>max</th>\n",
              "      <td>19.790000</td>\n",
              "      <td>100.000000</td>\n",
              "    </tr>\n",
              "  </tbody>\n",
              "</table>\n",
              "</div>\n",
              "      <button class=\"colab-df-convert\" onclick=\"convertToInteractive('df-7fc26531-a865-40dd-8933-aed86826523b')\"\n",
              "              title=\"Convert this dataframe to an interactive table.\"\n",
              "              style=\"display:none;\">\n",
              "        \n",
              "  <svg xmlns=\"http://www.w3.org/2000/svg\" height=\"24px\"viewBox=\"0 0 24 24\"\n",
              "       width=\"24px\">\n",
              "    <path d=\"M0 0h24v24H0V0z\" fill=\"none\"/>\n",
              "    <path d=\"M18.56 5.44l.94 2.06.94-2.06 2.06-.94-2.06-.94-.94-2.06-.94 2.06-2.06.94zm-11 1L8.5 8.5l.94-2.06 2.06-.94-2.06-.94L8.5 2.5l-.94 2.06-2.06.94zm10 10l.94 2.06.94-2.06 2.06-.94-2.06-.94-.94-2.06-.94 2.06-2.06.94z\"/><path d=\"M17.41 7.96l-1.37-1.37c-.4-.4-.92-.59-1.43-.59-.52 0-1.04.2-1.43.59L10.3 9.45l-7.72 7.72c-.78.78-.78 2.05 0 2.83L4 21.41c.39.39.9.59 1.41.59.51 0 1.02-.2 1.41-.59l7.78-7.78 2.81-2.81c.8-.78.8-2.07 0-2.86zM5.41 20L4 18.59l7.72-7.72 1.47 1.35L5.41 20z\"/>\n",
              "  </svg>\n",
              "      </button>\n",
              "      \n",
              "  <style>\n",
              "    .colab-df-container {\n",
              "      display:flex;\n",
              "      flex-wrap:wrap;\n",
              "      gap: 12px;\n",
              "    }\n",
              "\n",
              "    .colab-df-convert {\n",
              "      background-color: #E8F0FE;\n",
              "      border: none;\n",
              "      border-radius: 50%;\n",
              "      cursor: pointer;\n",
              "      display: none;\n",
              "      fill: #1967D2;\n",
              "      height: 32px;\n",
              "      padding: 0 0 0 0;\n",
              "      width: 32px;\n",
              "    }\n",
              "\n",
              "    .colab-df-convert:hover {\n",
              "      background-color: #E2EBFA;\n",
              "      box-shadow: 0px 1px 2px rgba(60, 64, 67, 0.3), 0px 1px 3px 1px rgba(60, 64, 67, 0.15);\n",
              "      fill: #174EA6;\n",
              "    }\n",
              "\n",
              "    [theme=dark] .colab-df-convert {\n",
              "      background-color: #3B4455;\n",
              "      fill: #D2E3FC;\n",
              "    }\n",
              "\n",
              "    [theme=dark] .colab-df-convert:hover {\n",
              "      background-color: #434B5C;\n",
              "      box-shadow: 0px 1px 3px 1px rgba(0, 0, 0, 0.15);\n",
              "      filter: drop-shadow(0px 1px 2px rgba(0, 0, 0, 0.3));\n",
              "      fill: #FFFFFF;\n",
              "    }\n",
              "  </style>\n",
              "\n",
              "      <script>\n",
              "        const buttonEl =\n",
              "          document.querySelector('#df-7fc26531-a865-40dd-8933-aed86826523b button.colab-df-convert');\n",
              "        buttonEl.style.display =\n",
              "          google.colab.kernel.accessAllowed ? 'block' : 'none';\n",
              "\n",
              "        async function convertToInteractive(key) {\n",
              "          const element = document.querySelector('#df-7fc26531-a865-40dd-8933-aed86826523b');\n",
              "          const dataTable =\n",
              "            await google.colab.kernel.invokeFunction('convertToInteractive',\n",
              "                                                     [key], {});\n",
              "          if (!dataTable) return;\n",
              "\n",
              "          const docLinkHtml = 'Like what you see? Visit the ' +\n",
              "            '<a target=\"_blank\" href=https://colab.research.google.com/notebooks/data_table.ipynb>data table notebook</a>'\n",
              "            + ' to learn more about interactive tables.';\n",
              "          element.innerHTML = '';\n",
              "          dataTable['output_type'] = 'display_data';\n",
              "          await google.colab.output.renderOutput(dataTable, element);\n",
              "          const docLink = document.createElement('div');\n",
              "          docLink.innerHTML = docLinkHtml;\n",
              "          element.appendChild(docLink);\n",
              "        }\n",
              "      </script>\n",
              "    </div>\n",
              "  </div>\n",
              "  "
            ]
          },
          "metadata": {},
          "execution_count": 5
        }
      ],
      "source": [
        "df.describe()"
      ]
    },
    {
      "cell_type": "code",
      "execution_count": 6,
      "metadata": {
        "colab": {
          "base_uri": "https://localhost:8080/",
          "height": 265
        },
        "id": "uzdxDJzocnXY",
        "outputId": "7053f04c-bebe-4e79-80ea-57fb4fc1bbf8"
      },
      "outputs": [
        {
          "output_type": "display_data",
          "data": {
            "text/plain": [
              "<Figure size 432x288 with 1 Axes>"
            ],
            "image/png": "[encoded data removed]"
          },
          "metadata": {
            "needs_background": "light"
          }
        }
      ],
      "source": [
        "hist = plt.hist(df['WindSpeed'], 200, density=True)"
      ]
    },
    {
      "cell_type": "markdown",
      "metadata": {
        "id": "KelbG3ClBKKY"
      },
      "source": [
        "## *WEIBULL FIT*"
      ]
    },
    {
      "cell_type": "code",
      "execution_count": 7,
      "metadata": {
        "id": "reO-RSinfGO7"
      },
      "outputs": [],
      "source": [
        " #The method below will estimate the parameters of the Weibull distribution.\n",
        " #It uses the Maximum Likelihood Estimator for this.\n",
        "weibull = weibull_min.fit(df['WindSpeed'])\n",
        "\n",
        "#Attributing the values for each variable we have beta, gamma and alpha respectively.\n",
        "wshape, wloc, wscale = weibull[0], weibull[1], weibull[2]"
      ]
    },
    {
      "cell_type": "code",
      "execution_count": 8,
      "metadata": {
        "colab": {
          "base_uri": "https://localhost:8080/",
          "height": 265
        },
        "id": "XEv_yYBqgaQ6",
        "outputId": "2c03637b-b509-4351-c05a-4e6f5180050a"
      },
      "outputs": [
        {
          "output_type": "display_data",
          "data": {
            "text/plain": [
              "<Figure size 432x288 with 1 Axes>"
            ],
            "image/png": "[encoded data removed]"
          },
          "metadata": {
            "needs_background": "light"
          }
        }
      ],
      "source": [
        " #This create the distribution object.\n",
        "x = np.linspace(0.01, 20, 200)\n",
        "dist = weibull_min.pdf(x, wshape, scale=wscale) \n",
        "\n",
        "#Plotting the histogram and the curve to see how it fits, but a test will be needed anyway.\n",
        "plt.plot(x, dist, 'k-', lw=2, label='frozen pdf')\n",
        "plt.hist(df.WindSpeed, 200, density=True)\n",
        "plt.show()"
      ]
    },
    {
      "cell_type": "code",
      "execution_count": 9,
      "metadata": {
        "id": "28cTRuPAWuGZ"
      },
      "outputs": [],
      "source": [
        "#copying just to don't mess up the original DataFrame\n",
        "df2 = df.copy()"
      ]
    },
    {
      "cell_type": "markdown",
      "metadata": {
        "id": "Va77Qzkd3hXe"
      },
      "source": [
        "###Testing how good this fit is"
      ]
    },
    {
      "cell_type": "markdown",
      "metadata": {
        "id": "tkJyxQs-5iUc"
      },
      "source": [
        "We will use the chi square test to see if the parameters of weibull fit are good enourgh, assuming a p-value of 0.05, that means the 95% of values of the fit fall in the same bin of the actual measurements."
      ]
    },
    {
      "cell_type": "code",
      "execution_count": 10,
      "metadata": {
        "colab": {
          "base_uri": "https://localhost:8080/",
          "height": 206
        },
        "id": "YhGi2C2qGkrk",
        "outputId": "c996c895-c5a7-430e-9eb3-bf2305b52a96"
      },
      "outputs": [
        {
          "output_type": "execute_result",
          "data": {
            "text/plain": [
              "                  Time  WindSpeed      Power Month\n",
              "0  2014-10-07 01:20:00       8.22  40.526173    10\n",
              "1  2014-10-07 01:30:00       8.09  38.552540    10\n",
              "2  2014-10-07 01:50:00       7.21  21.313683    10\n",
              "3  2014-10-07 02:00:00       6.75  18.031418    10\n",
              "4  2014-10-07 02:10:00       6.52  16.593281    10"
            ],
            "text/html": [
              "\n",
              "  <div id=\"df-f1b6d4ab-dd71-4d1c-b039-c43ef1694293\">\n",
              "    <div class=\"colab-df-container\">\n",
              "      <div>\n",
              "<style scoped>\n",
              "    .dataframe tbody tr th:only-of-type {\n",
              "        vertical-align: middle;\n",
              "    }\n",
              "\n",
              "    .dataframe tbody tr th {\n",
              "        vertical-align: top;\n",
              "    }\n",
              "\n",
              "    .dataframe thead th {\n",
              "        text-align: right;\n",
              "    }\n",
              "</style>\n",
              "<table border=\"1\" class=\"dataframe\">\n",
              "  <thead>\n",
              "    <tr style=\"text-align: right;\">\n",
              "      <th></th>\n",
              "      <th>Time</th>\n",
              "      <th>WindSpeed</th>\n",
              "      <th>Power</th>\n",
              "      <th>Month</th>\n",
              "    </tr>\n",
              "  </thead>\n",
              "  <tbody>\n",
              "    <tr>\n",
              "      <th>0</th>\n",
              "      <td>2014-10-07 01:20:00</td>\n",
              "      <td>8.22</td>\n",
              "      <td>40.526173</td>\n",
              "      <td>10</td>\n",
              "    </tr>\n",
              "    <tr>\n",
              "      <th>1</th>\n",
              "      <td>2014-10-07 01:30:00</td>\n",
              "      <td>8.09</td>\n",
              "      <td>38.552540</td>\n",
              "      <td>10</td>\n",
              "    </tr>\n",
              "    <tr>\n",
              "      <th>2</th>\n",
              "      <td>2014-10-07 01:50:00</td>\n",
              "      <td>7.21</td>\n",
              "      <td>21.313683</td>\n",
              "      <td>10</td>\n",
              "    </tr>\n",
              "    <tr>\n",
              "      <th>3</th>\n",
              "      <td>2014-10-07 02:00:00</td>\n",
              "      <td>6.75</td>\n",
              "      <td>18.031418</td>\n",
              "      <td>10</td>\n",
              "    </tr>\n",
              "    <tr>\n",
              "      <th>4</th>\n",
              "      <td>2014-10-07 02:10:00</td>\n",
              "      <td>6.52</td>\n",
              "      <td>16.593281</td>\n",
              "      <td>10</td>\n",
              "    </tr>\n",
              "  </tbody>\n",
              "</table>\n",
              "</div>\n",
              "      <button class=\"colab-df-convert\" onclick=\"convertToInteractive('df-f1b6d4ab-dd71-4d1c-b039-c43ef1694293')\"\n",
              "              title=\"Convert this dataframe to an interactive table.\"\n",
              "              style=\"display:none;\">\n",
              "        \n",
              "  <svg xmlns=\"http://www.w3.org/2000/svg\" height=\"24px\"viewBox=\"0 0 24 24\"\n",
              "       width=\"24px\">\n",
              "    <path d=\"M0 0h24v24H0V0z\" fill=\"none\"/>\n",
              "    <path d=\"M18.56 5.44l.94 2.06.94-2.06 2.06-.94-2.06-.94-.94-2.06-.94 2.06-2.06.94zm-11 1L8.5 8.5l.94-2.06 2.06-.94-2.06-.94L8.5 2.5l-.94 2.06-2.06.94zm10 10l.94 2.06.94-2.06 2.06-.94-2.06-.94-.94-2.06-.94 2.06-2.06.94z\"/><path d=\"M17.41 7.96l-1.37-1.37c-.4-.4-.92-.59-1.43-.59-.52 0-1.04.2-1.43.59L10.3 9.45l-7.72 7.72c-.78.78-.78 2.05 0 2.83L4 21.41c.39.39.9.59 1.41.59.51 0 1.02-.2 1.41-.59l7.78-7.78 2.81-2.81c.8-.78.8-2.07 0-2.86zM5.41 20L4 18.59l7.72-7.72 1.47 1.35L5.41 20z\"/>\n",
              "  </svg>\n",
              "      </button>\n",
              "      \n",
              "  <style>\n",
              "    .colab-df-container {\n",
              "      display:flex;\n",
              "      flex-wrap:wrap;\n",
              "      gap: 12px;\n",
              "    }\n",
              "\n",
              "    .colab-df-convert {\n",
              "      background-color: #E8F0FE;\n",
              "      border: none;\n",
              "      border-radius: 50%;\n",
              "      cursor: pointer;\n",
              "      display: none;\n",
              "      fill: #1967D2;\n",
              "      height: 32px;\n",
              "      padding: 0 0 0 0;\n",
              "      width: 32px;\n",
              "    }\n",
              "\n",
              "    .colab-df-convert:hover {\n",
              "      background-color: #E2EBFA;\n",
              "      box-shadow: 0px 1px 2px rgba(60, 64, 67, 0.3), 0px 1px 3px 1px rgba(60, 64, 67, 0.15);\n",
              "      fill: #174EA6;\n",
              "    }\n",
              "\n",
              "    [theme=dark] .colab-df-convert {\n",
              "      background-color: #3B4455;\n",
              "      fill: #D2E3FC;\n",
              "    }\n",
              "\n",
              "    [theme=dark] .colab-df-convert:hover {\n",
              "      background-color: #434B5C;\n",
              "      box-shadow: 0px 1px 3px 1px rgba(0, 0, 0, 0.15);\n",
              "      filter: drop-shadow(0px 1px 2px rgba(0, 0, 0, 0.3));\n",
              "      fill: #FFFFFF;\n",
              "    }\n",
              "  </style>\n",
              "\n",
              "      <script>\n",
              "        const buttonEl =\n",
              "          document.querySelector('#df-f1b6d4ab-dd71-4d1c-b039-c43ef1694293 button.colab-df-convert');\n",
              "        buttonEl.style.display =\n",
              "          google.colab.kernel.accessAllowed ? 'block' : 'none';\n",
              "\n",
              "        async function convertToInteractive(key) {\n",
              "          const element = document.querySelector('#df-f1b6d4ab-dd71-4d1c-b039-c43ef1694293');\n",
              "          const dataTable =\n",
              "            await google.colab.kernel.invokeFunction('convertToInteractive',\n",
              "                                                     [key], {});\n",
              "          if (!dataTable) return;\n",
              "\n",
              "          const docLinkHtml = 'Like what you see? Visit the ' +\n",
              "            '<a target=\"_blank\" href=https://colab.research.google.com/notebooks/data_table.ipynb>data table notebook</a>'\n",
              "            + ' to learn more about interactive tables.';\n",
              "          element.innerHTML = '';\n",
              "          dataTable['output_type'] = 'display_data';\n",
              "          await google.colab.output.renderOutput(dataTable, element);\n",
              "          const docLink = document.createElement('div');\n",
              "          docLink.innerHTML = docLinkHtml;\n",
              "          element.appendChild(docLink);\n",
              "        }\n",
              "      </script>\n",
              "    </div>\n",
              "  </div>\n",
              "  "
            ]
          },
          "metadata": {},
          "execution_count": 10
        }
      ],
      "source": [
        "df_copy = df.copy()\n",
        "df_copy['Month'] = df['Time'].str[5:7]\n",
        "df_copy.head()"
      ]
    },
    {
      "cell_type": "code",
      "execution_count": 11,
      "metadata": {
        "id": "SACr0AYaSCr8"
      },
      "outputs": [],
      "source": [
        "df_nov = df_copy.query('Month == \"11\"')"
      ]
    },
    {
      "cell_type": "code",
      "execution_count": 12,
      "metadata": {
        "colab": {
          "base_uri": "https://localhost:8080/",
          "height": 300
        },
        "id": "qA8cO8v9j2Pz",
        "outputId": "16c7e4f4-72e9-4897-fbf7-b82056cbc022"
      },
      "outputs": [
        {
          "output_type": "execute_result",
          "data": {
            "text/plain": [
              "         WindSpeed        Power\n",
              "count  3192.000000  3192.000000\n",
              "mean      7.190216    36.328200\n",
              "std       2.133270    28.876470\n",
              "min       2.120000     0.021368\n",
              "25%       5.560000    11.027384\n",
              "50%       7.160000    29.237354\n",
              "75%       8.660000    57.533865\n",
              "max      15.120000    99.589474"
            ],
            "text/html": [
              "\n",
              "  <div id=\"df-e6fa493e-adee-4407-abe1-7f51863aec0a\">\n",
              "    <div class=\"colab-df-container\">\n",
              "      <div>\n",
              "<style scoped>\n",
              "    .dataframe tbody tr th:only-of-type {\n",
              "        vertical-align: middle;\n",
              "    }\n",
              "\n",
              "    .dataframe tbody tr th {\n",
              "        vertical-align: top;\n",
              "    }\n",
              "\n",
              "    .dataframe thead th {\n",
              "        text-align: right;\n",
              "    }\n",
              "</style>\n",
              "<table border=\"1\" class=\"dataframe\">\n",
              "  <thead>\n",
              "    <tr style=\"text-align: right;\">\n",
              "      <th></th>\n",
              "      <th>WindSpeed</th>\n",
              "      <th>Power</th>\n",
              "    </tr>\n",
              "  </thead>\n",
              "  <tbody>\n",
              "    <tr>\n",
              "      <th>count</th>\n",
              "      <td>3192.000000</td>\n",
              "      <td>3192.000000</td>\n",
              "    </tr>\n",
              "    <tr>\n",
              "      <th>mean</th>\n",
              "      <td>7.190216</td>\n",
              "      <td>36.328200</td>\n",
              "    </tr>\n",
              "    <tr>\n",
              "      <th>std</th>\n",
              "      <td>2.133270</td>\n",
              "      <td>28.876470</td>\n",
              "    </tr>\n",
              "    <tr>\n",
              "      <th>min</th>\n",
              "      <td>2.120000</td>\n",
              "      <td>0.021368</td>\n",
              "    </tr>\n",
              "    <tr>\n",
              "      <th>25%</th>\n",
              "      <td>5.560000</td>\n",
              "      <td>11.027384</td>\n",
              "    </tr>\n",
              "    <tr>\n",
              "      <th>50%</th>\n",
              "      <td>7.160000</td>\n",
              "      <td>29.237354</td>\n",
              "    </tr>\n",
              "    <tr>\n",
              "      <th>75%</th>\n",
              "      <td>8.660000</td>\n",
              "      <td>57.533865</td>\n",
              "    </tr>\n",
              "    <tr>\n",
              "      <th>max</th>\n",
              "      <td>15.120000</td>\n",
              "      <td>99.589474</td>\n",
              "    </tr>\n",
              "  </tbody>\n",
              "</table>\n",
              "</div>\n",
              "      <button class=\"colab-df-convert\" onclick=\"convertToInteractive('df-e6fa493e-adee-4407-abe1-7f51863aec0a')\"\n",
              "              title=\"Convert this dataframe to an interactive table.\"\n",
              "              style=\"display:none;\">\n",
              "        \n",
              "  <svg xmlns=\"http://www.w3.org/2000/svg\" height=\"24px\"viewBox=\"0 0 24 24\"\n",
              "       width=\"24px\">\n",
              "    <path d=\"M0 0h24v24H0V0z\" fill=\"none\"/>\n",
              "    <path d=\"M18.56 5.44l.94 2.06.94-2.06 2.06-.94-2.06-.94-.94-2.06-.94 2.06-2.06.94zm-11 1L8.5 8.5l.94-2.06 2.06-.94-2.06-.94L8.5 2.5l-.94 2.06-2.06.94zm10 10l.94 2.06.94-2.06 2.06-.94-2.06-.94-.94-2.06-.94 2.06-2.06.94z\"/><path d=\"M17.41 7.96l-1.37-1.37c-.4-.4-.92-.59-1.43-.59-.52 0-1.04.2-1.43.59L10.3 9.45l-7.72 7.72c-.78.78-.78 2.05 0 2.83L4 21.41c.39.39.9.59 1.41.59.51 0 1.02-.2 1.41-.59l7.78-7.78 2.81-2.81c.8-.78.8-2.07 0-2.86zM5.41 20L4 18.59l7.72-7.72 1.47 1.35L5.41 20z\"/>\n",
              "  </svg>\n",
              "      </button>\n",
              "      \n",
              "  <style>\n",
              "    .colab-df-container {\n",
              "      display:flex;\n",
              "      flex-wrap:wrap;\n",
              "      gap: 12px;\n",
              "    }\n",
              "\n",
              "    .colab-df-convert {\n",
              "      background-color: #E8F0FE;\n",
              "      border: none;\n",
              "      border-radius: 50%;\n",
              "      cursor: pointer;\n",
              "      display: none;\n",
              "      fill: #1967D2;\n",
              "      height: 32px;\n",
              "      padding: 0 0 0 0;\n",
              "      width: 32px;\n",
              "    }\n",
              "\n",
              "    .colab-df-convert:hover {\n",
              "      background-color: #E2EBFA;\n",
              "      box-shadow: 0px 1px 2px rgba(60, 64, 67, 0.3), 0px 1px 3px 1px rgba(60, 64, 67, 0.15);\n",
              "      fill: #174EA6;\n",
              "    }\n",
              "\n",
              "    [theme=dark] .colab-df-convert {\n",
              "      background-color: #3B4455;\n",
              "      fill: #D2E3FC;\n",
              "    }\n",
              "\n",
              "    [theme=dark] .colab-df-convert:hover {\n",
              "      background-color: #434B5C;\n",
              "      box-shadow: 0px 1px 3px 1px rgba(0, 0, 0, 0.15);\n",
              "      filter: drop-shadow(0px 1px 2px rgba(0, 0, 0, 0.3));\n",
              "      fill: #FFFFFF;\n",
              "    }\n",
              "  </style>\n",
              "\n",
              "      <script>\n",
              "        const buttonEl =\n",
              "          document.querySelector('#df-e6fa493e-adee-4407-abe1-7f51863aec0a button.colab-df-convert');\n",
              "        buttonEl.style.display =\n",
              "          google.colab.kernel.accessAllowed ? 'block' : 'none';\n",
              "\n",
              "        async function convertToInteractive(key) {\n",
              "          const element = document.querySelector('#df-e6fa493e-adee-4407-abe1-7f51863aec0a');\n",
              "          const dataTable =\n",
              "            await google.colab.kernel.invokeFunction('convertToInteractive',\n",
              "                                                     [key], {});\n",
              "          if (!dataTable) return;\n",
              "\n",
              "          const docLinkHtml = 'Like what you see? Visit the ' +\n",
              "            '<a target=\"_blank\" href=https://colab.research.google.com/notebooks/data_table.ipynb>data table notebook</a>'\n",
              "            + ' to learn more about interactive tables.';\n",
              "          element.innerHTML = '';\n",
              "          dataTable['output_type'] = 'display_data';\n",
              "          await google.colab.output.renderOutput(dataTable, element);\n",
              "          const docLink = document.createElement('div');\n",
              "          docLink.innerHTML = docLinkHtml;\n",
              "          element.appendChild(docLink);\n",
              "        }\n",
              "      </script>\n",
              "    </div>\n",
              "  </div>\n",
              "  "
            ]
          },
          "metadata": {},
          "execution_count": 12
        }
      ],
      "source": [
        "df_nov.describe()"
      ]
    },
    {
      "cell_type": "code",
      "execution_count": 13,
      "metadata": {
        "id": "lDsllpqCXqz6"
      },
      "outputs": [],
      "source": [
        "#grouping velocities in 0.1 m/s width bins\n",
        "bins01 = [i/10 for i in range (0, 200, 1)]\n",
        "labels1 = [i/10 for i in range (1, 200, 1)]\n",
        "df_nov01 = df_nov.copy()\n",
        "df_nov01['Windspeedbin'] = pd.cut(df_nov['WindSpeed'], bins01, labels=labels1)"
      ]
    },
    {
      "cell_type": "code",
      "execution_count": 14,
      "metadata": {
        "id": "EnkGWybluxsu"
      },
      "outputs": [],
      "source": [
        "#Counting the frequencies of each bin\n",
        "df_grouped01 = df_nov01.groupby(['Windspeedbin'], as_index=False).count()"
      ]
    },
    {
      "cell_type": "code",
      "execution_count": 15,
      "metadata": {
        "colab": {
          "base_uri": "https://localhost:8080/"
        },
        "id": "LLQ8XAY3zY6x",
        "outputId": "01df1403-0fe8-433c-de43-73cd85f7328c"
      },
      "outputs": [
        {
          "output_type": "stream",
          "name": "stderr",
          "text": [
            "/usr/local/lib/python3.7/dist-packages/pandas/core/indexing.py:1732: SettingWithCopyWarning: \n",
            "A value is trying to be set on a copy of a slice from a DataFrame\n",
            "\n",
            "See the caveats in the documentation: https://pandas.pydata.org/pandas-docs/stable/user_guide/indexing.html#returning-a-view-versus-a-copy\n",
            "  self._setitem_single_block(indexer, value, name)\n"
          ]
        }
      ],
      "source": [
        "#A chi2 test will be used. When the frequencies are low, say, lower than 5,\n",
        "#its better group with other bins to minimize discrepancies between observed and expected data\n",
        "#Then we group bins until frequencies turn into 5 or higher\n",
        "\n",
        "df_test01 = df_grouped01.copy()\n",
        "drop_that_after = []\n",
        "for i in range (1, len(df_test01['WindSpeed']), 1):\n",
        "  if df_test01['WindSpeed'].iloc[i-1] < 5:\n",
        "    df_test01['WindSpeed'].iloc[i] = df_test01['WindSpeed'].iloc[i] + df_test01['WindSpeed'].iloc[i-1]\n",
        "    drop_that_after.append(i-1)\n",
        "df_test01 = df_test01.drop(df_test01.index[drop_that_after])"
      ]
    },
    {
      "cell_type": "code",
      "execution_count": 16,
      "metadata": {
        "colab": {
          "base_uri": "https://localhost:8080/",
          "height": 206
        },
        "id": "hEFZ8f49UaXP",
        "outputId": "4449a590-2e9a-4206-c9a9-b3cae659360c"
      },
      "outputs": [
        {
          "output_type": "execute_result",
          "data": {
            "text/plain": [
              "   Windspeedbin  Time  WindSpeed  Power  Month\n",
              "24          2.5     3          6      3      3\n",
              "26          2.7     2          6      2      2\n",
              "29          3.0    11         15     11     11\n",
              "30          3.1    16         16     16     16\n",
              "31          3.2    18         18     18     18"
            ],
            "text/html": [
              "\n",
              "  <div id=\"df-9f97581c-9f1a-43ad-9db7-421e4c7764b0\">\n",
              "    <div class=\"colab-df-container\">\n",
              "      <div>\n",
              "<style scoped>\n",
              "    .dataframe tbody tr th:only-of-type {\n",
              "        vertical-align: middle;\n",
              "    }\n",
              "\n",
              "    .dataframe tbody tr th {\n",
              "        vertical-align: top;\n",
              "    }\n",
              "\n",
              "    .dataframe thead th {\n",
              "        text-align: right;\n",
              "    }\n",
              "</style>\n",
              "<table border=\"1\" class=\"dataframe\">\n",
              "  <thead>\n",
              "    <tr style=\"text-align: right;\">\n",
              "      <th></th>\n",
              "      <th>Windspeedbin</th>\n",
              "      <th>Time</th>\n",
              "      <th>WindSpeed</th>\n",
              "      <th>Power</th>\n",
              "      <th>Month</th>\n",
              "    </tr>\n",
              "  </thead>\n",
              "  <tbody>\n",
              "    <tr>\n",
              "      <th>24</th>\n",
              "      <td>2.5</td>\n",
              "      <td>3</td>\n",
              "      <td>6</td>\n",
              "      <td>3</td>\n",
              "      <td>3</td>\n",
              "    </tr>\n",
              "    <tr>\n",
              "      <th>26</th>\n",
              "      <td>2.7</td>\n",
              "      <td>2</td>\n",
              "      <td>6</td>\n",
              "      <td>2</td>\n",
              "      <td>2</td>\n",
              "    </tr>\n",
              "    <tr>\n",
              "      <th>29</th>\n",
              "      <td>3.0</td>\n",
              "      <td>11</td>\n",
              "      <td>15</td>\n",
              "      <td>11</td>\n",
              "      <td>11</td>\n",
              "    </tr>\n",
              "    <tr>\n",
              "      <th>30</th>\n",
              "      <td>3.1</td>\n",
              "      <td>16</td>\n",
              "      <td>16</td>\n",
              "      <td>16</td>\n",
              "      <td>16</td>\n",
              "    </tr>\n",
              "    <tr>\n",
              "      <th>31</th>\n",
              "      <td>3.2</td>\n",
              "      <td>18</td>\n",
              "      <td>18</td>\n",
              "      <td>18</td>\n",
              "      <td>18</td>\n",
              "    </tr>\n",
              "  </tbody>\n",
              "</table>\n",
              "</div>\n",
              "      <button class=\"colab-df-convert\" onclick=\"convertToInteractive('df-9f97581c-9f1a-43ad-9db7-421e4c7764b0')\"\n",
              "              title=\"Convert this dataframe to an interactive table.\"\n",
              "              style=\"display:none;\">\n",
              "        \n",
              "  <svg xmlns=\"http://www.w3.org/2000/svg\" height=\"24px\"viewBox=\"0 0 24 24\"\n",
              "       width=\"24px\">\n",
              "    <path d=\"M0 0h24v24H0V0z\" fill=\"none\"/>\n",
              "    <path d=\"M18.56 5.44l.94 2.06.94-2.06 2.06-.94-2.06-.94-.94-2.06-.94 2.06-2.06.94zm-11 1L8.5 8.5l.94-2.06 2.06-.94-2.06-.94L8.5 2.5l-.94 2.06-2.06.94zm10 10l.94 2.06.94-2.06 2.06-.94-2.06-.94-.94-2.06-.94 2.06-2.06.94z\"/><path d=\"M17.41 7.96l-1.37-1.37c-.4-.4-.92-.59-1.43-.59-.52 0-1.04.2-1.43.59L10.3 9.45l-7.72 7.72c-.78.78-.78 2.05 0 2.83L4 21.41c.39.39.9.59 1.41.59.51 0 1.02-.2 1.41-.59l7.78-7.78 2.81-2.81c.8-.78.8-2.07 0-2.86zM5.41 20L4 18.59l7.72-7.72 1.47 1.35L5.41 20z\"/>\n",
              "  </svg>\n",
              "      </button>\n",
              "      \n",
              "  <style>\n",
              "    .colab-df-container {\n",
              "      display:flex;\n",
              "      flex-wrap:wrap;\n",
              "      gap: 12px;\n",
              "    }\n",
              "\n",
              "    .colab-df-convert {\n",
              "      background-color: #E8F0FE;\n",
              "      border: none;\n",
              "      border-radius: 50%;\n",
              "      cursor: pointer;\n",
              "      display: none;\n",
              "      fill: #1967D2;\n",
              "      height: 32px;\n",
              "      padding: 0 0 0 0;\n",
              "      width: 32px;\n",
              "    }\n",
              "\n",
              "    .colab-df-convert:hover {\n",
              "      background-color: #E2EBFA;\n",
              "      box-shadow: 0px 1px 2px rgba(60, 64, 67, 0.3), 0px 1px 3px 1px rgba(60, 64, 67, 0.15);\n",
              "      fill: #174EA6;\n",
              "    }\n",
              "\n",
              "    [theme=dark] .colab-df-convert {\n",
              "      background-color: #3B4455;\n",
              "      fill: #D2E3FC;\n",
              "    }\n",
              "\n",
              "    [theme=dark] .colab-df-convert:hover {\n",
              "      background-color: #434B5C;\n",
              "      box-shadow: 0px 1px 3px 1px rgba(0, 0, 0, 0.15);\n",
              "      filter: drop-shadow(0px 1px 2px rgba(0, 0, 0, 0.3));\n",
              "      fill: #FFFFFF;\n",
              "    }\n",
              "  </style>\n",
              "\n",
              "      <script>\n",
              "        const buttonEl =\n",
              "          document.querySelector('#df-9f97581c-9f1a-43ad-9db7-421e4c7764b0 button.colab-df-convert');\n",
              "        buttonEl.style.display =\n",
              "          google.colab.kernel.accessAllowed ? 'block' : 'none';\n",
              "\n",
              "        async function convertToInteractive(key) {\n",
              "          const element = document.querySelector('#df-9f97581c-9f1a-43ad-9db7-421e4c7764b0');\n",
              "          const dataTable =\n",
              "            await google.colab.kernel.invokeFunction('convertToInteractive',\n",
              "                                                     [key], {});\n",
              "          if (!dataTable) return;\n",
              "\n",
              "          const docLinkHtml = 'Like what you see? Visit the ' +\n",
              "            '<a target=\"_blank\" href=https://colab.research.google.com/notebooks/data_table.ipynb>data table notebook</a>'\n",
              "            + ' to learn more about interactive tables.';\n",
              "          element.innerHTML = '';\n",
              "          dataTable['output_type'] = 'display_data';\n",
              "          await google.colab.output.renderOutput(dataTable, element);\n",
              "          const docLink = document.createElement('div');\n",
              "          docLink.innerHTML = docLinkHtml;\n",
              "          element.appendChild(docLink);\n",
              "        }\n",
              "      </script>\n",
              "    </div>\n",
              "  </div>\n",
              "  "
            ]
          },
          "metadata": {},
          "execution_count": 16
        }
      ],
      "source": [
        "df_test01.head()"
      ]
    },
    {
      "cell_type": "code",
      "execution_count": 17,
      "metadata": {
        "id": "coUELR33hTyr"
      },
      "outputs": [],
      "source": [
        "#Calculating the density for each bin, after that just mutiply to obtain the expected frequency\n",
        "f_exp = []\n",
        "for a in range(1, len(df_test01.Windspeedbin), 1):\n",
        "  f_exp.append(weibull_min.cdf(df_test01.iloc[a]['Windspeedbin'], wshape, scale=wscale)-weibull_min.cdf(df_test01.iloc[a-1]['Windspeedbin'], wshape, scale=wscale))"
      ]
    },
    {
      "cell_type": "code",
      "execution_count": 18,
      "metadata": {
        "id": "BDTUDAamKVCW"
      },
      "outputs": [],
      "source": [
        "f_obs = [i for i in df_test01['WindSpeed']]\n",
        "f_exp = [i*3192 for i in f_exp]"
      ]
    },
    {
      "cell_type": "code",
      "execution_count": 19,
      "metadata": {
        "colab": {
          "base_uri": "https://localhost:8080/"
        },
        "id": "3y0nSqy2W4eB",
        "outputId": "6d7ac4e4-6cf8-43a8-c929-216393b296f5"
      },
      "outputs": [
        {
          "output_type": "stream",
          "name": "stdout",
          "text": [
            "6\n",
            "0\n"
          ]
        }
      ],
      "source": [
        "print(f_obs[0])\n",
        "print(f_obs[len(f_obs)-1])"
      ]
    },
    {
      "cell_type": "code",
      "execution_count": 20,
      "metadata": {
        "colab": {
          "base_uri": "https://localhost:8080/"
        },
        "id": "l4RccMZc-Jhd",
        "outputId": "8fa2038d-9929-4d39-c634-0b5f8ad996cd"
      },
      "outputs": [
        {
          "output_type": "execute_result",
          "data": {
            "text/plain": [
              "0"
            ]
          },
          "metadata": {},
          "execution_count": 20
        }
      ],
      "source": [
        "f_obs.pop()"
      ]
    },
    {
      "cell_type": "code",
      "execution_count": 21,
      "metadata": {
        "colab": {
          "base_uri": "https://localhost:8080/"
        },
        "id": "vYi2_0w0NSBz",
        "outputId": "cd221e3a-a1fa-478e-a0b4-abec6cb63f29"
      },
      "outputs": [
        {
          "output_type": "execute_result",
          "data": {
            "text/plain": [
              "649.4241670196036"
            ]
          },
          "metadata": {},
          "execution_count": 21
        }
      ],
      "source": [
        "#chi square is a value that represent the error\n",
        "wchisqr = 0\n",
        "for i in range(0, len(f_exp), 1):\n",
        "  wchisqr = wchisqr + (f_obs[i]-f_exp[i])**2/f_exp[i]\n",
        "wchisqr"
      ]
    },
    {
      "cell_type": "code",
      "execution_count": 22,
      "metadata": {
        "colab": {
          "base_uri": "https://localhost:8080/"
        },
        "id": "eHnqkBKy-Tp-",
        "outputId": "0ba40066-3ca5-4a5e-e885-a2f9cb406fb1"
      },
      "outputs": [
        {
          "output_type": "stream",
          "name": "stdout",
          "text": [
            "0.0\n"
          ]
        }
      ],
      "source": [
        "#The null hypothesis is that the fit is good enough and we will accept it on p-value > 0.05\n",
        "p_value = 1 - chi2.cdf(x=wchisqr, df=(len(f_obs)-2-1))\n",
        "print(p_value)"
      ]
    },
    {
      "cell_type": "markdown",
      "metadata": {
        "id": "0uz5gpkkG1w7"
      },
      "source": [
        "As we see the va value of chi-square is too high and the p-value is almost 0, then the null hypothesis is rejected. Let's what happens if we change chi-square to a critical value of chi-square"
      ]
    },
    {
      "cell_type": "code",
      "execution_count": 23,
      "metadata": {
        "colab": {
          "base_uri": "https://localhost:8080/"
        },
        "id": "Y8fqaH2aHlbR",
        "outputId": "785d79e4-c556-4534-f208-1215a9ea9df6"
      },
      "outputs": [
        {
          "output_type": "stream",
          "name": "stdout",
          "text": [
            "0.04999999999999993 117.63165114234555\n"
          ]
        }
      ],
      "source": [
        "critical_chi = chi2.ppf(q=0.95, df=(len(f_obs)-2-1))\n",
        "p_value_critical = 1 - chi2.cdf(x=critical_chi, df=(len(f_obs)-2-1))\n",
        "print(p_value_critical, critical_chi)"
      ]
    },
    {
      "cell_type": "markdown",
      "metadata": {
        "id": "L3ti05XAZ7o6"
      },
      "source": [
        "Lets see what happens if we how the november month data looks like"
      ]
    },
    {
      "cell_type": "code",
      "execution_count": 24,
      "metadata": {
        "colab": {
          "base_uri": "https://localhost:8080/",
          "height": 265
        },
        "id": "ICcHffTNaHXk",
        "outputId": "1ff5c772-58de-44c1-cdc2-0a614523fc1f"
      },
      "outputs": [
        {
          "output_type": "display_data",
          "data": {
            "text/plain": [
              "<Figure size 432x288 with 1 Axes>"
            ],
            "image/png": "[encoded data removed]"
          },
          "metadata": {
            "needs_background": "light"
          }
        }
      ],
      "source": [
        "plt.plot(x, dist, 'k-', lw=2, label='frozen pdf')\n",
        "plt.hist(df_nov.WindSpeed, 200, density=True)\n",
        "plt.show()"
      ]
    },
    {
      "cell_type": "markdown",
      "metadata": {
        "id": "3uYtSnWPafz5"
      },
      "source": [
        "lets try to fit a new curve using only the november data"
      ]
    },
    {
      "cell_type": "code",
      "execution_count": 25,
      "metadata": {
        "colab": {
          "base_uri": "https://localhost:8080/",
          "height": 265
        },
        "id": "xbR5sPnvaeEz",
        "outputId": "c8c8b55d-4b58-4704-cc8f-99e845a8aaf2"
      },
      "outputs": [
        {
          "output_type": "display_data",
          "data": {
            "text/plain": [
              "<Figure size 432x288 with 1 Axes>"
            ],
            "image/png": "[encoded data removed]"
          },
          "metadata": {
            "needs_background": "light"
          }
        }
      ],
      "source": [
        "weibull_nov = weibull_min.fit(df_nov.WindSpeed) \n",
        "wnshape, wnloc, wnscale = weibull_nov[0], weibull_nov[1], weibull_nov[2]\n",
        "dist_nov = weibull_min.pdf(x, wnshape, loc=wnloc,scale=wnscale) \n",
        "\n",
        "plt.plot(x, dist_nov, 'k-', lw=2, label='frozen pdf')\n",
        "plt.hist(df_nov.WindSpeed, 200, density=True)\n",
        "plt.show()\n"
      ]
    },
    {
      "cell_type": "markdown",
      "metadata": {
        "id": "dUqBOhYNeCBz"
      },
      "source": [
        "Looks better, let's make the test again"
      ]
    },
    {
      "cell_type": "code",
      "execution_count": 26,
      "metadata": {
        "id": "HvD5BjJxeHaN"
      },
      "outputs": [],
      "source": [
        "wnf_exp = []\n",
        "for a in range(1, len(df_test01.Windspeedbin), 1):\n",
        "  wnf_exp.append(weibull_min.cdf(df_test01.iloc[a]['Windspeedbin'], wnshape, loc=wnloc,scale=wnscale)-weibull_min.cdf(df_test01.iloc[a-1]['Windspeedbin'], wnshape, loc=wnloc, scale=wnscale))"
      ]
    },
    {
      "cell_type": "code",
      "execution_count": 27,
      "metadata": {
        "colab": {
          "base_uri": "https://localhost:8080/"
        },
        "id": "p6gaQFTkeeVv",
        "outputId": "e2d7ba74-61a1-4bda-e402-05a384b3286b"
      },
      "outputs": [
        {
          "output_type": "execute_result",
          "data": {
            "text/plain": [
              "3915.8979474365733"
            ]
          },
          "metadata": {},
          "execution_count": 27
        }
      ],
      "source": [
        "wnchisqr = 0\n",
        "for i in range(0, len(wnf_exp), 1):\n",
        "  wnchisqr = wnchisqr + (f_obs[i]-wnf_exp[i])**2/f_exp[i]\n",
        "wnchisqr"
      ]
    },
    {
      "cell_type": "markdown",
      "metadata": {
        "id": "JiNmtg4_foHh"
      },
      "source": [
        "Worst chisquare score, but we can see that \"hole\" in the middle of the curve, maybe if we turn the bins shorter we can fix that"
      ]
    },
    {
      "cell_type": "code",
      "execution_count": 28,
      "metadata": {
        "colab": {
          "base_uri": "https://localhost:8080/"
        },
        "id": "qsv8ezAzA-2p",
        "outputId": "d70894f0-96e0-4b2b-e97a-14aa8b0ed6ee"
      },
      "outputs": [
        {
          "output_type": "stream",
          "name": "stderr",
          "text": [
            "/usr/local/lib/python3.7/dist-packages/pandas/core/indexing.py:1732: SettingWithCopyWarning: \n",
            "A value is trying to be set on a copy of a slice from a DataFrame\n",
            "\n",
            "See the caveats in the documentation: https://pandas.pydata.org/pandas-docs/stable/user_guide/indexing.html#returning-a-view-versus-a-copy\n",
            "  self._setitem_single_block(indexer, value, name)\n"
          ]
        }
      ],
      "source": [
        "bins05 = [i/20 for i in range (0, 400, 1)]\n",
        "labels1 = [i/20 for i in range (1, 400, 1)]\n",
        "df_nov05 = df_nov.copy()\n",
        "df_nov05['Windspeedbin'] = pd.cut(df_nov['WindSpeed'], bins05, labels=labels1)\n",
        "df_grouped05 = df_nov05.groupby(['Windspeedbin'], as_index=False).count()\n",
        "df_test05 = df_grouped05.copy()\n",
        "drop_that_after = []\n",
        "\n",
        "for i in range (1, len(df_test05['WindSpeed']), 1):\n",
        "  if df_test05['WindSpeed'].iloc[i-1] < 5:\n",
        "    df_test05['WindSpeed'].iloc[i] = df_test05['WindSpeed'].iloc[i] + df_test05['WindSpeed'].iloc[i-1]\n",
        "    drop_that_after.append(i-1)\n",
        "df_test05 = df_test05.drop(df_test05.index[drop_that_after])"
      ]
    },
    {
      "cell_type": "code",
      "execution_count": 29,
      "metadata": {
        "colab": {
          "base_uri": "https://localhost:8080/"
        },
        "id": "2hsQEwoGXHux",
        "outputId": "a4ae1fd8-2886-42ad-a9be-6479652623af"
      },
      "outputs": [
        {
          "output_type": "execute_result",
          "data": {
            "text/plain": [
              "148.70627613081416"
            ]
          },
          "metadata": {},
          "execution_count": 29
        }
      ],
      "source": [
        "wnf_exp05 = []\n",
        "f_obs05 = [i for i in df_test05['WindSpeed']]\n",
        "for a in range(1, len(df_test05.Windspeedbin), 1):\n",
        "  wnf_exp05.append(weibull_min.cdf(df_test05.iloc[a]['Windspeedbin'], wnshape, loc=wnloc,scale=wnscale)-weibull_min.cdf(df_test05.iloc[a-1]['Windspeedbin'], wnshape, loc=wnloc, scale=wnscale))\n",
        "\n",
        "wnf_exp05 = [i*3192 for i in wnf_exp05]\n",
        "wnchisqr05 = 0\n",
        "for i in range(0, len(f_exp), 1):\n",
        "  wnchisqr05 = wnchisqr05 + (f_obs05[i]-wnf_exp05[i])**2/wnf_exp05[i]\n",
        "wnchisqr05"
      ]
    },
    {
      "cell_type": "code",
      "execution_count": 30,
      "metadata": {
        "colab": {
          "base_uri": "https://localhost:8080/",
          "height": 265
        },
        "id": "RxZwgNJiZjNn",
        "outputId": "a0f2a0ae-92a9-40cb-824b-245457632484"
      },
      "outputs": [
        {
          "output_type": "display_data",
          "data": {
            "text/plain": [
              "<Figure size 432x288 with 1 Axes>"
            ],
            "image/png": "[encoded data removed]"
          },
          "metadata": {
            "needs_background": "light"
          }
        }
      ],
      "source": [
        "weibull_nov = weibull_min.fit(df_nov.WindSpeed) \n",
        "wnshape, wnloc, wnscale = weibull_nov[0], weibull_nov[1], weibull_nov[2]\n",
        "dist_nov = weibull_min.pdf(x, wnshape, loc=wnloc,scale=wnscale) \n",
        "\n",
        "plt.plot(x, dist_nov, 'k-', lw=2, label='frozen pdf')\n",
        "plt.hist(df_nov.WindSpeed, 400, density=True)\n",
        "plt.show()"
      ]
    },
    {
      "cell_type": "code",
      "execution_count": 31,
      "metadata": {
        "colab": {
          "base_uri": "https://localhost:8080/"
        },
        "id": "4HIpKJ_ZapyV",
        "outputId": "63e9c9f1-614a-47bc-d652-70ed16e22539"
      },
      "outputs": [
        {
          "output_type": "execute_result",
          "data": {
            "text/plain": [
              "183"
            ]
          },
          "metadata": {},
          "execution_count": 31
        }
      ],
      "source": [
        "len(f_obs05)"
      ]
    },
    {
      "cell_type": "code",
      "source": [
        "wnmean = weibull_min(wnshape, loc=wnloc, scale=wnscale).mean()"
      ],
      "metadata": {
        "id": "qWh3T5375JOJ"
      },
      "execution_count": 32,
      "outputs": []
    },
    {
      "cell_type": "code",
      "execution_count": 33,
      "metadata": {
        "colab": {
          "base_uri": "https://localhost:8080/"
        },
        "id": "PACASbLqZ8UU",
        "outputId": "bbef1902-ab5b-4aff-e5f1-46ce012ae41a"
      },
      "outputs": [
        {
          "output_type": "stream",
          "name": "stdout",
          "text": [
            "0.957307902532472\n"
          ]
        }
      ],
      "source": [
        "#the chi-square critical value change due the chenge of the degrees of freedom\n",
        "#lets see the actual p-value for this case\n",
        "p_value = 1 - chi2.cdf(x=wnchisqr05, df=(len(f_obs05)-2-1))\n",
        "print(p_value)"
      ]
    },
    {
      "cell_type": "markdown",
      "metadata": {
        "id": "5nWm23jqbISn"
      },
      "source": [
        "Low chi-square score for such amount of degrees of freedom."
      ]
    },
    {
      "cell_type": "markdown",
      "metadata": {
        "id": "sc54IeMeJuqh"
      },
      "source": [
        "# **NORMAL FIT**"
      ]
    },
    {
      "cell_type": "markdown",
      "metadata": {
        "id": "vvokoo9mO_tB"
      },
      "source": [
        "## Importing the statistical function norm from scipy"
      ]
    },
    {
      "cell_type": "code",
      "execution_count": 34,
      "metadata": {
        "id": "xwsl0jYsOkvC"
      },
      "outputs": [],
      "source": [
        "from scipy.stats import norm"
      ]
    },
    {
      "cell_type": "markdown",
      "metadata": {
        "id": "w0gwNMuDPKlH"
      },
      "source": [
        "## Fitting the same data but in normal distribution"
      ]
    },
    {
      "cell_type": "code",
      "execution_count": 35,
      "metadata": {
        "id": "lsAbG0IxO8D0"
      },
      "outputs": [],
      "source": [
        "normal = norm.fit(df['WindSpeed'])\n",
        "nmean, nsd = normal[0], normal[1]"
      ]
    },
    {
      "cell_type": "code",
      "execution_count": 36,
      "metadata": {
        "colab": {
          "base_uri": "https://localhost:8080/",
          "height": 265
        },
        "id": "Yp0vqxiQPm7a",
        "outputId": "13df7b43-99c6-4039-b2ad-67b9a52d0e5d"
      },
      "outputs": [
        {
          "output_type": "display_data",
          "data": {
            "text/plain": [
              "<Figure size 432x288 with 1 Axes>"
            ],
            "image/png": "[encoded data removed]"
          },
          "metadata": {
            "needs_background": "light"
          }
        }
      ],
      "source": [
        "p = norm.pdf(x, nmean, nsd)\n",
        "plt.plot(x, p)\n",
        "plt.hist(df.WindSpeed, bins=200, density=True)\n",
        "plt.show()"
      ]
    },
    {
      "cell_type": "markdown",
      "metadata": {
        "id": "Qk6kJfCbTvze"
      },
      "source": [
        "## Chi-square test"
      ]
    },
    {
      "cell_type": "code",
      "execution_count": 37,
      "metadata": {
        "id": "V2TMal7YRNsu"
      },
      "outputs": [],
      "source": [
        "nf_exp = []\n",
        "for a in range(1, len(df_test01.Windspeedbin), 1):\n",
        "  nf_exp.append(norm.cdf(df_test01.iloc[a]['Windspeedbin'], nmean, nsd)-norm.cdf(df_test01.iloc[a-1]['Windspeedbin'], nmean, nsd))\n",
        "nf_exp = [i*3192 for i in nf_exp]"
      ]
    },
    {
      "cell_type": "code",
      "execution_count": 38,
      "metadata": {
        "colab": {
          "base_uri": "https://localhost:8080/"
        },
        "id": "AAJOY40UUIwE",
        "outputId": "8b7a16d3-5680-4f83-de8f-44a36c1edabd"
      },
      "outputs": [
        {
          "output_type": "execute_result",
          "data": {
            "text/plain": [
              "610.2407146983874"
            ]
          },
          "metadata": {},
          "execution_count": 38
        }
      ],
      "source": [
        "nchisqr = 0\n",
        "for i in range(0, len(nf_exp), 1):\n",
        "  nchisqr = nchisqr + (f_obs[i]-nf_exp[i])**2/nf_exp[i]\n",
        "nchisqr"
      ]
    },
    {
      "cell_type": "markdown",
      "metadata": {
        "id": "-7CUNzsXcapd"
      },
      "source": [
        "Lets use november data to fit the curve"
      ]
    },
    {
      "cell_type": "code",
      "execution_count": 39,
      "metadata": {
        "id": "YtaDGFZwckLl"
      },
      "outputs": [],
      "source": [
        "nnormal01 = norm.fit(df_nov['WindSpeed'])\n",
        "nnmean, nnsd = nnormal01[0], nnormal01[1]"
      ]
    },
    {
      "cell_type": "code",
      "execution_count": 40,
      "metadata": {
        "id": "QP2O-cSicwc1"
      },
      "outputs": [],
      "source": [
        "nf_exp = []\n",
        "for a in range(1, len(df_test01.Windspeedbin), 1):\n",
        "  nf_exp.append(norm.cdf(df_test01.iloc[a]['Windspeedbin'], nnmean, nnsd)-norm.cdf(df_test01.iloc[a-1]['Windspeedbin'], nnmean, nnsd))\n",
        "nf_exp = [i*3192 for i in nf_exp]"
      ]
    },
    {
      "cell_type": "code",
      "execution_count": 41,
      "metadata": {
        "colab": {
          "base_uri": "https://localhost:8080/"
        },
        "id": "YEJCJlTqc_BM",
        "outputId": "c24423e5-f256-43d3-efb5-f5753607b80f"
      },
      "outputs": [
        {
          "output_type": "execute_result",
          "data": {
            "text/plain": [
              "264.5189257740384"
            ]
          },
          "metadata": {},
          "execution_count": 41
        }
      ],
      "source": [
        "nchisqr = 0\n",
        "for i in range(0, len(nf_exp), 1):\n",
        "  nchisqr = nchisqr + (f_obs[i]-nf_exp[i])**2/nf_exp[i]\n",
        "nchisqr"
      ]
    },
    {
      "cell_type": "code",
      "execution_count": 42,
      "metadata": {
        "colab": {
          "base_uri": "https://localhost:8080/"
        },
        "id": "YR2Jn6wldkOi",
        "outputId": "82091dcd-4217-42df-a1e7-b3806946d98b"
      },
      "outputs": [
        {
          "output_type": "execute_result",
          "data": {
            "text/plain": [
              "(7.190216165413533, 2.132935657946973)"
            ]
          },
          "metadata": {},
          "execution_count": 42
        }
      ],
      "source": [
        "nnormal01"
      ]
    },
    {
      "cell_type": "code",
      "execution_count": 43,
      "metadata": {
        "colab": {
          "base_uri": "https://localhost:8080/",
          "height": 265
        },
        "id": "Xac8ySypdDj2",
        "outputId": "e6e39b48-90db-492e-d9ee-77f9ca836960"
      },
      "outputs": [
        {
          "output_type": "display_data",
          "data": {
            "text/plain": [
              "<Figure size 432x288 with 1 Axes>"
            ],
            "image/png": "[encoded data removed]"
          },
          "metadata": {
            "needs_background": "light"
          }
        }
      ],
      "source": [
        "np = norm.pdf(x, nnmean, nnsd)\n",
        "plt.plot(x, np)\n",
        "plt.hist(df_nov.WindSpeed, bins=200, density=True)\n",
        "plt.show()"
      ]
    },
    {
      "cell_type": "markdown",
      "metadata": {
        "id": "UNmQN65ud2Nh"
      },
      "source": [
        "Doing the same process and split the bins in half"
      ]
    },
    {
      "cell_type": "code",
      "execution_count": 44,
      "metadata": {
        "id": "PUtytQymd6uC"
      },
      "outputs": [],
      "source": [
        "nf_exp05 = []\n",
        "for a in range(1, len(df_test05.Windspeedbin), 1):\n",
        "  nf_exp05.append(norm.cdf(df_test05.iloc[a]['Windspeedbin'], nnmean, nnsd)-norm.cdf(df_test05.iloc[a-1]['Windspeedbin'], nnmean, nnsd))\n",
        "nf_exp05 = [i*3192 for i in nf_exp05]\n"
      ]
    },
    {
      "cell_type": "code",
      "execution_count": 45,
      "metadata": {
        "colab": {
          "base_uri": "https://localhost:8080/"
        },
        "id": "x-U5DWKPe9Q_",
        "outputId": "ba42eb45-982f-45e0-8e9c-878ae4ebdced"
      },
      "outputs": [
        {
          "output_type": "stream",
          "name": "stdout",
          "text": [
            "183 182\n"
          ]
        }
      ],
      "source": [
        "print(len(f_obs05), len(nf_exp05))"
      ]
    },
    {
      "cell_type": "code",
      "execution_count": 46,
      "metadata": {
        "colab": {
          "base_uri": "https://localhost:8080/"
        },
        "id": "memYMzlohcT4",
        "outputId": "b004cc4d-ea62-4f84-8543-1557bd57a288"
      },
      "outputs": [
        {
          "output_type": "stream",
          "name": "stdout",
          "text": [
            "6 2\n"
          ]
        }
      ],
      "source": [
        "print(f_obs05[0], f_obs05[len(f_obs05)-1])"
      ]
    },
    {
      "cell_type": "code",
      "execution_count": 47,
      "metadata": {
        "colab": {
          "base_uri": "https://localhost:8080/"
        },
        "id": "BQZYnHZ_huIB",
        "outputId": "c06b1f9d-ceb6-42c7-dd06-05720afa7794"
      },
      "outputs": [
        {
          "output_type": "execute_result",
          "data": {
            "text/plain": [
              "2"
            ]
          },
          "metadata": {},
          "execution_count": 47
        }
      ],
      "source": [
        "f_obs05.pop()"
      ]
    },
    {
      "cell_type": "code",
      "execution_count": 48,
      "metadata": {
        "colab": {
          "base_uri": "https://localhost:8080/"
        },
        "id": "e1J6gUW6g_kn",
        "outputId": "eb9943be-d96c-4a42-b440-bbe608437e3e"
      },
      "outputs": [
        {
          "output_type": "execute_result",
          "data": {
            "text/plain": [
              "294.1413521045471"
            ]
          },
          "metadata": {},
          "execution_count": 48
        }
      ],
      "source": [
        "nchisqr05 = 0\n",
        "for i in range(0, len(nf_exp05), 1):\n",
        "  nchisqr05 = nchisqr05 + (f_obs05[i]-nf_exp05[i])**2/nf_exp05[i]\n",
        "nchisqr05"
      ]
    },
    {
      "cell_type": "markdown",
      "metadata": {
        "id": "nzwIYS7MgxGJ"
      },
      "source": [
        "##Prediction using ARMA model"
      ]
    },
    {
      "cell_type": "code",
      "execution_count": 49,
      "metadata": {
        "colab": {
          "base_uri": "https://localhost:8080/"
        },
        "id": "Tl4uVVPgg5YJ",
        "outputId": "00970240-ad43-4340-f78d-7225a9e49b8b"
      },
      "outputs": [
        {
          "output_type": "stream",
          "name": "stdout",
          "text": [
            "<class 'pandas.core.frame.DataFrame'>\n",
            "RangeIndex: 39195 entries, 0 to 39194\n",
            "Data columns (total 3 columns):\n",
            " #   Column     Non-Null Count  Dtype  \n",
            "---  ------     --------------  -----  \n",
            " 0   Time       39195 non-null  object \n",
            " 1   WindSpeed  39195 non-null  float64\n",
            " 2   Power      39195 non-null  float64\n",
            "dtypes: float64(2), object(1)\n",
            "memory usage: 918.8+ KB\n"
          ]
        }
      ],
      "source": [
        "df.info()\n"
      ]
    },
    {
      "cell_type": "code",
      "execution_count": 145,
      "metadata": {
        "id": "Mk583es-hg4c"
      },
      "outputs": [],
      "source": [
        "df_nov = df_nov.copy()\n",
        "df_nov ['Time'] = pd.to_datetime(df_nov['Time'], format='%Y%m%d %H:%M:%S')"
      ]
    },
    {
      "cell_type": "code",
      "execution_count": 51,
      "metadata": {
        "colab": {
          "base_uri": "https://localhost:8080/",
          "height": 298
        },
        "id": "4Oq12O64meUX",
        "outputId": "5b6cdd92-9a54-406e-ab1a-b64e3a94fd9e"
      },
      "outputs": [
        {
          "output_type": "execute_result",
          "data": {
            "text/plain": [
              "(0.0, 36.0)"
            ]
          },
          "metadata": {},
          "execution_count": 51
        },
        {
          "output_type": "display_data",
          "data": {
            "text/plain": [
              "<Figure size 432x288 with 1 Axes>"
            ],
            "image/png": "[encoded data removed]"
          },
          "metadata": {
            "needs_background": "light"
          }
        }
      ],
      "source": [
        "from statsmodels.graphics.tsaplots import plot_acf, plot_pacf\n",
        "plot_acf(df['WindSpeed'])\n",
        "plt.xlim(0, 36)"
      ]
    },
    {
      "cell_type": "code",
      "execution_count": 52,
      "metadata": {
        "colab": {
          "base_uri": "https://localhost:8080/",
          "height": 353
        },
        "id": "Rx9_QuA3r64K",
        "outputId": "2520a897-bfc3-444e-f3e1-deb6f50f2732"
      },
      "outputs": [
        {
          "output_type": "stream",
          "name": "stderr",
          "text": [
            "/usr/local/lib/python3.7/dist-packages/statsmodels/graphics/tsaplots.py:353: FutureWarning: The default method 'yw' can produce PACF values outside of the [-1,1] interval. After 0.13, the default will change tounadjusted Yule-Walker ('ywm'). You can use this method now by setting method='ywm'.\n",
            "  FutureWarning,\n"
          ]
        },
        {
          "output_type": "execute_result",
          "data": {
            "text/plain": [
              "(0.0, 36.0)"
            ]
          },
          "metadata": {},
          "execution_count": 52
        },
        {
          "output_type": "display_data",
          "data": {
            "text/plain": [
              "<Figure size 432x288 with 1 Axes>"
            ],
            "image/png": "[encoded data removed]"
          },
          "metadata": {
            "needs_background": "light"
          }
        }
      ],
      "source": [
        "plot_pacf(df['WindSpeed'])\n",
        "plt.xlim(0, 36)"
      ]
    },
    {
      "cell_type": "code",
      "execution_count": 53,
      "metadata": {
        "colab": {
          "base_uri": "https://localhost:8080/"
        },
        "id": "eMkMY191tXPH",
        "outputId": "1e013a23-9d8e-4e82-e886-3da81d333e66"
      },
      "outputs": [
        {
          "output_type": "stream",
          "name": "stdout",
          "text": [
            "Looking in indexes: https://pypi.org/simple, https://us-python.pkg.dev/colab-wheels/public/simple/\n",
            "Requirement already satisfied: statsmodels in /usr/local/lib/python3.7/dist-packages (0.13.2)\n",
            "Requirement already satisfied: pandas>=0.25 in /usr/local/lib/python3.7/dist-packages (from statsmodels) (1.3.5)\n",
            "Requirement already satisfied: patsy>=0.5.2 in /usr/local/lib/python3.7/dist-packages (from statsmodels) (0.5.2)\n",
            "Requirement already satisfied: scipy>=1.3 in /usr/local/lib/python3.7/dist-packages (from statsmodels) (1.7.3)\n",
            "Requirement already satisfied: numpy>=1.17 in /usr/local/lib/python3.7/dist-packages (from statsmodels) (1.21.6)\n",
            "Requirement already satisfied: packaging>=21.3 in /usr/local/lib/python3.7/dist-packages (from statsmodels) (21.3)\n",
            "Requirement already satisfied: pyparsing!=3.0.5,>=2.0.2 in /usr/local/lib/python3.7/dist-packages (from packaging>=21.3->statsmodels) (3.0.9)\n",
            "Requirement already satisfied: python-dateutil>=2.7.3 in /usr/local/lib/python3.7/dist-packages (from pandas>=0.25->statsmodels) (2.8.2)\n",
            "Requirement already satisfied: pytz>=2017.3 in /usr/local/lib/python3.7/dist-packages (from pandas>=0.25->statsmodels) (2022.1)\n",
            "Requirement already satisfied: six in /usr/local/lib/python3.7/dist-packages (from patsy>=0.5.2->statsmodels) (1.15.0)\n"
          ]
        }
      ],
      "source": [
        "!pip install statsmodels"
      ]
    },
    {
      "cell_type": "code",
      "source": [
        "!pip install pmdarima"
      ],
      "metadata": {
        "colab": {
          "base_uri": "https://localhost:8080/"
        },
        "id": "y1XtUM5TuDfr",
        "outputId": "849c9713-789c-471c-b891-718091055b8f"
      },
      "execution_count": 79,
      "outputs": [
        {
          "output_type": "stream",
          "name": "stdout",
          "text": [
            "Looking in indexes: https://pypi.org/simple, https://us-python.pkg.dev/colab-wheels/public/simple/\n",
            "Requirement already satisfied: pmdarima in /usr/local/lib/python3.7/dist-packages (1.8.5)\n",
            "Requirement already satisfied: scipy>=1.3.2 in /usr/local/lib/python3.7/dist-packages (from pmdarima) (1.7.3)\n",
            "Requirement already satisfied: numpy>=1.19.3 in /usr/local/lib/python3.7/dist-packages (from pmdarima) (1.21.6)\n",
            "Requirement already satisfied: setuptools!=50.0.0,>=38.6.0 in /usr/local/lib/python3.7/dist-packages (from pmdarima) (57.4.0)\n",
            "Requirement already satisfied: Cython!=0.29.18,>=0.29 in /usr/local/lib/python3.7/dist-packages (from pmdarima) (0.29.30)\n",
            "Requirement already satisfied: pandas>=0.19 in /usr/local/lib/python3.7/dist-packages (from pmdarima) (1.3.5)\n",
            "Requirement already satisfied: statsmodels!=0.12.0,>=0.11 in /usr/local/lib/python3.7/dist-packages (from pmdarima) (0.13.2)\n",
            "Requirement already satisfied: joblib>=0.11 in /usr/local/lib/python3.7/dist-packages (from pmdarima) (1.1.0)\n",
            "Requirement already satisfied: scikit-learn>=0.22 in /usr/local/lib/python3.7/dist-packages (from pmdarima) (1.0.2)\n",
            "Requirement already satisfied: urllib3 in /usr/local/lib/python3.7/dist-packages (from pmdarima) (1.24.3)\n",
            "Requirement already satisfied: pytz>=2017.3 in /usr/local/lib/python3.7/dist-packages (from pandas>=0.19->pmdarima) (2022.1)\n",
            "Requirement already satisfied: python-dateutil>=2.7.3 in /usr/local/lib/python3.7/dist-packages (from pandas>=0.19->pmdarima) (2.8.2)\n",
            "Requirement already satisfied: six>=1.5 in /usr/local/lib/python3.7/dist-packages (from python-dateutil>=2.7.3->pandas>=0.19->pmdarima) (1.15.0)\n",
            "Requirement already satisfied: threadpoolctl>=2.0.0 in /usr/local/lib/python3.7/dist-packages (from scikit-learn>=0.22->pmdarima) (3.1.0)\n",
            "Requirement already satisfied: patsy>=0.5.2 in /usr/local/lib/python3.7/dist-packages (from statsmodels!=0.12.0,>=0.11->pmdarima) (0.5.2)\n",
            "Requirement already satisfied: packaging>=21.3 in /usr/local/lib/python3.7/dist-packages (from statsmodels!=0.12.0,>=0.11->pmdarima) (21.3)\n",
            "Requirement already satisfied: pyparsing!=3.0.5,>=2.0.2 in /usr/local/lib/python3.7/dist-packages (from packaging>=21.3->statsmodels!=0.12.0,>=0.11->pmdarima) (3.0.9)\n"
          ]
        }
      ]
    },
    {
      "cell_type": "code",
      "source": [
        "from pmdarima.arima import auto_arima"
      ],
      "metadata": {
        "id": "lDHbFFGqvjay"
      },
      "execution_count": 80,
      "outputs": []
    },
    {
      "cell_type": "code",
      "source": [
        "df_nov = df_nov.set_index('Time')"
      ],
      "metadata": {
        "id": "Imr7cPwuc2Bx"
      },
      "execution_count": 147,
      "outputs": []
    },
    {
      "cell_type": "code",
      "source": [
        "aa = auto_arima(df_nov.WindSpeed)"
      ],
      "metadata": {
        "id": "A4yUw3SRv4RF"
      },
      "execution_count": 148,
      "outputs": []
    },
    {
      "cell_type": "code",
      "source": [
        "aa.summary()"
      ],
      "metadata": {
        "id": "BPc8koG6v-i1",
        "colab": {
          "base_uri": "https://localhost:8080/",
          "height": 494
        },
        "outputId": "010a7bc0-1fb5-4f02-98ca-9845264bb02f"
      },
      "execution_count": 149,
      "outputs": [
        {
          "output_type": "execute_result",
          "data": {
            "text/plain": [
              "<class 'statsmodels.iolib.summary.Summary'>\n",
              "\"\"\"\n",
              "                               SARIMAX Results                                \n",
              "==============================================================================\n",
              "Dep. Variable:                      y   No. Observations:                 3192\n",
              "Model:               SARIMAX(2, 0, 2)   Log Likelihood               -3032.758\n",
              "Date:                Fri, 15 Jul 2022   AIC                           6077.516\n",
              "Time:                        20:08:29   BIC                           6113.926\n",
              "Sample:                             0   HQIC                          6090.571\n",
              "                               - 3192                                         \n",
              "Covariance Type:                  opg                                         \n",
              "==============================================================================\n",
              "                 coef    std err          z      P>|z|      [0.025      0.975]\n",
              "------------------------------------------------------------------------------\n",
              "intercept      0.0875      0.027      3.283      0.001       0.035       0.140\n",
              "ar.L1          1.4205      0.094     15.148      0.000       1.237       1.604\n",
              "ar.L2         -0.4326      0.091     -4.762      0.000      -0.611      -0.255\n",
              "ma.L1         -0.5385      0.094     -5.747      0.000      -0.722      -0.355\n",
              "ma.L2         -0.0789      0.020     -3.874      0.000      -0.119      -0.039\n",
              "sigma2         0.3912      0.006     62.817      0.000       0.379       0.403\n",
              "===================================================================================\n",
              "Ljung-Box (L1) (Q):                   0.00   Jarque-Bera (JB):              1444.51\n",
              "Prob(Q):                              0.99   Prob(JB):                         0.00\n",
              "Heteroskedasticity (H):               0.79   Skew:                             0.25\n",
              "Prob(H) (two-sided):                  0.00   Kurtosis:                         6.26\n",
              "===================================================================================\n",
              "\n",
              "Warnings:\n",
              "[1] Covariance matrix calculated using the outer product of gradients (complex-step).\n",
              "\"\"\""
            ],
            "text/html": [
              "<table class=\"simpletable\">\n",
              "<caption>SARIMAX Results</caption>\n",
              "<tr>\n",
              "  <th>Dep. Variable:</th>           <td>y</td>        <th>  No. Observations:  </th>   <td>3192</td>   \n",
              "</tr>\n",
              "<tr>\n",
              "  <th>Model:</th>           <td>SARIMAX(2, 0, 2)</td> <th>  Log Likelihood     </th> <td>-3032.758</td>\n",
              "</tr>\n",
              "<tr>\n",
              "  <th>Date:</th>            <td>Fri, 15 Jul 2022</td> <th>  AIC                </th> <td>6077.516</td> \n",
              "</tr>\n",
              "<tr>\n",
              "  <th>Time:</th>                <td>20:08:29</td>     <th>  BIC                </th> <td>6113.926</td> \n",
              "</tr>\n",
              "<tr>\n",
              "  <th>Sample:</th>                  <td>0</td>        <th>  HQIC               </th> <td>6090.571</td> \n",
              "</tr>\n",
              "<tr>\n",
              "  <th></th>                      <td> - 3192</td>     <th>                     </th>     <td> </td>    \n",
              "</tr>\n",
              "<tr>\n",
              "  <th>Covariance Type:</th>        <td>opg</td>       <th>                     </th>     <td> </td>    \n",
              "</tr>\n",
              "</table>\n",
              "<table class=\"simpletable\">\n",
              "<tr>\n",
              "      <td></td>         <th>coef</th>     <th>std err</th>      <th>z</th>      <th>P>|z|</th>  <th>[0.025</th>    <th>0.975]</th>  \n",
              "</tr>\n",
              "<tr>\n",
              "  <th>intercept</th> <td>    0.0875</td> <td>    0.027</td> <td>    3.283</td> <td> 0.001</td> <td>    0.035</td> <td>    0.140</td>\n",
              "</tr>\n",
              "<tr>\n",
              "  <th>ar.L1</th>     <td>    1.4205</td> <td>    0.094</td> <td>   15.148</td> <td> 0.000</td> <td>    1.237</td> <td>    1.604</td>\n",
              "</tr>\n",
              "<tr>\n",
              "  <th>ar.L2</th>     <td>   -0.4326</td> <td>    0.091</td> <td>   -4.762</td> <td> 0.000</td> <td>   -0.611</td> <td>   -0.255</td>\n",
              "</tr>\n",
              "<tr>\n",
              "  <th>ma.L1</th>     <td>   -0.5385</td> <td>    0.094</td> <td>   -5.747</td> <td> 0.000</td> <td>   -0.722</td> <td>   -0.355</td>\n",
              "</tr>\n",
              "<tr>\n",
              "  <th>ma.L2</th>     <td>   -0.0789</td> <td>    0.020</td> <td>   -3.874</td> <td> 0.000</td> <td>   -0.119</td> <td>   -0.039</td>\n",
              "</tr>\n",
              "<tr>\n",
              "  <th>sigma2</th>    <td>    0.3912</td> <td>    0.006</td> <td>   62.817</td> <td> 0.000</td> <td>    0.379</td> <td>    0.403</td>\n",
              "</tr>\n",
              "</table>\n",
              "<table class=\"simpletable\">\n",
              "<tr>\n",
              "  <th>Ljung-Box (L1) (Q):</th>     <td>0.00</td> <th>  Jarque-Bera (JB):  </th> <td>1444.51</td>\n",
              "</tr>\n",
              "<tr>\n",
              "  <th>Prob(Q):</th>                <td>0.99</td> <th>  Prob(JB):          </th>  <td>0.00</td>  \n",
              "</tr>\n",
              "<tr>\n",
              "  <th>Heteroskedasticity (H):</th> <td>0.79</td> <th>  Skew:              </th>  <td>0.25</td>  \n",
              "</tr>\n",
              "<tr>\n",
              "  <th>Prob(H) (two-sided):</th>    <td>0.00</td> <th>  Kurtosis:          </th>  <td>6.26</td>  \n",
              "</tr>\n",
              "</table><br/><br/>Warnings:<br/>[1] Covariance matrix calculated using the outer product of gradients (complex-step)."
            ]
          },
          "metadata": {},
          "execution_count": 149
        }
      ]
    },
    {
      "cell_type": "code",
      "source": [
        "aa.fit(df_nov.WindSpeed[:len(df_nov.WindSpeed*2/3)])"
      ],
      "metadata": {
        "id": "3XA6PmHBxyWV",
        "colab": {
          "base_uri": "https://localhost:8080/"
        },
        "outputId": "925fa8bb-7b8a-42b1-c2d8-0ba6da093dcd"
      },
      "execution_count": 150,
      "outputs": [
        {
          "output_type": "execute_result",
          "data": {
            "text/plain": [
              "ARIMA(order=(2, 0, 2), scoring_args={}, suppress_warnings=True)"
            ]
          },
          "metadata": {},
          "execution_count": 150
        }
      ]
    },
    {
      "cell_type": "code",
      "source": [
        "previsaoaa = aa.predict(n_periods = 60)"
      ],
      "metadata": {
        "id": "OfvkVJsaQ6dX"
      },
      "execution_count": 151,
      "outputs": []
    },
    {
      "cell_type": "code",
      "source": [
        "residual = ((previsaoaa - df_nov.WindSpeed[int(len(df_nov.WindSpeed)*2/3):int(len(df_nov.WindSpeed)*2/3)+60])**2)**0.5"
      ],
      "metadata": {
        "id": "tAhsJQPNRZ1L"
      },
      "execution_count": 152,
      "outputs": []
    },
    {
      "cell_type": "code",
      "source": [
        "errosdf = pd.DataFrame({'Arima':residual})"
      ],
      "metadata": {
        "id": "r7f20caMVUHX"
      },
      "execution_count": 153,
      "outputs": []
    },
    {
      "cell_type": "code",
      "source": [
        "errosdf['Weibull'] = ((wnmean - df_nov.WindSpeed[int(len(df_nov.WindSpeed)*2/3):int(len(df_nov.WindSpeed)*2/3)+60])**2)**0.5"
      ],
      "metadata": {
        "id": "JwN0Lt2SWB0E"
      },
      "execution_count": 154,
      "outputs": []
    },
    {
      "cell_type": "code",
      "source": [
        "errosdf['Normal'] = ((nnmean - df_nov.WindSpeed[int(len(df_nov.WindSpeed)*2/3):int(len(df_nov.WindSpeed)*2/3)+60])**2)**0.5"
      ],
      "metadata": {
        "id": "-07kFWXyW44a"
      },
      "execution_count": 156,
      "outputs": []
    },
    {
      "cell_type": "code",
      "source": [
        "import plotly.graph_objects as go"
      ],
      "metadata": {
        "id": "cs_OyN1wY7IL"
      },
      "execution_count": 159,
      "outputs": []
    },
    {
      "cell_type": "code",
      "source": [
        "fig = go.Figure()\n",
        "fig.add_trace(go.Scatter(x=errosdf.index, y=errosdf['Arima'],\n",
        "                    mode='lines',\n",
        "                    name='ARMA(2, 2)')),\n",
        "fig.add_trace(go.Scatter(x=errosdf.index, y=errosdf['Weibull'],\n",
        "                    mode='lines',\n",
        "                    name='Weibull'))\n",
        "fig.add_trace(go.Scatter(x=errosdf.index, y=errosdf['Normal'],\n",
        "                    mode='lines',\n",
        "                    name='Normal'))\n",
        "fig.show()"
      ],
      "metadata": {
        "colab": {
          "base_uri": "https://localhost:8080/",
          "height": 542
        },
        "id": "MB5mgz8mfBuw",
        "outputId": "c943e5a3-3390-41f8-a166-86ea6bc25483"
      },
      "execution_count": 165,
      "outputs": [
        {
          "output_type": "display_data",
          "data": {
            "text/html": [
              "<html>\n",
              "<head><meta charset=\"utf-8\" /></head>\n",
              "<body>\n",
              "    <div>            <script src=\"https://cdnjs.cloudflare.com/ajax/libs/mathjax/2.7.5/MathJax.js?config=TeX-AMS-MML_SVG\"></script><script type=\"text/javascript\">if (window.MathJax) {MathJax.Hub.Config({SVG: {font: \"STIX-Web\"}});}</script>                <script type=\"text/javascript\">window.PlotlyConfig = {MathJaxConfig: 'local'};</script>\n",
              "        <script src=\"https://cdn.plot.ly/plotly-2.8.3.min.js\"></script>                <div id=\"92aefd1e-9780-45c8-b05c-b78b17782363\" class=\"plotly-graph-div\" style=\"height:525px; width:100%;\"></div>            <script type=\"text/javascript\">                                    window.PLOTLYENV=window.PLOTLYENV || {};                                    if (document.getElementById(\"92aefd1e-9780-45c8-b05c-b78b17782363\")) {                    Plotly.newPlot(                        \"92aefd1e-9780-45c8-b05c-b78b17782363\",                        [{\"mode\":\"lines\",\"name\":\"ARMA(2, 2)\",\"x\":[\"2014-11-21T18:50:00\",\"2014-11-21T19:00:00\",\"2014-11-21T19:10:00\",\"2014-11-21T19:20:00\",\"2014-11-21T19:30:00\",\"2014-11-21T19:40:00\",\"2014-11-21T19:50:00\",\"2014-11-21T20:00:00\",\"2014-11-21T20:10:00\",\"2014-11-21T20:20:00\",\"2014-11-21T20:30:00\",\"2014-11-21T20:40:00\",\"2014-11-21T20:50:00\",\"2014-11-21T21:00:00\",\"2014-11-21T21:10:00\",\"2014-11-21T21:20:00\",\"2014-11-21T21:30:00\",\"2014-11-21T21:40:00\",\"2014-11-21T21:50:00\",\"2014-11-21T22:00:00\",\"2014-11-21T22:10:00\",\"2014-11-21T22:20:00\",\"2014-11-21T22:30:00\",\"2014-11-21T22:40:00\",\"2014-11-21T22:50:00\",\"2014-11-21T23:00:00\",\"2014-11-21T23:10:00\",\"2014-11-21T23:20:00\",\"2014-11-21T23:30:00\",\"2014-11-21T23:40:00\",\"2014-11-21T23:50:00\",\"2014-11-22T00:00:00\",\"2014-11-22T00:10:00\",\"2014-11-22T00:20:00\",\"2014-11-22T00:30:00\",\"2014-11-22T00:40:00\",\"2014-11-22T00:50:00\",\"2014-11-22T01:00:00\",\"2014-11-22T01:10:00\",\"2014-11-22T01:20:00\",\"2014-11-22T01:30:00\",\"2014-11-22T01:40:00\",\"2014-11-22T01:50:00\",\"2014-11-22T02:00:00\",\"2014-11-22T02:10:00\",\"2014-11-22T02:20:00\",\"2014-11-22T02:30:00\",\"2014-11-22T02:40:00\",\"2014-11-22T02:50:00\",\"2014-11-22T03:00:00\",\"2014-11-22T03:10:00\",\"2014-11-22T03:20:00\",\"2014-11-22T03:30:00\",\"2014-11-22T03:40:00\",\"2014-11-22T03:50:00\",\"2014-11-22T04:00:00\",\"2014-11-22T04:10:00\",\"2014-11-22T04:20:00\",\"2014-11-22T04:30:00\",\"2014-11-22T04:40:00\"],\"y\":[1.0323457252503747,1.092133072867087,1.6809041120260408,2.2965130917355694,2.3068435199197834,2.0053698977964176,1.2736172276962092,1.2122486525433889,1.1915464270286718,0.6916246076819661,0.49252310363302065,0.384249262737411,0.49679625687044293,1.3001512074426103,2.0842987739346945,1.6392227361893656,1.3649066896010211,1.7713343481091908,1.9784896738507243,1.0563569302509395,0.24492070134989952,0.16583410371283236,0.3059222526886387,0.8753581949875944,0.654156067590165,1.1123297013822988,0.7898926275971352,0.30685808422492045,0.5967609776683016,0.5409518877378874,0.18570225028291176,0.6509999382961,0.4368330876409301,0.9531900913541183,1.0500595940712838,1.4374304865732714,1.665291900450617,1.4036332028836496,1.24244399153572,1.291714089557133,0.8214335406973561,1.0015926045231938,1.4321817517406075,1.0831916596179418,1.174613207508365,0.9064374724693653,1.0786557249771915,1.1712594247342025,1.104240216567094,1.1475899264140468,1.0713005573988372,0.7553642859900709,1.04977345824366,0.9145205861267511,1.199598343921342,1.3549995647058477,1.4507172369129462,1.4067445009620236,1.2630746459646316,1.4797011065013468],\"type\":\"scatter\"},{\"mode\":\"lines\",\"name\":\"Weibull\",\"x\":[\"2014-11-21T18:50:00\",\"2014-11-21T19:00:00\",\"2014-11-21T19:10:00\",\"2014-11-21T19:20:00\",\"2014-11-21T19:30:00\",\"2014-11-21T19:40:00\",\"2014-11-21T19:50:00\",\"2014-11-21T20:00:00\",\"2014-11-21T20:10:00\",\"2014-11-21T20:20:00\",\"2014-11-21T20:30:00\",\"2014-11-21T20:40:00\",\"2014-11-21T20:50:00\",\"2014-11-21T21:00:00\",\"2014-11-21T21:10:00\",\"2014-11-21T21:20:00\",\"2014-11-21T21:30:00\",\"2014-11-21T21:40:00\",\"2014-11-21T21:50:00\",\"2014-11-21T22:00:00\",\"2014-11-21T22:10:00\",\"2014-11-21T22:20:00\",\"2014-11-21T22:30:00\",\"2014-11-21T22:40:00\",\"2014-11-21T22:50:00\",\"2014-11-21T23:00:00\",\"2014-11-21T23:10:00\",\"2014-11-21T23:20:00\",\"2014-11-21T23:30:00\",\"2014-11-21T23:40:00\",\"2014-11-21T23:50:00\",\"2014-11-22T00:00:00\",\"2014-11-22T00:10:00\",\"2014-11-22T00:20:00\",\"2014-11-22T00:30:00\",\"2014-11-22T00:40:00\",\"2014-11-22T00:50:00\",\"2014-11-22T01:00:00\",\"2014-11-22T01:10:00\",\"2014-11-22T01:20:00\",\"2014-11-22T01:30:00\",\"2014-11-22T01:40:00\",\"2014-11-22T01:50:00\",\"2014-11-22T02:00:00\",\"2014-11-22T02:10:00\",\"2014-11-22T02:20:00\",\"2014-11-22T02:30:00\",\"2014-11-22T02:40:00\",\"2014-11-22T02:50:00\",\"2014-11-22T03:00:00\",\"2014-11-22T03:10:00\",\"2014-11-22T03:20:00\",\"2014-11-22T03:30:00\",\"2014-11-22T03:40:00\",\"2014-11-22T03:50:00\",\"2014-11-22T04:00:00\",\"2014-11-22T04:10:00\",\"2014-11-22T04:20:00\",\"2014-11-22T04:30:00\",\"2014-11-22T04:40:00\"],\"y\":[1.1086320648437251,1.0586320648437244,0.4486320648437241,0.20136793515627538,0.2513679351562752,0.008632064843724585,0.6986320648437241,0.7186320648437245,0.6986320648437241,1.158632064843724,1.3186320648437242,1.3886320648437245,1.2386320648437241,0.39863206484372427,0.421367935156276,0.011367935156275877,0.22863206484372434,0.21136793515627517,0.4513679351562754,0.4386320648437243,1.2186320648437245,1.5986320648437236,1.7086320648437248,2.248632064843724,1.998632064843724,2.4286320648437236,2.078632064843724,1.5686320648437242,0.6386320648437245,0.6686320648437247,0.9986320648437239,0.5086320648437246,0.6986320648437241,0.15863206484372405,0.038632064843724834,0.3713679351562753,0.6213679351562753,0.381367935156276,0.24136793515627541,0.3113679351562757,0.13863206484372448,0.0613679351562757,0.5113679351562759,0.1813679351562758,0.29136793515627524,0.04136793515627524,0.23136793515627563,0.34136793515627595,0.29136793515627524,0.35136793515627573,0.29136793515627524,0.008632064843724585,0.3013679351562759,0.1813679351562758,0.48136793515627563,0.6513679351562756,0.7613679351562759,0.7313679351562756,0.6013679351562757,0.8313679351562753],\"type\":\"scatter\"},{\"mode\":\"lines\",\"name\":\"Normal\",\"x\":[\"2014-11-21T18:50:00\",\"2014-11-21T19:00:00\",\"2014-11-21T19:10:00\",\"2014-11-21T19:20:00\",\"2014-11-21T19:30:00\",\"2014-11-21T19:40:00\",\"2014-11-21T19:50:00\",\"2014-11-21T20:00:00\",\"2014-11-21T20:10:00\",\"2014-11-21T20:20:00\",\"2014-11-21T20:30:00\",\"2014-11-21T20:40:00\",\"2014-11-21T20:50:00\",\"2014-11-21T21:00:00\",\"2014-11-21T21:10:00\",\"2014-11-21T21:20:00\",\"2014-11-21T21:30:00\",\"2014-11-21T21:40:00\",\"2014-11-21T21:50:00\",\"2014-11-21T22:00:00\",\"2014-11-21T22:10:00\",\"2014-11-21T22:20:00\",\"2014-11-21T22:30:00\",\"2014-11-21T22:40:00\",\"2014-11-21T22:50:00\",\"2014-11-21T23:00:00\",\"2014-11-21T23:10:00\",\"2014-11-21T23:20:00\",\"2014-11-21T23:30:00\",\"2014-11-21T23:40:00\",\"2014-11-21T23:50:00\",\"2014-11-22T00:00:00\",\"2014-11-22T00:10:00\",\"2014-11-22T00:20:00\",\"2014-11-22T00:30:00\",\"2014-11-22T00:40:00\",\"2014-11-22T00:50:00\",\"2014-11-22T01:00:00\",\"2014-11-22T01:10:00\",\"2014-11-22T01:20:00\",\"2014-11-22T01:30:00\",\"2014-11-22T01:40:00\",\"2014-11-22T01:50:00\",\"2014-11-22T02:00:00\",\"2014-11-22T02:10:00\",\"2014-11-22T02:20:00\",\"2014-11-22T02:30:00\",\"2014-11-22T02:40:00\",\"2014-11-22T02:50:00\",\"2014-11-22T03:00:00\",\"2014-11-22T03:10:00\",\"2014-11-22T03:20:00\",\"2014-11-22T03:30:00\",\"2014-11-22T03:40:00\",\"2014-11-22T03:50:00\",\"2014-11-22T04:00:00\",\"2014-11-22T04:10:00\",\"2014-11-22T04:20:00\",\"2014-11-22T04:30:00\",\"2014-11-22T04:40:00\"],\"y\":[1.1097838345864677,1.059783834586467,0.44978383458646665,0.20021616541353282,0.25021616541353264,0.009783834586467144,0.6997838345864666,0.7197838345864671,0.6997838345864666,1.1597838345864666,1.3197838345864668,1.389783834586467,1.2397838345864667,0.3997838345864668,0.42021616541353346,0.010216165413533318,0.2297838345864669,0.2102161654135326,0.4502161654135328,0.43978383458646686,1.219783834586467,1.5997838345864661,1.7097838345864673,2.2497838345864665,1.9997838345864665,2.429783834586466,2.0797838345864665,1.5697838345864668,0.639783834586467,0.6697838345864673,0.9997838345864665,0.5097838345864671,0.6997838345864666,0.1597838345864666,0.03978383458646739,0.37021616541353275,0.6202161654135327,0.3802161654135334,0.24021616541353286,0.31021616541353314,0.13978383458646704,0.06021616541353314,0.5102161654135333,0.18021616541353325,0.2902161654135327,0.04021616541353268,0.23021616541353307,0.3402161654135334,0.2902161654135327,0.3502161654135332,0.2902161654135327,0.009783834586467144,0.30021616541353335,0.18021616541353325,0.48021616541353307,0.650216165413533,0.7602161654135333,0.7302161654135331,0.6002161654135332,0.8302161654135327],\"type\":\"scatter\"}],                        {\"template\":{\"data\":{\"bar\":[{\"error_x\":{\"color\":\"#2a3f5f\"},\"error_y\":{\"color\":\"#2a3f5f\"},\"marker\":{\"line\":{\"color\":\"#E5ECF6\",\"width\":0.5},\"pattern\":{\"fillmode\":\"overlay\",\"size\":10,\"solidity\":0.2}},\"type\":\"bar\"}],\"barpolar\":[{\"marker\":{\"line\":{\"color\":\"#E5ECF6\",\"width\":0.5},\"pattern\":{\"fillmode\":\"overlay\",\"size\":10,\"solidity\":0.2}},\"type\":\"barpolar\"}],\"carpet\":[{\"aaxis\":{\"endlinecolor\":\"#2a3f5f\",\"gridcolor\":\"white\",\"linecolor\":\"white\",\"minorgridcolor\":\"white\",\"startlinecolor\":\"#2a3f5f\"},\"baxis\":{\"endlinecolor\":\"#2a3f5f\",\"gridcolor\":\"white\",\"linecolor\":\"white\",\"minorgridcolor\":\"white\",\"startlinecolor\":\"#2a3f5f\"},\"type\":\"carpet\"}],\"choropleth\":[{\"colorbar\":{\"outlinewidth\":0,\"ticks\":\"\"},\"type\":\"choropleth\"}],\"contour\":[{\"colorbar\":{\"outlinewidth\":0,\"ticks\":\"\"},\"colorscale\":[[0.0,\"#0d0887\"],[0.1111111111111111,\"#46039f\"],[0.2222222222222222,\"#7201a8\"],[0.3333333333333333,\"#9c179e\"],[0.4444444444444444,\"#bd3786\"],[0.5555555555555556,\"#d8576b\"],[0.6666666666666666,\"#ed7953\"],[0.7777777777777778,\"#fb9f3a\"],[0.8888888888888888,\"#fdca26\"],[1.0,\"#f0f921\"]],\"type\":\"contour\"}],\"contourcarpet\":[{\"colorbar\":{\"outlinewidth\":0,\"ticks\":\"\"},\"type\":\"contourcarpet\"}],\"heatmap\":[{\"colorbar\":{\"outlinewidth\":0,\"ticks\":\"\"},\"colorscale\":[[0.0,\"#0d0887\"],[0.1111111111111111,\"#46039f\"],[0.2222222222222222,\"#7201a8\"],[0.3333333333333333,\"#9c179e\"],[0.4444444444444444,\"#bd3786\"],[0.5555555555555556,\"#d8576b\"],[0.6666666666666666,\"#ed7953\"],[0.7777777777777778,\"#fb9f3a\"],[0.8888888888888888,\"#fdca26\"],[1.0,\"#f0f921\"]],\"type\":\"heatmap\"}],\"heatmapgl\":[{\"colorbar\":{\"outlinewidth\":0,\"ticks\":\"\"},\"colorscale\":[[0.0,\"#0d0887\"],[0.1111111111111111,\"#46039f\"],[0.2222222222222222,\"#7201a8\"],[0.3333333333333333,\"#9c179e\"],[0.4444444444444444,\"#bd3786\"],[0.5555555555555556,\"#d8576b\"],[0.6666666666666666,\"#ed7953\"],[0.7777777777777778,\"#fb9f3a\"],[0.8888888888888888,\"#fdca26\"],[1.0,\"#f0f921\"]],\"type\":\"heatmapgl\"}],\"histogram\":[{\"marker\":{\"pattern\":{\"fillmode\":\"overlay\",\"size\":10,\"solidity\":0.2}},\"type\":\"histogram\"}],\"histogram2d\":[{\"colorbar\":{\"outlinewidth\":0,\"ticks\":\"\"},\"colorscale\":[[0.0,\"#0d0887\"],[0.1111111111111111,\"#46039f\"],[0.2222222222222222,\"#7201a8\"],[0.3333333333333333,\"#9c179e\"],[0.4444444444444444,\"#bd3786\"],[0.5555555555555556,\"#d8576b\"],[0.6666666666666666,\"#ed7953\"],[0.7777777777777778,\"#fb9f3a\"],[0.8888888888888888,\"#fdca26\"],[1.0,\"#f0f921\"]],\"type\":\"histogram2d\"}],\"histogram2dcontour\":[{\"colorbar\":{\"outlinewidth\":0,\"ticks\":\"\"},\"colorscale\":[[0.0,\"#0d0887\"],[0.1111111111111111,\"#46039f\"],[0.2222222222222222,\"#7201a8\"],[0.3333333333333333,\"#9c179e\"],[0.4444444444444444,\"#bd3786\"],[0.5555555555555556,\"#d8576b\"],[0.6666666666666666,\"#ed7953\"],[0.7777777777777778,\"#fb9f3a\"],[0.8888888888888888,\"#fdca26\"],[1.0,\"#f0f921\"]],\"type\":\"histogram2dcontour\"}],\"mesh3d\":[{\"colorbar\":{\"outlinewidth\":0,\"ticks\":\"\"},\"type\":\"mesh3d\"}],\"parcoords\":[{\"line\":{\"colorbar\":{\"outlinewidth\":0,\"ticks\":\"\"}},\"type\":\"parcoords\"}],\"pie\":[{\"automargin\":true,\"type\":\"pie\"}],\"scatter\":[{\"marker\":{\"colorbar\":{\"outlinewidth\":0,\"ticks\":\"\"}},\"type\":\"scatter\"}],\"scatter3d\":[{\"line\":{\"colorbar\":{\"outlinewidth\":0,\"ticks\":\"\"}},\"marker\":{\"colorbar\":{\"outlinewidth\":0,\"ticks\":\"\"}},\"type\":\"scatter3d\"}],\"scattercarpet\":[{\"marker\":{\"colorbar\":{\"outlinewidth\":0,\"ticks\":\"\"}},\"type\":\"scattercarpet\"}],\"scattergeo\":[{\"marker\":{\"colorbar\":{\"outlinewidth\":0,\"ticks\":\"\"}},\"type\":\"scattergeo\"}],\"scattergl\":[{\"marker\":{\"colorbar\":{\"outlinewidth\":0,\"ticks\":\"\"}},\"type\":\"scattergl\"}],\"scattermapbox\":[{\"marker\":{\"colorbar\":{\"outlinewidth\":0,\"ticks\":\"\"}},\"type\":\"scattermapbox\"}],\"scatterpolar\":[{\"marker\":{\"colorbar\":{\"outlinewidth\":0,\"ticks\":\"\"}},\"type\":\"scatterpolar\"}],\"scatterpolargl\":[{\"marker\":{\"colorbar\":{\"outlinewidth\":0,\"ticks\":\"\"}},\"type\":\"scatterpolargl\"}],\"scatterternary\":[{\"marker\":{\"colorbar\":{\"outlinewidth\":0,\"ticks\":\"\"}},\"type\":\"scatterternary\"}],\"surface\":[{\"colorbar\":{\"outlinewidth\":0,\"ticks\":\"\"},\"colorscale\":[[0.0,\"#0d0887\"],[0.1111111111111111,\"#46039f\"],[0.2222222222222222,\"#7201a8\"],[0.3333333333333333,\"#9c179e\"],[0.4444444444444444,\"#bd3786\"],[0.5555555555555556,\"#d8576b\"],[0.6666666666666666,\"#ed7953\"],[0.7777777777777778,\"#fb9f3a\"],[0.8888888888888888,\"#fdca26\"],[1.0,\"#f0f921\"]],\"type\":\"surface\"}],\"table\":[{\"cells\":{\"fill\":{\"color\":\"#EBF0F8\"},\"line\":{\"color\":\"white\"}},\"header\":{\"fill\":{\"color\":\"#C8D4E3\"},\"line\":{\"color\":\"white\"}},\"type\":\"table\"}]},\"layout\":{\"annotationdefaults\":{\"arrowcolor\":\"#2a3f5f\",\"arrowhead\":0,\"arrowwidth\":1},\"autotypenumbers\":\"strict\",\"coloraxis\":{\"colorbar\":{\"outlinewidth\":0,\"ticks\":\"\"}},\"colorscale\":{\"diverging\":[[0,\"#8e0152\"],[0.1,\"#c51b7d\"],[0.2,\"#de77ae\"],[0.3,\"#f1b6da\"],[0.4,\"#fde0ef\"],[0.5,\"#f7f7f7\"],[0.6,\"#e6f5d0\"],[0.7,\"#b8e186\"],[0.8,\"#7fbc41\"],[0.9,\"#4d9221\"],[1,\"#276419\"]],\"sequential\":[[0.0,\"#0d0887\"],[0.1111111111111111,\"#46039f\"],[0.2222222222222222,\"#7201a8\"],[0.3333333333333333,\"#9c179e\"],[0.4444444444444444,\"#bd3786\"],[0.5555555555555556,\"#d8576b\"],[0.6666666666666666,\"#ed7953\"],[0.7777777777777778,\"#fb9f3a\"],[0.8888888888888888,\"#fdca26\"],[1.0,\"#f0f921\"]],\"sequentialminus\":[[0.0,\"#0d0887\"],[0.1111111111111111,\"#46039f\"],[0.2222222222222222,\"#7201a8\"],[0.3333333333333333,\"#9c179e\"],[0.4444444444444444,\"#bd3786\"],[0.5555555555555556,\"#d8576b\"],[0.6666666666666666,\"#ed7953\"],[0.7777777777777778,\"#fb9f3a\"],[0.8888888888888888,\"#fdca26\"],[1.0,\"#f0f921\"]]},\"colorway\":[\"#636efa\",\"#EF553B\",\"#00cc96\",\"#ab63fa\",\"#FFA15A\",\"#19d3f3\",\"#FF6692\",\"#B6E880\",\"#FF97FF\",\"#FECB52\"],\"font\":{\"color\":\"#2a3f5f\"},\"geo\":{\"bgcolor\":\"white\",\"lakecolor\":\"white\",\"landcolor\":\"#E5ECF6\",\"showlakes\":true,\"showland\":true,\"subunitcolor\":\"white\"},\"hoverlabel\":{\"align\":\"left\"},\"hovermode\":\"closest\",\"mapbox\":{\"style\":\"light\"},\"paper_bgcolor\":\"white\",\"plot_bgcolor\":\"#E5ECF6\",\"polar\":{\"angularaxis\":{\"gridcolor\":\"white\",\"linecolor\":\"white\",\"ticks\":\"\"},\"bgcolor\":\"#E5ECF6\",\"radialaxis\":{\"gridcolor\":\"white\",\"linecolor\":\"white\",\"ticks\":\"\"}},\"scene\":{\"xaxis\":{\"backgroundcolor\":\"#E5ECF6\",\"gridcolor\":\"white\",\"gridwidth\":2,\"linecolor\":\"white\",\"showbackground\":true,\"ticks\":\"\",\"zerolinecolor\":\"white\"},\"yaxis\":{\"backgroundcolor\":\"#E5ECF6\",\"gridcolor\":\"white\",\"gridwidth\":2,\"linecolor\":\"white\",\"showbackground\":true,\"ticks\":\"\",\"zerolinecolor\":\"white\"},\"zaxis\":{\"backgroundcolor\":\"#E5ECF6\",\"gridcolor\":\"white\",\"gridwidth\":2,\"linecolor\":\"white\",\"showbackground\":true,\"ticks\":\"\",\"zerolinecolor\":\"white\"}},\"shapedefaults\":{\"line\":{\"color\":\"#2a3f5f\"}},\"ternary\":{\"aaxis\":{\"gridcolor\":\"white\",\"linecolor\":\"white\",\"ticks\":\"\"},\"baxis\":{\"gridcolor\":\"white\",\"linecolor\":\"white\",\"ticks\":\"\"},\"bgcolor\":\"#E5ECF6\",\"caxis\":{\"gridcolor\":\"white\",\"linecolor\":\"white\",\"ticks\":\"\"}},\"title\":{\"x\":0.05},\"xaxis\":{\"automargin\":true,\"gridcolor\":\"white\",\"linecolor\":\"white\",\"ticks\":\"\",\"title\":{\"standoff\":15},\"zerolinecolor\":\"white\",\"zerolinewidth\":2},\"yaxis\":{\"automargin\":true,\"gridcolor\":\"white\",\"linecolor\":\"white\",\"ticks\":\"\",\"title\":{\"standoff\":15},\"zerolinecolor\":\"white\",\"zerolinewidth\":2}}}},                        {\"responsive\": true}                    ).then(function(){\n",
              "                            \n",
              "var gd = document.getElementById('92aefd1e-9780-45c8-b05c-b78b17782363');\n",
              "var x = new MutationObserver(function (mutations, observer) {{\n",
              "        var display = window.getComputedStyle(gd).display;\n",
              "        if (!display || display === 'none') {{\n",
              "            console.log([gd, 'removed!']);\n",
              "            Plotly.purge(gd);\n",
              "            observer.disconnect();\n",
              "        }}\n",
              "}});\n",
              "\n",
              "// Listen for the removal of the full notebook cells\n",
              "var notebookContainer = gd.closest('#notebook-container');\n",
              "if (notebookContainer) {{\n",
              "    x.observe(notebookContainer, {childList: true});\n",
              "}}\n",
              "\n",
              "// Listen for the clearing of the current output cell\n",
              "var outputEl = gd.closest('.output');\n",
              "if (outputEl) {{\n",
              "    x.observe(outputEl, {childList: true});\n",
              "}}\n",
              "\n",
              "                        })                };                            </script>        </div>\n",
              "</body>\n",
              "</html>"
            ]
          },
          "metadata": {}
        }
      ]
    },
    {
      "cell_type": "code",
      "source": [
        ""
      ],
      "metadata": {
        "id": "042rtyrwgnbs"
      },
      "execution_count": null,
      "outputs": []
    }
  ],
  "metadata": {
    "colab": {
      "collapsed_sections": [],
      "name": "prediction of wind speed using weibull PDF and ARMA model.ipynb",
      "provenance": [],
      "mount_file_id": "1AJaSqAYaKOu_vis5I7tvyx3dyxgCmKhZ",
      "authorship_tag": "ABX9TyMhF9ltwqkqttF8zkNjUdoT",
      "include_colab_link": true
    },
    "kernelspec": {
      "display_name": "Python 3",
      "name": "python3"
    },
    "language_info": {
      "name": "python"
    }
  },
  "nbformat": 4,
  "nbformat_minor": 0
}