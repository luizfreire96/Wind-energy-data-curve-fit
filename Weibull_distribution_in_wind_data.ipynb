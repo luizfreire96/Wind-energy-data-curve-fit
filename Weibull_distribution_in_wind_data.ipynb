{
  "nbformat": 4,
  "nbformat_minor": 0,
  "metadata": {
    "colab": {
      "name": "Weibull distribution in wind data.ipynb",
      "provenance": [],
      "collapsed_sections": [],
      "mount_file_id": "1AJaSqAYaKOu_vis5I7tvyx3dyxgCmKhZ",
      "authorship_tag": "ABX9TyNwIYEffAN80acbkTfIVIwE",
      "include_colab_link": true
    },
    "kernelspec": {
      "name": "python3",
      "display_name": "Python 3"
    },
    "language_info": {
      "name": "python"
    }
  },
  "cells": [
    {
      "cell_type": "markdown",
      "metadata": {
        "id": "view-in-github",
        "colab_type": "text"
      },
      "source": [
        "<a href=\"https://colab.research.google.com/github/luizfreire96/Wind-energy-data-curve-fit/blob/main/Weibull_distribution_in_wind_data.ipynb\" target=\"_parent\"><img src=\"https://colab.research.google.com/assets/colab-badge.svg\" alt=\"Open In Colab\"/></a>"
      ]
    },
    {
      "cell_type": "markdown",
      "source": [
        "In order to forecast wind speed in another project, it is important to analyze the data to select the best model for predictions. In this project we will analyze the data and try to find the best distribution curve for fitting the data, such as Weibull or Normal. The Data used is the same used in **Yu Ding book, Data Science for Wind Energy.**"
      ],
      "metadata": {
        "id": "ooopdn781HDU"
      }
    },
    {
      "cell_type": "markdown",
      "source": [
        "#Importing relevant libraries"
      ],
      "metadata": {
        "id": "_Yo7hWvFZ6i8"
      }
    },
    {
      "cell_type": "code",
      "execution_count": null,
      "metadata": {
        "id": "boFn7eaFY4XL"
      },
      "outputs": [],
      "source": [
        "import pandas as pd\n",
        "import numpy as np\n",
        "from scipy.stats import weibull_min\n",
        "from scipy.stats import chi2\n",
        "import matplotlib.pyplot as plt"
      ]
    },
    {
      "cell_type": "markdown",
      "source": [
        "#Importing data"
      ],
      "metadata": {
        "id": "gW0nCRH_OnWR"
      }
    },
    {
      "cell_type": "code",
      "source": [
        "df = pd.read_csv('/content/drive/MyDrive/Wind energy collabs and datasets/Wind Time Series/Wind Time Series Dataset(10min).csv')"
      ],
      "metadata": {
        "id": "pEfPModob-J7"
      },
      "execution_count": null,
      "outputs": []
    },
    {
      "cell_type": "markdown",
      "source": [
        "#Tanking a brief look at the data"
      ],
      "metadata": {
        "id": "w7Ij3vMcchLx"
      }
    },
    {
      "cell_type": "code",
      "source": [
        "df.head()"
      ],
      "metadata": {
        "colab": {
          "base_uri": "https://localhost:8080/",
          "height": 206
        },
        "id": "Ix0yWqmMccH3",
        "outputId": "38b99b84-726d-4840-9763-f3ba9f53f7db"
      },
      "execution_count": null,
      "outputs": [
        {
          "output_type": "execute_result",
          "data": {
            "text/plain": [
              "                  Time  WindSpeed      Power\n",
              "0  2014-10-07 01:20:00       8.22  40.526173\n",
              "1  2014-10-07 01:30:00       8.09  38.552540\n",
              "2  2014-10-07 01:50:00       7.21  21.313683\n",
              "3  2014-10-07 02:00:00       6.75  18.031418\n",
              "4  2014-10-07 02:10:00       6.52  16.593281"
            ],
            "text/html": [
              "\n",
              "  <div id=\"df-581663c4-e225-47b7-b805-e8248af1f520\">\n",
              "    <div class=\"colab-df-container\">\n",
              "      <div>\n",
              "<style scoped>\n",
              "    .dataframe tbody tr th:only-of-type {\n",
              "        vertical-align: middle;\n",
              "    }\n",
              "\n",
              "    .dataframe tbody tr th {\n",
              "        vertical-align: top;\n",
              "    }\n",
              "\n",
              "    .dataframe thead th {\n",
              "        text-align: right;\n",
              "    }\n",
              "</style>\n",
              "<table border=\"1\" class=\"dataframe\">\n",
              "  <thead>\n",
              "    <tr style=\"text-align: right;\">\n",
              "      <th></th>\n",
              "      <th>Time</th>\n",
              "      <th>WindSpeed</th>\n",
              "      <th>Power</th>\n",
              "    </tr>\n",
              "  </thead>\n",
              "  <tbody>\n",
              "    <tr>\n",
              "      <th>0</th>\n",
              "      <td>2014-10-07 01:20:00</td>\n",
              "      <td>8.22</td>\n",
              "      <td>40.526173</td>\n",
              "    </tr>\n",
              "    <tr>\n",
              "      <th>1</th>\n",
              "      <td>2014-10-07 01:30:00</td>\n",
              "      <td>8.09</td>\n",
              "      <td>38.552540</td>\n",
              "    </tr>\n",
              "    <tr>\n",
              "      <th>2</th>\n",
              "      <td>2014-10-07 01:50:00</td>\n",
              "      <td>7.21</td>\n",
              "      <td>21.313683</td>\n",
              "    </tr>\n",
              "    <tr>\n",
              "      <th>3</th>\n",
              "      <td>2014-10-07 02:00:00</td>\n",
              "      <td>6.75</td>\n",
              "      <td>18.031418</td>\n",
              "    </tr>\n",
              "    <tr>\n",
              "      <th>4</th>\n",
              "      <td>2014-10-07 02:10:00</td>\n",
              "      <td>6.52</td>\n",
              "      <td>16.593281</td>\n",
              "    </tr>\n",
              "  </tbody>\n",
              "</table>\n",
              "</div>\n",
              "      <button class=\"colab-df-convert\" onclick=\"convertToInteractive('df-581663c4-e225-47b7-b805-e8248af1f520')\"\n",
              "              title=\"Convert this dataframe to an interactive table.\"\n",
              "              style=\"display:none;\">\n",
              "        \n",
              "  <svg xmlns=\"http://www.w3.org/2000/svg\" height=\"24px\"viewBox=\"0 0 24 24\"\n",
              "       width=\"24px\">\n",
              "    <path d=\"M0 0h24v24H0V0z\" fill=\"none\"/>\n",
              "    <path d=\"M18.56 5.44l.94 2.06.94-2.06 2.06-.94-2.06-.94-.94-2.06-.94 2.06-2.06.94zm-11 1L8.5 8.5l.94-2.06 2.06-.94-2.06-.94L8.5 2.5l-.94 2.06-2.06.94zm10 10l.94 2.06.94-2.06 2.06-.94-2.06-.94-.94-2.06-.94 2.06-2.06.94z\"/><path d=\"M17.41 7.96l-1.37-1.37c-.4-.4-.92-.59-1.43-.59-.52 0-1.04.2-1.43.59L10.3 9.45l-7.72 7.72c-.78.78-.78 2.05 0 2.83L4 21.41c.39.39.9.59 1.41.59.51 0 1.02-.2 1.41-.59l7.78-7.78 2.81-2.81c.8-.78.8-2.07 0-2.86zM5.41 20L4 18.59l7.72-7.72 1.47 1.35L5.41 20z\"/>\n",
              "  </svg>\n",
              "      </button>\n",
              "      \n",
              "  <style>\n",
              "    .colab-df-container {\n",
              "      display:flex;\n",
              "      flex-wrap:wrap;\n",
              "      gap: 12px;\n",
              "    }\n",
              "\n",
              "    .colab-df-convert {\n",
              "      background-color: #E8F0FE;\n",
              "      border: none;\n",
              "      border-radius: 50%;\n",
              "      cursor: pointer;\n",
              "      display: none;\n",
              "      fill: #1967D2;\n",
              "      height: 32px;\n",
              "      padding: 0 0 0 0;\n",
              "      width: 32px;\n",
              "    }\n",
              "\n",
              "    .colab-df-convert:hover {\n",
              "      background-color: #E2EBFA;\n",
              "      box-shadow: 0px 1px 2px rgba(60, 64, 67, 0.3), 0px 1px 3px 1px rgba(60, 64, 67, 0.15);\n",
              "      fill: #174EA6;\n",
              "    }\n",
              "\n",
              "    [theme=dark] .colab-df-convert {\n",
              "      background-color: #3B4455;\n",
              "      fill: #D2E3FC;\n",
              "    }\n",
              "\n",
              "    [theme=dark] .colab-df-convert:hover {\n",
              "      background-color: #434B5C;\n",
              "      box-shadow: 0px 1px 3px 1px rgba(0, 0, 0, 0.15);\n",
              "      filter: drop-shadow(0px 1px 2px rgba(0, 0, 0, 0.3));\n",
              "      fill: #FFFFFF;\n",
              "    }\n",
              "  </style>\n",
              "\n",
              "      <script>\n",
              "        const buttonEl =\n",
              "          document.querySelector('#df-581663c4-e225-47b7-b805-e8248af1f520 button.colab-df-convert');\n",
              "        buttonEl.style.display =\n",
              "          google.colab.kernel.accessAllowed ? 'block' : 'none';\n",
              "\n",
              "        async function convertToInteractive(key) {\n",
              "          const element = document.querySelector('#df-581663c4-e225-47b7-b805-e8248af1f520');\n",
              "          const dataTable =\n",
              "            await google.colab.kernel.invokeFunction('convertToInteractive',\n",
              "                                                     [key], {});\n",
              "          if (!dataTable) return;\n",
              "\n",
              "          const docLinkHtml = 'Like what you see? Visit the ' +\n",
              "            '<a target=\"_blank\" href=https://colab.research.google.com/notebooks/data_table.ipynb>data table notebook</a>'\n",
              "            + ' to learn more about interactive tables.';\n",
              "          element.innerHTML = '';\n",
              "          dataTable['output_type'] = 'display_data';\n",
              "          await google.colab.output.renderOutput(dataTable, element);\n",
              "          const docLink = document.createElement('div');\n",
              "          docLink.innerHTML = docLinkHtml;\n",
              "          element.appendChild(docLink);\n",
              "        }\n",
              "      </script>\n",
              "    </div>\n",
              "  </div>\n",
              "  "
            ]
          },
          "metadata": {},
          "execution_count": 170
        }
      ]
    },
    {
      "cell_type": "code",
      "source": [
        "df.describe()"
      ],
      "metadata": {
        "colab": {
          "base_uri": "https://localhost:8080/",
          "height": 300
        },
        "id": "qb8RnjKDfWpC",
        "outputId": "8378dd4a-43c5-4951-d37d-0ff0209d4491"
      },
      "execution_count": null,
      "outputs": [
        {
          "output_type": "execute_result",
          "data": {
            "text/plain": [
              "          WindSpeed         Power\n",
              "count  39195.000000  39195.000000\n",
              "mean       6.863497     30.415774\n",
              "std        2.065032     26.069511\n",
              "min        0.090000     -0.007123\n",
              "25%        5.370000      9.727654\n",
              "50%        6.670000     22.314745\n",
              "75%        8.070000     44.854827\n",
              "max       19.790000    100.000000"
            ],
            "text/html": [
              "\n",
              "  <div id=\"df-04bc7a93-f1a2-4efc-b483-85a9063ba460\">\n",
              "    <div class=\"colab-df-container\">\n",
              "      <div>\n",
              "<style scoped>\n",
              "    .dataframe tbody tr th:only-of-type {\n",
              "        vertical-align: middle;\n",
              "    }\n",
              "\n",
              "    .dataframe tbody tr th {\n",
              "        vertical-align: top;\n",
              "    }\n",
              "\n",
              "    .dataframe thead th {\n",
              "        text-align: right;\n",
              "    }\n",
              "</style>\n",
              "<table border=\"1\" class=\"dataframe\">\n",
              "  <thead>\n",
              "    <tr style=\"text-align: right;\">\n",
              "      <th></th>\n",
              "      <th>WindSpeed</th>\n",
              "      <th>Power</th>\n",
              "    </tr>\n",
              "  </thead>\n",
              "  <tbody>\n",
              "    <tr>\n",
              "      <th>count</th>\n",
              "      <td>39195.000000</td>\n",
              "      <td>39195.000000</td>\n",
              "    </tr>\n",
              "    <tr>\n",
              "      <th>mean</th>\n",
              "      <td>6.863497</td>\n",
              "      <td>30.415774</td>\n",
              "    </tr>\n",
              "    <tr>\n",
              "      <th>std</th>\n",
              "      <td>2.065032</td>\n",
              "      <td>26.069511</td>\n",
              "    </tr>\n",
              "    <tr>\n",
              "      <th>min</th>\n",
              "      <td>0.090000</td>\n",
              "      <td>-0.007123</td>\n",
              "    </tr>\n",
              "    <tr>\n",
              "      <th>25%</th>\n",
              "      <td>5.370000</td>\n",
              "      <td>9.727654</td>\n",
              "    </tr>\n",
              "    <tr>\n",
              "      <th>50%</th>\n",
              "      <td>6.670000</td>\n",
              "      <td>22.314745</td>\n",
              "    </tr>\n",
              "    <tr>\n",
              "      <th>75%</th>\n",
              "      <td>8.070000</td>\n",
              "      <td>44.854827</td>\n",
              "    </tr>\n",
              "    <tr>\n",
              "      <th>max</th>\n",
              "      <td>19.790000</td>\n",
              "      <td>100.000000</td>\n",
              "    </tr>\n",
              "  </tbody>\n",
              "</table>\n",
              "</div>\n",
              "      <button class=\"colab-df-convert\" onclick=\"convertToInteractive('df-04bc7a93-f1a2-4efc-b483-85a9063ba460')\"\n",
              "              title=\"Convert this dataframe to an interactive table.\"\n",
              "              style=\"display:none;\">\n",
              "        \n",
              "  <svg xmlns=\"http://www.w3.org/2000/svg\" height=\"24px\"viewBox=\"0 0 24 24\"\n",
              "       width=\"24px\">\n",
              "    <path d=\"M0 0h24v24H0V0z\" fill=\"none\"/>\n",
              "    <path d=\"M18.56 5.44l.94 2.06.94-2.06 2.06-.94-2.06-.94-.94-2.06-.94 2.06-2.06.94zm-11 1L8.5 8.5l.94-2.06 2.06-.94-2.06-.94L8.5 2.5l-.94 2.06-2.06.94zm10 10l.94 2.06.94-2.06 2.06-.94-2.06-.94-.94-2.06-.94 2.06-2.06.94z\"/><path d=\"M17.41 7.96l-1.37-1.37c-.4-.4-.92-.59-1.43-.59-.52 0-1.04.2-1.43.59L10.3 9.45l-7.72 7.72c-.78.78-.78 2.05 0 2.83L4 21.41c.39.39.9.59 1.41.59.51 0 1.02-.2 1.41-.59l7.78-7.78 2.81-2.81c.8-.78.8-2.07 0-2.86zM5.41 20L4 18.59l7.72-7.72 1.47 1.35L5.41 20z\"/>\n",
              "  </svg>\n",
              "      </button>\n",
              "      \n",
              "  <style>\n",
              "    .colab-df-container {\n",
              "      display:flex;\n",
              "      flex-wrap:wrap;\n",
              "      gap: 12px;\n",
              "    }\n",
              "\n",
              "    .colab-df-convert {\n",
              "      background-color: #E8F0FE;\n",
              "      border: none;\n",
              "      border-radius: 50%;\n",
              "      cursor: pointer;\n",
              "      display: none;\n",
              "      fill: #1967D2;\n",
              "      height: 32px;\n",
              "      padding: 0 0 0 0;\n",
              "      width: 32px;\n",
              "    }\n",
              "\n",
              "    .colab-df-convert:hover {\n",
              "      background-color: #E2EBFA;\n",
              "      box-shadow: 0px 1px 2px rgba(60, 64, 67, 0.3), 0px 1px 3px 1px rgba(60, 64, 67, 0.15);\n",
              "      fill: #174EA6;\n",
              "    }\n",
              "\n",
              "    [theme=dark] .colab-df-convert {\n",
              "      background-color: #3B4455;\n",
              "      fill: #D2E3FC;\n",
              "    }\n",
              "\n",
              "    [theme=dark] .colab-df-convert:hover {\n",
              "      background-color: #434B5C;\n",
              "      box-shadow: 0px 1px 3px 1px rgba(0, 0, 0, 0.15);\n",
              "      filter: drop-shadow(0px 1px 2px rgba(0, 0, 0, 0.3));\n",
              "      fill: #FFFFFF;\n",
              "    }\n",
              "  </style>\n",
              "\n",
              "      <script>\n",
              "        const buttonEl =\n",
              "          document.querySelector('#df-04bc7a93-f1a2-4efc-b483-85a9063ba460 button.colab-df-convert');\n",
              "        buttonEl.style.display =\n",
              "          google.colab.kernel.accessAllowed ? 'block' : 'none';\n",
              "\n",
              "        async function convertToInteractive(key) {\n",
              "          const element = document.querySelector('#df-04bc7a93-f1a2-4efc-b483-85a9063ba460');\n",
              "          const dataTable =\n",
              "            await google.colab.kernel.invokeFunction('convertToInteractive',\n",
              "                                                     [key], {});\n",
              "          if (!dataTable) return;\n",
              "\n",
              "          const docLinkHtml = 'Like what you see? Visit the ' +\n",
              "            '<a target=\"_blank\" href=https://colab.research.google.com/notebooks/data_table.ipynb>data table notebook</a>'\n",
              "            + ' to learn more about interactive tables.';\n",
              "          element.innerHTML = '';\n",
              "          dataTable['output_type'] = 'display_data';\n",
              "          await google.colab.output.renderOutput(dataTable, element);\n",
              "          const docLink = document.createElement('div');\n",
              "          docLink.innerHTML = docLinkHtml;\n",
              "          element.appendChild(docLink);\n",
              "        }\n",
              "      </script>\n",
              "    </div>\n",
              "  </div>\n",
              "  "
            ]
          },
          "metadata": {},
          "execution_count": 171
        }
      ]
    },
    {
      "cell_type": "code",
      "source": [
        "hist = plt.hist(df['WindSpeed'], 200, density=True)"
      ],
      "metadata": {
        "colab": {
          "base_uri": "https://localhost:8080/",
          "height": 265
        },
        "id": "uzdxDJzocnXY",
        "outputId": "301c67e8-7502-42ad-b9bb-4f597aa697ef"
      },
      "execution_count": null,
      "outputs": [
        {
          "output_type": "display_data",
          "data": {
            "text/plain": [
              "<Figure size 432x288 with 1 Axes>"
            ],
            "image/png": "[encoded data removed]"
          },
          "metadata": {
            "needs_background": "light"
          }
        }
      ]
    },
    {
      "cell_type": "markdown",
      "source": [
        "## *WEIBULL FIT*"
      ],
      "metadata": {
        "id": "KelbG3ClBKKY"
      }
    },
    {
      "cell_type": "code",
      "source": [
        " #The method below will estimate the parameters of the Weibull distribution.\n",
        " #It uses the Maximum Likelihood Estimator for this.\n",
        "weibull = weibull_min.fit(df['WindSpeed'])\n",
        "\n",
        "#Attributing the values for each variable we have beta, gamma and alpha respectively.\n",
        "wshape, wloc, wscale = weibull[0], weibull[1], weibull[2]"
      ],
      "metadata": {
        "id": "reO-RSinfGO7"
      },
      "execution_count": null,
      "outputs": []
    },
    {
      "cell_type": "code",
      "source": [
        " #This create the distribution object.\n",
        "x = np.linspace(0.01, 20, 200)\n",
        "dist = weibull_min.pdf(x, wshape, scale=wscale) \n",
        "\n",
        "#Plotting the histogram and the curve to see how it fits, but a test will be needed anyway.\n",
        "plt.plot(x, dist, 'k-', lw=2, label='frozen pdf')\n",
        "plt.hist(df.WindSpeed, 200, density=True)\n",
        "plt.show()"
      ],
      "metadata": {
        "colab": {
          "base_uri": "https://localhost:8080/",
          "height": 265
        },
        "id": "XEv_yYBqgaQ6",
        "outputId": "f216037f-b34b-4b09-acc9-99c91a73af86"
      },
      "execution_count": null,
      "outputs": [
        {
          "output_type": "display_data",
          "data": {
            "text/plain": [
              "<Figure size 432x288 with 1 Axes>"
            ],
            "image/png": "[encoded data removed]"
          },
          "metadata": {
            "needs_background": "light"
          }
        }
      ]
    },
    {
      "cell_type": "code",
      "source": [
        "#copying just to don't mess up the original DataFrame\n",
        "df2 = df.copy()"
      ],
      "metadata": {
        "id": "28cTRuPAWuGZ"
      },
      "execution_count": null,
      "outputs": []
    },
    {
      "cell_type": "markdown",
      "source": [
        "###Testing how good this fit is"
      ],
      "metadata": {
        "id": "Va77Qzkd3hXe"
      }
    },
    {
      "cell_type": "markdown",
      "source": [
        "We will use the chi square test to see if the parameters of weibull fit are good enourgh, assuming a p-value of 0.05, that means the 95% of values of the fit fall in the same bin of the actual measurements."
      ],
      "metadata": {
        "id": "tkJyxQs-5iUc"
      }
    },
    {
      "cell_type": "code",
      "source": [
        "df_copy = df.copy()\n",
        "df_copy['Month'] = df['Time'].str[5:7]\n",
        "df_copy.head()"
      ],
      "metadata": {
        "colab": {
          "base_uri": "https://localhost:8080/",
          "height": 206
        },
        "id": "YhGi2C2qGkrk",
        "outputId": "dfc168ee-6ab5-44ac-aa2c-e45a159de445"
      },
      "execution_count": null,
      "outputs": [
        {
          "output_type": "execute_result",
          "data": {
            "text/plain": [
              "                  Time  WindSpeed      Power Month\n",
              "0  2014-10-07 01:20:00       8.22  40.526173    10\n",
              "1  2014-10-07 01:30:00       8.09  38.552540    10\n",
              "2  2014-10-07 01:50:00       7.21  21.313683    10\n",
              "3  2014-10-07 02:00:00       6.75  18.031418    10\n",
              "4  2014-10-07 02:10:00       6.52  16.593281    10"
            ],
            "text/html": [
              "\n",
              "  <div id=\"df-17ff80f8-06d2-4311-b14b-fe4f58310c8f\">\n",
              "    <div class=\"colab-df-container\">\n",
              "      <div>\n",
              "<style scoped>\n",
              "    .dataframe tbody tr th:only-of-type {\n",
              "        vertical-align: middle;\n",
              "    }\n",
              "\n",
              "    .dataframe tbody tr th {\n",
              "        vertical-align: top;\n",
              "    }\n",
              "\n",
              "    .dataframe thead th {\n",
              "        text-align: right;\n",
              "    }\n",
              "</style>\n",
              "<table border=\"1\" class=\"dataframe\">\n",
              "  <thead>\n",
              "    <tr style=\"text-align: right;\">\n",
              "      <th></th>\n",
              "      <th>Time</th>\n",
              "      <th>WindSpeed</th>\n",
              "      <th>Power</th>\n",
              "      <th>Month</th>\n",
              "    </tr>\n",
              "  </thead>\n",
              "  <tbody>\n",
              "    <tr>\n",
              "      <th>0</th>\n",
              "      <td>2014-10-07 01:20:00</td>\n",
              "      <td>8.22</td>\n",
              "      <td>40.526173</td>\n",
              "      <td>10</td>\n",
              "    </tr>\n",
              "    <tr>\n",
              "      <th>1</th>\n",
              "      <td>2014-10-07 01:30:00</td>\n",
              "      <td>8.09</td>\n",
              "      <td>38.552540</td>\n",
              "      <td>10</td>\n",
              "    </tr>\n",
              "    <tr>\n",
              "      <th>2</th>\n",
              "      <td>2014-10-07 01:50:00</td>\n",
              "      <td>7.21</td>\n",
              "      <td>21.313683</td>\n",
              "      <td>10</td>\n",
              "    </tr>\n",
              "    <tr>\n",
              "      <th>3</th>\n",
              "      <td>2014-10-07 02:00:00</td>\n",
              "      <td>6.75</td>\n",
              "      <td>18.031418</td>\n",
              "      <td>10</td>\n",
              "    </tr>\n",
              "    <tr>\n",
              "      <th>4</th>\n",
              "      <td>2014-10-07 02:10:00</td>\n",
              "      <td>6.52</td>\n",
              "      <td>16.593281</td>\n",
              "      <td>10</td>\n",
              "    </tr>\n",
              "  </tbody>\n",
              "</table>\n",
              "</div>\n",
              "      <button class=\"colab-df-convert\" onclick=\"convertToInteractive('df-17ff80f8-06d2-4311-b14b-fe4f58310c8f')\"\n",
              "              title=\"Convert this dataframe to an interactive table.\"\n",
              "              style=\"display:none;\">\n",
              "        \n",
              "  <svg xmlns=\"http://www.w3.org/2000/svg\" height=\"24px\"viewBox=\"0 0 24 24\"\n",
              "       width=\"24px\">\n",
              "    <path d=\"M0 0h24v24H0V0z\" fill=\"none\"/>\n",
              "    <path d=\"M18.56 5.44l.94 2.06.94-2.06 2.06-.94-2.06-.94-.94-2.06-.94 2.06-2.06.94zm-11 1L8.5 8.5l.94-2.06 2.06-.94-2.06-.94L8.5 2.5l-.94 2.06-2.06.94zm10 10l.94 2.06.94-2.06 2.06-.94-2.06-.94-.94-2.06-.94 2.06-2.06.94z\"/><path d=\"M17.41 7.96l-1.37-1.37c-.4-.4-.92-.59-1.43-.59-.52 0-1.04.2-1.43.59L10.3 9.45l-7.72 7.72c-.78.78-.78 2.05 0 2.83L4 21.41c.39.39.9.59 1.41.59.51 0 1.02-.2 1.41-.59l7.78-7.78 2.81-2.81c.8-.78.8-2.07 0-2.86zM5.41 20L4 18.59l7.72-7.72 1.47 1.35L5.41 20z\"/>\n",
              "  </svg>\n",
              "      </button>\n",
              "      \n",
              "  <style>\n",
              "    .colab-df-container {\n",
              "      display:flex;\n",
              "      flex-wrap:wrap;\n",
              "      gap: 12px;\n",
              "    }\n",
              "\n",
              "    .colab-df-convert {\n",
              "      background-color: #E8F0FE;\n",
              "      border: none;\n",
              "      border-radius: 50%;\n",
              "      cursor: pointer;\n",
              "      display: none;\n",
              "      fill: #1967D2;\n",
              "      height: 32px;\n",
              "      padding: 0 0 0 0;\n",
              "      width: 32px;\n",
              "    }\n",
              "\n",
              "    .colab-df-convert:hover {\n",
              "      background-color: #E2EBFA;\n",
              "      box-shadow: 0px 1px 2px rgba(60, 64, 67, 0.3), 0px 1px 3px 1px rgba(60, 64, 67, 0.15);\n",
              "      fill: #174EA6;\n",
              "    }\n",
              "\n",
              "    [theme=dark] .colab-df-convert {\n",
              "      background-color: #3B4455;\n",
              "      fill: #D2E3FC;\n",
              "    }\n",
              "\n",
              "    [theme=dark] .colab-df-convert:hover {\n",
              "      background-color: #434B5C;\n",
              "      box-shadow: 0px 1px 3px 1px rgba(0, 0, 0, 0.15);\n",
              "      filter: drop-shadow(0px 1px 2px rgba(0, 0, 0, 0.3));\n",
              "      fill: #FFFFFF;\n",
              "    }\n",
              "  </style>\n",
              "\n",
              "      <script>\n",
              "        const buttonEl =\n",
              "          document.querySelector('#df-17ff80f8-06d2-4311-b14b-fe4f58310c8f button.colab-df-convert');\n",
              "        buttonEl.style.display =\n",
              "          google.colab.kernel.accessAllowed ? 'block' : 'none';\n",
              "\n",
              "        async function convertToInteractive(key) {\n",
              "          const element = document.querySelector('#df-17ff80f8-06d2-4311-b14b-fe4f58310c8f');\n",
              "          const dataTable =\n",
              "            await google.colab.kernel.invokeFunction('convertToInteractive',\n",
              "                                                     [key], {});\n",
              "          if (!dataTable) return;\n",
              "\n",
              "          const docLinkHtml = 'Like what you see? Visit the ' +\n",
              "            '<a target=\"_blank\" href=https://colab.research.google.com/notebooks/data_table.ipynb>data table notebook</a>'\n",
              "            + ' to learn more about interactive tables.';\n",
              "          element.innerHTML = '';\n",
              "          dataTable['output_type'] = 'display_data';\n",
              "          await google.colab.output.renderOutput(dataTable, element);\n",
              "          const docLink = document.createElement('div');\n",
              "          docLink.innerHTML = docLinkHtml;\n",
              "          element.appendChild(docLink);\n",
              "        }\n",
              "      </script>\n",
              "    </div>\n",
              "  </div>\n",
              "  "
            ]
          },
          "metadata": {},
          "execution_count": 176
        }
      ]
    },
    {
      "cell_type": "code",
      "source": [
        "df_nov = df_copy.query('Month == \"11\"')"
      ],
      "metadata": {
        "id": "SACr0AYaSCr8"
      },
      "execution_count": null,
      "outputs": []
    },
    {
      "cell_type": "code",
      "source": [
        "df_nov.describe()"
      ],
      "metadata": {
        "colab": {
          "base_uri": "https://localhost:8080/",
          "height": 300
        },
        "id": "qA8cO8v9j2Pz",
        "outputId": "8d4c927a-262a-46a6-cc01-f65a570a492d"
      },
      "execution_count": null,
      "outputs": [
        {
          "output_type": "execute_result",
          "data": {
            "text/plain": [
              "         WindSpeed        Power\n",
              "count  3192.000000  3192.000000\n",
              "mean      7.190216    36.328200\n",
              "std       2.133270    28.876470\n",
              "min       2.120000     0.021368\n",
              "25%       5.560000    11.027384\n",
              "50%       7.160000    29.237354\n",
              "75%       8.660000    57.533865\n",
              "max      15.120000    99.589474"
            ],
            "text/html": [
              "\n",
              "  <div id=\"df-8dc3e5ea-3d43-4019-86e7-275a000c0cfe\">\n",
              "    <div class=\"colab-df-container\">\n",
              "      <div>\n",
              "<style scoped>\n",
              "    .dataframe tbody tr th:only-of-type {\n",
              "        vertical-align: middle;\n",
              "    }\n",
              "\n",
              "    .dataframe tbody tr th {\n",
              "        vertical-align: top;\n",
              "    }\n",
              "\n",
              "    .dataframe thead th {\n",
              "        text-align: right;\n",
              "    }\n",
              "</style>\n",
              "<table border=\"1\" class=\"dataframe\">\n",
              "  <thead>\n",
              "    <tr style=\"text-align: right;\">\n",
              "      <th></th>\n",
              "      <th>WindSpeed</th>\n",
              "      <th>Power</th>\n",
              "    </tr>\n",
              "  </thead>\n",
              "  <tbody>\n",
              "    <tr>\n",
              "      <th>count</th>\n",
              "      <td>3192.000000</td>\n",
              "      <td>3192.000000</td>\n",
              "    </tr>\n",
              "    <tr>\n",
              "      <th>mean</th>\n",
              "      <td>7.190216</td>\n",
              "      <td>36.328200</td>\n",
              "    </tr>\n",
              "    <tr>\n",
              "      <th>std</th>\n",
              "      <td>2.133270</td>\n",
              "      <td>28.876470</td>\n",
              "    </tr>\n",
              "    <tr>\n",
              "      <th>min</th>\n",
              "      <td>2.120000</td>\n",
              "      <td>0.021368</td>\n",
              "    </tr>\n",
              "    <tr>\n",
              "      <th>25%</th>\n",
              "      <td>5.560000</td>\n",
              "      <td>11.027384</td>\n",
              "    </tr>\n",
              "    <tr>\n",
              "      <th>50%</th>\n",
              "      <td>7.160000</td>\n",
              "      <td>29.237354</td>\n",
              "    </tr>\n",
              "    <tr>\n",
              "      <th>75%</th>\n",
              "      <td>8.660000</td>\n",
              "      <td>57.533865</td>\n",
              "    </tr>\n",
              "    <tr>\n",
              "      <th>max</th>\n",
              "      <td>15.120000</td>\n",
              "      <td>99.589474</td>\n",
              "    </tr>\n",
              "  </tbody>\n",
              "</table>\n",
              "</div>\n",
              "      <button class=\"colab-df-convert\" onclick=\"convertToInteractive('df-8dc3e5ea-3d43-4019-86e7-275a000c0cfe')\"\n",
              "              title=\"Convert this dataframe to an interactive table.\"\n",
              "              style=\"display:none;\">\n",
              "        \n",
              "  <svg xmlns=\"http://www.w3.org/2000/svg\" height=\"24px\"viewBox=\"0 0 24 24\"\n",
              "       width=\"24px\">\n",
              "    <path d=\"M0 0h24v24H0V0z\" fill=\"none\"/>\n",
              "    <path d=\"M18.56 5.44l.94 2.06.94-2.06 2.06-.94-2.06-.94-.94-2.06-.94 2.06-2.06.94zm-11 1L8.5 8.5l.94-2.06 2.06-.94-2.06-.94L8.5 2.5l-.94 2.06-2.06.94zm10 10l.94 2.06.94-2.06 2.06-.94-2.06-.94-.94-2.06-.94 2.06-2.06.94z\"/><path d=\"M17.41 7.96l-1.37-1.37c-.4-.4-.92-.59-1.43-.59-.52 0-1.04.2-1.43.59L10.3 9.45l-7.72 7.72c-.78.78-.78 2.05 0 2.83L4 21.41c.39.39.9.59 1.41.59.51 0 1.02-.2 1.41-.59l7.78-7.78 2.81-2.81c.8-.78.8-2.07 0-2.86zM5.41 20L4 18.59l7.72-7.72 1.47 1.35L5.41 20z\"/>\n",
              "  </svg>\n",
              "      </button>\n",
              "      \n",
              "  <style>\n",
              "    .colab-df-container {\n",
              "      display:flex;\n",
              "      flex-wrap:wrap;\n",
              "      gap: 12px;\n",
              "    }\n",
              "\n",
              "    .colab-df-convert {\n",
              "      background-color: #E8F0FE;\n",
              "      border: none;\n",
              "      border-radius: 50%;\n",
              "      cursor: pointer;\n",
              "      display: none;\n",
              "      fill: #1967D2;\n",
              "      height: 32px;\n",
              "      padding: 0 0 0 0;\n",
              "      width: 32px;\n",
              "    }\n",
              "\n",
              "    .colab-df-convert:hover {\n",
              "      background-color: #E2EBFA;\n",
              "      box-shadow: 0px 1px 2px rgba(60, 64, 67, 0.3), 0px 1px 3px 1px rgba(60, 64, 67, 0.15);\n",
              "      fill: #174EA6;\n",
              "    }\n",
              "\n",
              "    [theme=dark] .colab-df-convert {\n",
              "      background-color: #3B4455;\n",
              "      fill: #D2E3FC;\n",
              "    }\n",
              "\n",
              "    [theme=dark] .colab-df-convert:hover {\n",
              "      background-color: #434B5C;\n",
              "      box-shadow: 0px 1px 3px 1px rgba(0, 0, 0, 0.15);\n",
              "      filter: drop-shadow(0px 1px 2px rgba(0, 0, 0, 0.3));\n",
              "      fill: #FFFFFF;\n",
              "    }\n",
              "  </style>\n",
              "\n",
              "      <script>\n",
              "        const buttonEl =\n",
              "          document.querySelector('#df-8dc3e5ea-3d43-4019-86e7-275a000c0cfe button.colab-df-convert');\n",
              "        buttonEl.style.display =\n",
              "          google.colab.kernel.accessAllowed ? 'block' : 'none';\n",
              "\n",
              "        async function convertToInteractive(key) {\n",
              "          const element = document.querySelector('#df-8dc3e5ea-3d43-4019-86e7-275a000c0cfe');\n",
              "          const dataTable =\n",
              "            await google.colab.kernel.invokeFunction('convertToInteractive',\n",
              "                                                     [key], {});\n",
              "          if (!dataTable) return;\n",
              "\n",
              "          const docLinkHtml = 'Like what you see? Visit the ' +\n",
              "            '<a target=\"_blank\" href=https://colab.research.google.com/notebooks/data_table.ipynb>data table notebook</a>'\n",
              "            + ' to learn more about interactive tables.';\n",
              "          element.innerHTML = '';\n",
              "          dataTable['output_type'] = 'display_data';\n",
              "          await google.colab.output.renderOutput(dataTable, element);\n",
              "          const docLink = document.createElement('div');\n",
              "          docLink.innerHTML = docLinkHtml;\n",
              "          element.appendChild(docLink);\n",
              "        }\n",
              "      </script>\n",
              "    </div>\n",
              "  </div>\n",
              "  "
            ]
          },
          "metadata": {},
          "execution_count": 178
        }
      ]
    },
    {
      "cell_type": "code",
      "source": [
        "#grouping velocities in 0.1 m/s width bins\n",
        "bins01 = [i/10 for i in range (0, 200, 1)]\n",
        "labels1 = [i/10 for i in range (1, 200, 1)]\n",
        "df_nov01 = df_nov.copy()\n",
        "df_nov01['Windspeedbin'] = pd.cut(df_nov['WindSpeed'], bins01, labels=labels1)"
      ],
      "metadata": {
        "id": "lDsllpqCXqz6"
      },
      "execution_count": null,
      "outputs": []
    },
    {
      "cell_type": "code",
      "source": [
        "#Counting the frequencies of each bin\n",
        "df_grouped01 = df_nov01.groupby(['Windspeedbin'], as_index=False).count()"
      ],
      "metadata": {
        "id": "EnkGWybluxsu"
      },
      "execution_count": null,
      "outputs": []
    },
    {
      "cell_type": "code",
      "source": [
        "#A chi2 test will be used. When the frequencies are low, say, lower than 5,\n",
        "#its better group with other bins to minimize discrepancies between observed and expected data\n",
        "#Then we group bins until frequencies turn into 5 or higher\n",
        "\n",
        "df_test01 = df_grouped01.copy()\n",
        "drop_that_after = []\n",
        "for i in range (1, len(df_test01['WindSpeed']), 1):\n",
        "  if df_test01['WindSpeed'].iloc[i-1] < 5:\n",
        "    df_test01['WindSpeed'].iloc[i] = df_test01['WindSpeed'].iloc[i] + df_test01['WindSpeed'].iloc[i-1]\n",
        "    drop_that_after.append(i-1)\n",
        "df_test01 = df_test01.drop(df_test01.index[drop_that_after])"
      ],
      "metadata": {
        "colab": {
          "base_uri": "https://localhost:8080/"
        },
        "id": "LLQ8XAY3zY6x",
        "outputId": "95096393-46b7-40d2-d138-1a3ce1fe0389"
      },
      "execution_count": null,
      "outputs": [
        {
          "output_type": "stream",
          "name": "stderr",
          "text": [
            "/usr/local/lib/python3.7/dist-packages/pandas/core/indexing.py:1732: SettingWithCopyWarning: \n",
            "A value is trying to be set on a copy of a slice from a DataFrame\n",
            "\n",
            "See the caveats in the documentation: https://pandas.pydata.org/pandas-docs/stable/user_guide/indexing.html#returning-a-view-versus-a-copy\n",
            "  self._setitem_single_block(indexer, value, name)\n"
          ]
        }
      ]
    },
    {
      "cell_type": "code",
      "source": [
        "df_test01.head()"
      ],
      "metadata": {
        "colab": {
          "base_uri": "https://localhost:8080/",
          "height": 206
        },
        "id": "hEFZ8f49UaXP",
        "outputId": "0d9d4f02-3a44-4e7d-a42d-a7f145554e28"
      },
      "execution_count": null,
      "outputs": [
        {
          "output_type": "execute_result",
          "data": {
            "text/plain": [
              "   Windspeedbin  Time  WindSpeed  Power  Month\n",
              "24          2.5     3          6      3      3\n",
              "26          2.7     2          6      2      2\n",
              "29          3.0    11         15     11     11\n",
              "30          3.1    16         16     16     16\n",
              "31          3.2    18         18     18     18"
            ],
            "text/html": [
              "\n",
              "  <div id=\"df-643cf887-3405-418f-974f-9f8a53f6f009\">\n",
              "    <div class=\"colab-df-container\">\n",
              "      <div>\n",
              "<style scoped>\n",
              "    .dataframe tbody tr th:only-of-type {\n",
              "        vertical-align: middle;\n",
              "    }\n",
              "\n",
              "    .dataframe tbody tr th {\n",
              "        vertical-align: top;\n",
              "    }\n",
              "\n",
              "    .dataframe thead th {\n",
              "        text-align: right;\n",
              "    }\n",
              "</style>\n",
              "<table border=\"1\" class=\"dataframe\">\n",
              "  <thead>\n",
              "    <tr style=\"text-align: right;\">\n",
              "      <th></th>\n",
              "      <th>Windspeedbin</th>\n",
              "      <th>Time</th>\n",
              "      <th>WindSpeed</th>\n",
              "      <th>Power</th>\n",
              "      <th>Month</th>\n",
              "    </tr>\n",
              "  </thead>\n",
              "  <tbody>\n",
              "    <tr>\n",
              "      <th>24</th>\n",
              "      <td>2.5</td>\n",
              "      <td>3</td>\n",
              "      <td>6</td>\n",
              "      <td>3</td>\n",
              "      <td>3</td>\n",
              "    </tr>\n",
              "    <tr>\n",
              "      <th>26</th>\n",
              "      <td>2.7</td>\n",
              "      <td>2</td>\n",
              "      <td>6</td>\n",
              "      <td>2</td>\n",
              "      <td>2</td>\n",
              "    </tr>\n",
              "    <tr>\n",
              "      <th>29</th>\n",
              "      <td>3.0</td>\n",
              "      <td>11</td>\n",
              "      <td>15</td>\n",
              "      <td>11</td>\n",
              "      <td>11</td>\n",
              "    </tr>\n",
              "    <tr>\n",
              "      <th>30</th>\n",
              "      <td>3.1</td>\n",
              "      <td>16</td>\n",
              "      <td>16</td>\n",
              "      <td>16</td>\n",
              "      <td>16</td>\n",
              "    </tr>\n",
              "    <tr>\n",
              "      <th>31</th>\n",
              "      <td>3.2</td>\n",
              "      <td>18</td>\n",
              "      <td>18</td>\n",
              "      <td>18</td>\n",
              "      <td>18</td>\n",
              "    </tr>\n",
              "  </tbody>\n",
              "</table>\n",
              "</div>\n",
              "      <button class=\"colab-df-convert\" onclick=\"convertToInteractive('df-643cf887-3405-418f-974f-9f8a53f6f009')\"\n",
              "              title=\"Convert this dataframe to an interactive table.\"\n",
              "              style=\"display:none;\">\n",
              "        \n",
              "  <svg xmlns=\"http://www.w3.org/2000/svg\" height=\"24px\"viewBox=\"0 0 24 24\"\n",
              "       width=\"24px\">\n",
              "    <path d=\"M0 0h24v24H0V0z\" fill=\"none\"/>\n",
              "    <path d=\"M18.56 5.44l.94 2.06.94-2.06 2.06-.94-2.06-.94-.94-2.06-.94 2.06-2.06.94zm-11 1L8.5 8.5l.94-2.06 2.06-.94-2.06-.94L8.5 2.5l-.94 2.06-2.06.94zm10 10l.94 2.06.94-2.06 2.06-.94-2.06-.94-.94-2.06-.94 2.06-2.06.94z\"/><path d=\"M17.41 7.96l-1.37-1.37c-.4-.4-.92-.59-1.43-.59-.52 0-1.04.2-1.43.59L10.3 9.45l-7.72 7.72c-.78.78-.78 2.05 0 2.83L4 21.41c.39.39.9.59 1.41.59.51 0 1.02-.2 1.41-.59l7.78-7.78 2.81-2.81c.8-.78.8-2.07 0-2.86zM5.41 20L4 18.59l7.72-7.72 1.47 1.35L5.41 20z\"/>\n",
              "  </svg>\n",
              "      </button>\n",
              "      \n",
              "  <style>\n",
              "    .colab-df-container {\n",
              "      display:flex;\n",
              "      flex-wrap:wrap;\n",
              "      gap: 12px;\n",
              "    }\n",
              "\n",
              "    .colab-df-convert {\n",
              "      background-color: #E8F0FE;\n",
              "      border: none;\n",
              "      border-radius: 50%;\n",
              "      cursor: pointer;\n",
              "      display: none;\n",
              "      fill: #1967D2;\n",
              "      height: 32px;\n",
              "      padding: 0 0 0 0;\n",
              "      width: 32px;\n",
              "    }\n",
              "\n",
              "    .colab-df-convert:hover {\n",
              "      background-color: #E2EBFA;\n",
              "      box-shadow: 0px 1px 2px rgba(60, 64, 67, 0.3), 0px 1px 3px 1px rgba(60, 64, 67, 0.15);\n",
              "      fill: #174EA6;\n",
              "    }\n",
              "\n",
              "    [theme=dark] .colab-df-convert {\n",
              "      background-color: #3B4455;\n",
              "      fill: #D2E3FC;\n",
              "    }\n",
              "\n",
              "    [theme=dark] .colab-df-convert:hover {\n",
              "      background-color: #434B5C;\n",
              "      box-shadow: 0px 1px 3px 1px rgba(0, 0, 0, 0.15);\n",
              "      filter: drop-shadow(0px 1px 2px rgba(0, 0, 0, 0.3));\n",
              "      fill: #FFFFFF;\n",
              "    }\n",
              "  </style>\n",
              "\n",
              "      <script>\n",
              "        const buttonEl =\n",
              "          document.querySelector('#df-643cf887-3405-418f-974f-9f8a53f6f009 button.colab-df-convert');\n",
              "        buttonEl.style.display =\n",
              "          google.colab.kernel.accessAllowed ? 'block' : 'none';\n",
              "\n",
              "        async function convertToInteractive(key) {\n",
              "          const element = document.querySelector('#df-643cf887-3405-418f-974f-9f8a53f6f009');\n",
              "          const dataTable =\n",
              "            await google.colab.kernel.invokeFunction('convertToInteractive',\n",
              "                                                     [key], {});\n",
              "          if (!dataTable) return;\n",
              "\n",
              "          const docLinkHtml = 'Like what you see? Visit the ' +\n",
              "            '<a target=\"_blank\" href=https://colab.research.google.com/notebooks/data_table.ipynb>data table notebook</a>'\n",
              "            + ' to learn more about interactive tables.';\n",
              "          element.innerHTML = '';\n",
              "          dataTable['output_type'] = 'display_data';\n",
              "          await google.colab.output.renderOutput(dataTable, element);\n",
              "          const docLink = document.createElement('div');\n",
              "          docLink.innerHTML = docLinkHtml;\n",
              "          element.appendChild(docLink);\n",
              "        }\n",
              "      </script>\n",
              "    </div>\n",
              "  </div>\n",
              "  "
            ]
          },
          "metadata": {},
          "execution_count": 182
        }
      ]
    },
    {
      "cell_type": "code",
      "source": [
        "#Calculating the density for each bin, after that just mutiply to obtain the expected frequency\n",
        "f_exp = []\n",
        "for a in range(1, len(df_test01.Windspeedbin), 1):\n",
        "  f_exp.append(weibull_min.cdf(df_test01.iloc[a]['Windspeedbin'], wshape, scale=wscale)-weibull_min.cdf(df_test01.iloc[a-1]['Windspeedbin'], wshape, scale=wscale))"
      ],
      "metadata": {
        "id": "coUELR33hTyr"
      },
      "execution_count": null,
      "outputs": []
    },
    {
      "cell_type": "code",
      "source": [
        "f_obs = [i for i in df_test01['WindSpeed']]\n",
        "f_exp = [i*3192 for i in f_exp]"
      ],
      "metadata": {
        "id": "BDTUDAamKVCW"
      },
      "execution_count": null,
      "outputs": []
    },
    {
      "cell_type": "code",
      "source": [
        "print(f_obs[0])\n",
        "print(f_obs[len(f_obs)-1])"
      ],
      "metadata": {
        "colab": {
          "base_uri": "https://localhost:8080/"
        },
        "id": "3y0nSqy2W4eB",
        "outputId": "81f2f52e-6840-4893-cb5d-b8a1e8b397da"
      },
      "execution_count": null,
      "outputs": [
        {
          "output_type": "stream",
          "name": "stdout",
          "text": [
            "6\n",
            "0\n"
          ]
        }
      ]
    },
    {
      "cell_type": "code",
      "source": [
        "f_obs.pop()"
      ],
      "metadata": {
        "colab": {
          "base_uri": "https://localhost:8080/"
        },
        "id": "l4RccMZc-Jhd",
        "outputId": "ef80a250-abe1-4e40-b934-7b7e36ea4d45"
      },
      "execution_count": null,
      "outputs": [
        {
          "output_type": "execute_result",
          "data": {
            "text/plain": [
              "0"
            ]
          },
          "metadata": {},
          "execution_count": 186
        }
      ]
    },
    {
      "cell_type": "code",
      "source": [
        "#chi square is a value that represent the error\n",
        "wchisqr = 0\n",
        "for i in range(0, len(f_exp), 1):\n",
        "  wchisqr = wchisqr + (f_obs[i]-f_exp[i])**2/f_exp[i]\n",
        "wchisqr"
      ],
      "metadata": {
        "colab": {
          "base_uri": "https://localhost:8080/"
        },
        "id": "vYi2_0w0NSBz",
        "outputId": "1001ff1f-f53a-4401-f6ab-0f69cc8161f9"
      },
      "execution_count": null,
      "outputs": [
        {
          "output_type": "execute_result",
          "data": {
            "text/plain": [
              "649.4241670196036"
            ]
          },
          "metadata": {},
          "execution_count": 187
        }
      ]
    },
    {
      "cell_type": "code",
      "source": [
        "#The null hypothesis is that the fit is good enough and we will accept it on p-value > 0.05\n",
        "p_value = 1 - chi2.cdf(x=wchisqr, df=(len(f_obs)-2-1))\n",
        "print(p_value)"
      ],
      "metadata": {
        "id": "eHnqkBKy-Tp-",
        "colab": {
          "base_uri": "https://localhost:8080/"
        },
        "outputId": "8e6f1b39-129d-4a0b-ee92-a262b92dadf2"
      },
      "execution_count": null,
      "outputs": [
        {
          "output_type": "stream",
          "name": "stdout",
          "text": [
            "0.0\n"
          ]
        }
      ]
    },
    {
      "cell_type": "markdown",
      "source": [
        "As we see the va value of chi-square is too high and the p-value is almost 0, then the null hypothesis is rejected. Let's what happens if we change chi-square to a critical value of chi-square"
      ],
      "metadata": {
        "id": "0uz5gpkkG1w7"
      }
    },
    {
      "cell_type": "code",
      "source": [
        "critical_chi = chi2.ppf(q=0.95, df=(len(f_obs)-2-1))\n",
        "p_value_critical = 1 - chi2.cdf(x=critical_chi, df=(len(f_obs)-2-1))\n",
        "print(p_value_critical, critical_chi)"
      ],
      "metadata": {
        "colab": {
          "base_uri": "https://localhost:8080/"
        },
        "id": "Y8fqaH2aHlbR",
        "outputId": "5bd0f9d4-50f2-4e3a-93d2-c2551893eb8e"
      },
      "execution_count": null,
      "outputs": [
        {
          "output_type": "stream",
          "name": "stdout",
          "text": [
            "0.04999999999999993 117.63165114234555\n"
          ]
        }
      ]
    },
    {
      "cell_type": "markdown",
      "source": [
        "Lets see what happens if we how the november month data looks like"
      ],
      "metadata": {
        "id": "L3ti05XAZ7o6"
      }
    },
    {
      "cell_type": "code",
      "source": [
        "plt.plot(x, dist, 'k-', lw=2, label='frozen pdf')\n",
        "plt.hist(df_nov.WindSpeed, 200, density=True)\n",
        "plt.show()"
      ],
      "metadata": {
        "colab": {
          "base_uri": "https://localhost:8080/",
          "height": 265
        },
        "id": "ICcHffTNaHXk",
        "outputId": "f3ea895b-d6f4-4328-8861-64d5adc598ad"
      },
      "execution_count": null,
      "outputs": [
        {
          "output_type": "display_data",
          "data": {
            "text/plain": [
              "<Figure size 432x288 with 1 Axes>"
            ],
            "image/png": "[encoded data removed]"
          },
          "metadata": {
            "needs_background": "light"
          }
        }
      ]
    },
    {
      "cell_type": "markdown",
      "source": [
        "lets try to fit a new curve using only the november data"
      ],
      "metadata": {
        "id": "3uYtSnWPafz5"
      }
    },
    {
      "cell_type": "code",
      "source": [
        "weibull_nov = weibull_min.fit(df_nov.WindSpeed) \n",
        "wnshape, wnloc, wnscale = weibull_nov[0], weibull_nov[1], weibull_nov[2]\n",
        "dist_nov = weibull_min.pdf(x, wnshape, loc=wnloc,scale=wnscale) \n",
        "\n",
        "plt.plot(x, dist_nov, 'k-', lw=2, label='frozen pdf')\n",
        "plt.hist(df_nov.WindSpeed, 200, density=True)\n",
        "plt.show()\n"
      ],
      "metadata": {
        "colab": {
          "base_uri": "https://localhost:8080/",
          "height": 265
        },
        "id": "xbR5sPnvaeEz",
        "outputId": "20877de1-815d-4e21-ccb9-4c2d5f6d2b3f"
      },
      "execution_count": null,
      "outputs": [
        {
          "output_type": "display_data",
          "data": {
            "text/plain": [
              "<Figure size 432x288 with 1 Axes>"
            ],
            "image/png": "[encoded data removed]"
          },
          "metadata": {
            "needs_background": "light"
          }
        }
      ]
    },
    {
      "cell_type": "markdown",
      "source": [
        "Looks better, let's make the test again"
      ],
      "metadata": {
        "id": "dUqBOhYNeCBz"
      }
    },
    {
      "cell_type": "code",
      "source": [
        "wnf_exp = []\n",
        "for a in range(1, len(df_test01.Windspeedbin), 1):\n",
        "  wnf_exp.append(weibull_min.cdf(df_test01.iloc[a]['Windspeedbin'], wnshape, loc=wnloc,scale=wnscale)-weibull_min.cdf(df_test01.iloc[a-1]['Windspeedbin'], wnshape, loc=wnloc, scale=wnscale))"
      ],
      "metadata": {
        "id": "HvD5BjJxeHaN"
      },
      "execution_count": null,
      "outputs": []
    },
    {
      "cell_type": "code",
      "source": [
        "wnchisqr = 0\n",
        "for i in range(0, len(wnf_exp), 1):\n",
        "  wnchisqr = wnchisqr + (f_obs[i]-wnf_exp[i])**2/f_exp[i]\n",
        "wnchisqr"
      ],
      "metadata": {
        "colab": {
          "base_uri": "https://localhost:8080/"
        },
        "id": "p6gaQFTkeeVv",
        "outputId": "74460988-d7d5-43de-88e1-fb01d7d53eed"
      },
      "execution_count": null,
      "outputs": [
        {
          "output_type": "execute_result",
          "data": {
            "text/plain": [
              "3915.8979474365733"
            ]
          },
          "metadata": {},
          "execution_count": 193
        }
      ]
    },
    {
      "cell_type": "markdown",
      "source": [
        "Worst chisquare score, but we can see that \"hole\" in the middle of the curve, maybe if we turn the bins shorter we can fix that"
      ],
      "metadata": {
        "id": "JiNmtg4_foHh"
      }
    },
    {
      "cell_type": "code",
      "source": [
        "bins05 = [i/20 for i in range (0, 400, 1)]\n",
        "labels1 = [i/20 for i in range (1, 400, 1)]\n",
        "df_nov05 = df_nov.copy()\n",
        "df_nov05['Windspeedbin'] = pd.cut(df_nov['WindSpeed'], bins05, labels=labels1)\n",
        "df_grouped05 = df_nov05.groupby(['Windspeedbin'], as_index=False).count()\n",
        "df_test05 = df_grouped05.copy()\n",
        "drop_that_after = []\n",
        "\n",
        "for i in range (1, len(df_test05['WindSpeed']), 1):\n",
        "  if df_test05['WindSpeed'].iloc[i-1] < 5:\n",
        "    df_test05['WindSpeed'].iloc[i] = df_test05['WindSpeed'].iloc[i] + df_test05['WindSpeed'].iloc[i-1]\n",
        "    drop_that_after.append(i-1)\n",
        "df_test05 = df_test05.drop(df_test05.index[drop_that_after])"
      ],
      "metadata": {
        "id": "qsv8ezAzA-2p",
        "colab": {
          "base_uri": "https://localhost:8080/"
        },
        "outputId": "bf70a876-8893-4c7c-b527-90351d6f59b5"
      },
      "execution_count": null,
      "outputs": [
        {
          "output_type": "stream",
          "name": "stderr",
          "text": [
            "/usr/local/lib/python3.7/dist-packages/pandas/core/indexing.py:1732: SettingWithCopyWarning: \n",
            "A value is trying to be set on a copy of a slice from a DataFrame\n",
            "\n",
            "See the caveats in the documentation: https://pandas.pydata.org/pandas-docs/stable/user_guide/indexing.html#returning-a-view-versus-a-copy\n",
            "  self._setitem_single_block(indexer, value, name)\n"
          ]
        }
      ]
    },
    {
      "cell_type": "code",
      "source": [
        "wnf_exp05 = []\n",
        "f_obs05 = [i for i in df_test05['WindSpeed']]\n",
        "for a in range(1, len(df_test05.Windspeedbin), 1):\n",
        "  wnf_exp05.append(weibull_min.cdf(df_test05.iloc[a]['Windspeedbin'], wnshape, loc=wnloc,scale=wnscale)-weibull_min.cdf(df_test05.iloc[a-1]['Windspeedbin'], wnshape, loc=wnloc, scale=wnscale))\n",
        "\n",
        "wnf_exp05 = [i*3192 for i in wnf_exp05]\n",
        "wnchisqr05 = 0\n",
        "for i in range(0, len(f_exp), 1):\n",
        "  wnchisqr05 = wnchisqr05 + (f_obs05[i]-wnf_exp05[i])**2/wnf_exp05[i]\n",
        "wnchisqr05"
      ],
      "metadata": {
        "colab": {
          "base_uri": "https://localhost:8080/"
        },
        "id": "2hsQEwoGXHux",
        "outputId": "761cedcc-a976-42ce-eda3-1a72c86ba89b"
      },
      "execution_count": null,
      "outputs": [
        {
          "output_type": "execute_result",
          "data": {
            "text/plain": [
              "148.70627613081416"
            ]
          },
          "metadata": {},
          "execution_count": 195
        }
      ]
    },
    {
      "cell_type": "code",
      "source": [
        "weibull_nov = weibull_min.fit(df_nov.WindSpeed) \n",
        "wnshape, wnloc, wnscale = weibull_nov[0], weibull_nov[1], weibull_nov[2]\n",
        "dist_nov = weibull_min.pdf(x, wnshape, loc=wnloc,scale=wnscale) \n",
        "\n",
        "plt.plot(x, dist_nov, 'k-', lw=2, label='frozen pdf')\n",
        "plt.hist(df_nov.WindSpeed, 400, density=True)\n",
        "plt.show()"
      ],
      "metadata": {
        "colab": {
          "base_uri": "https://localhost:8080/",
          "height": 265
        },
        "id": "RxZwgNJiZjNn",
        "outputId": "3d45919d-cffb-4171-e437-5959434a44b3"
      },
      "execution_count": null,
      "outputs": [
        {
          "output_type": "display_data",
          "data": {
            "text/plain": [
              "<Figure size 432x288 with 1 Axes>"
            ],
            "image/png": "[encoded data removed]"
          },
          "metadata": {
            "needs_background": "light"
          }
        }
      ]
    },
    {
      "cell_type": "code",
      "source": [
        "len(f_obs05)"
      ],
      "metadata": {
        "colab": {
          "base_uri": "https://localhost:8080/"
        },
        "id": "4HIpKJ_ZapyV",
        "outputId": "0956c853-2fe8-4c2b-8999-ba7c5374137e"
      },
      "execution_count": null,
      "outputs": [
        {
          "output_type": "execute_result",
          "data": {
            "text/plain": [
              "183"
            ]
          },
          "metadata": {},
          "execution_count": 197
        }
      ]
    },
    {
      "cell_type": "code",
      "source": [
        "#the chi-square critical value change due the chenge of the degrees of freedom\n",
        "#lets see the actual p-value for this case\n",
        "p_value = 1 - chi2.cdf(x=wnchisqr05, df=(len(f_obs05)-2-1))\n",
        "print(p_value)"
      ],
      "metadata": {
        "colab": {
          "base_uri": "https://localhost:8080/"
        },
        "id": "PACASbLqZ8UU",
        "outputId": "927ffeb0-734d-46e6-be0b-abeef7c8d1dd"
      },
      "execution_count": null,
      "outputs": [
        {
          "output_type": "stream",
          "name": "stdout",
          "text": [
            "0.957307902532472\n"
          ]
        }
      ]
    },
    {
      "cell_type": "markdown",
      "source": [
        "Nice fit, low chi-square score for such amount of degrees of freedom."
      ],
      "metadata": {
        "id": "5nWm23jqbISn"
      }
    },
    {
      "cell_type": "markdown",
      "source": [
        "# **NORMAL FIT**"
      ],
      "metadata": {
        "id": "sc54IeMeJuqh"
      }
    },
    {
      "cell_type": "markdown",
      "source": [
        "## Importing the statistical function norm from scipy"
      ],
      "metadata": {
        "id": "vvokoo9mO_tB"
      }
    },
    {
      "cell_type": "code",
      "source": [
        "from scipy.stats import norm"
      ],
      "metadata": {
        "id": "xwsl0jYsOkvC"
      },
      "execution_count": null,
      "outputs": []
    },
    {
      "cell_type": "markdown",
      "source": [
        "## Fitting the same data but in normal distribution"
      ],
      "metadata": {
        "id": "w0gwNMuDPKlH"
      }
    },
    {
      "cell_type": "code",
      "source": [
        "normal = norm.fit(df['WindSpeed'])\n",
        "nmean, nsd = normal[0], normal[1]"
      ],
      "metadata": {
        "id": "lsAbG0IxO8D0"
      },
      "execution_count": null,
      "outputs": []
    },
    {
      "cell_type": "code",
      "source": [
        "p = norm.pdf(x, nmean, nsd)\n",
        "plt.plot(x, p)\n",
        "plt.hist(df.WindSpeed, bins=200, density=True)\n",
        "plt.show()"
      ],
      "metadata": {
        "colab": {
          "base_uri": "https://localhost:8080/",
          "height": 265
        },
        "id": "Yp0vqxiQPm7a",
        "outputId": "33d19baf-5bd3-4179-d923-23f8ddb3d240"
      },
      "execution_count": null,
      "outputs": [
        {
          "output_type": "display_data",
          "data": {
            "text/plain": [
              "<Figure size 432x288 with 1 Axes>"
            ],
            "image/png": "[encoded data removed]"
          },
          "metadata": {
            "needs_background": "light"
          }
        }
      ]
    },
    {
      "cell_type": "markdown",
      "source": [
        "# Chi-square test"
      ],
      "metadata": {
        "id": "Qk6kJfCbTvze"
      }
    },
    {
      "cell_type": "code",
      "source": [
        "nf_exp = []\n",
        "for a in range(1, len(df_test01.Windspeedbin), 1):\n",
        "  nf_exp.append(norm.cdf(df_test01.iloc[a]['Windspeedbin'], nmean, nsd)-norm.cdf(df_test01.iloc[a-1]['Windspeedbin'], nmean, nsd))\n",
        "nf_exp = [i*3192 for i in nf_exp]"
      ],
      "metadata": {
        "id": "V2TMal7YRNsu"
      },
      "execution_count": null,
      "outputs": []
    },
    {
      "cell_type": "code",
      "source": [
        "nchisqr = 0\n",
        "for i in range(0, len(nf_exp), 1):\n",
        "  nchisqr = nchisqr + (f_obs[i]-nf_exp[i])**2/nf_exp[i]\n",
        "nchisqr"
      ],
      "metadata": {
        "colab": {
          "base_uri": "https://localhost:8080/"
        },
        "id": "AAJOY40UUIwE",
        "outputId": "f59407ce-3e59-4456-bba5-a92a1926ae37"
      },
      "execution_count": null,
      "outputs": [
        {
          "output_type": "execute_result",
          "data": {
            "text/plain": [
              "610.2407146983874"
            ]
          },
          "metadata": {},
          "execution_count": 203
        }
      ]
    },
    {
      "cell_type": "markdown",
      "source": [
        "Lets use november data to fit the curve"
      ],
      "metadata": {
        "id": "-7CUNzsXcapd"
      }
    },
    {
      "cell_type": "code",
      "source": [
        "nnormal01 = norm.fit(df_nov['WindSpeed'])\n",
        "nnmean, nnsd = nnormal01[0], nnormal01[1]"
      ],
      "metadata": {
        "id": "YtaDGFZwckLl"
      },
      "execution_count": null,
      "outputs": []
    },
    {
      "cell_type": "code",
      "source": [
        "nf_exp = []\n",
        "for a in range(1, len(df_test01.Windspeedbin), 1):\n",
        "  nf_exp.append(norm.cdf(df_test01.iloc[a]['Windspeedbin'], nnmean, nnsd)-norm.cdf(df_test01.iloc[a-1]['Windspeedbin'], nnmean, nnsd))\n",
        "nf_exp = [i*3192 for i in nf_exp]"
      ],
      "metadata": {
        "id": "QP2O-cSicwc1"
      },
      "execution_count": null,
      "outputs": []
    },
    {
      "cell_type": "code",
      "source": [
        "nchisqr = 0\n",
        "for i in range(0, len(nf_exp), 1):\n",
        "  nchisqr = nchisqr + (f_obs[i]-nf_exp[i])**2/nf_exp[i]\n",
        "nchisqr"
      ],
      "metadata": {
        "colab": {
          "base_uri": "https://localhost:8080/"
        },
        "id": "YEJCJlTqc_BM",
        "outputId": "ce0d5d27-0901-459b-8cec-b145a5556cdb"
      },
      "execution_count": null,
      "outputs": [
        {
          "output_type": "execute_result",
          "data": {
            "text/plain": [
              "264.5189257740384"
            ]
          },
          "metadata": {},
          "execution_count": 206
        }
      ]
    },
    {
      "cell_type": "code",
      "source": [
        "nnormal01"
      ],
      "metadata": {
        "colab": {
          "base_uri": "https://localhost:8080/"
        },
        "id": "YR2Jn6wldkOi",
        "outputId": "de3b962c-adf4-488d-cde9-85271d0c8c97"
      },
      "execution_count": null,
      "outputs": [
        {
          "output_type": "execute_result",
          "data": {
            "text/plain": [
              "(7.190216165413533, 2.132935657946973)"
            ]
          },
          "metadata": {},
          "execution_count": 207
        }
      ]
    },
    {
      "cell_type": "code",
      "source": [
        "np = norm.pdf(x, nnmean, nnsd)\n",
        "plt.plot(x, np)\n",
        "plt.hist(df_nov.WindSpeed, bins=200, density=True)\n",
        "plt.show()"
      ],
      "metadata": {
        "colab": {
          "base_uri": "https://localhost:8080/",
          "height": 265
        },
        "id": "Xac8ySypdDj2",
        "outputId": "f478624d-b144-45e4-fac9-2e414bb5271b"
      },
      "execution_count": null,
      "outputs": [
        {
          "output_type": "display_data",
          "data": {
            "text/plain": [
              "<Figure size 432x288 with 1 Axes>"
            ],
            "image/png": "[encoded data removed]"
          },
          "metadata": {
            "needs_background": "light"
          }
        }
      ]
    },
    {
      "cell_type": "markdown",
      "source": [
        "Doing the same process and split the bins in half"
      ],
      "metadata": {
        "id": "UNmQN65ud2Nh"
      }
    },
    {
      "cell_type": "code",
      "source": [
        "nf_exp05 = []\n",
        "for a in range(1, len(df_test05.Windspeedbin), 1):\n",
        "  nf_exp05.append(norm.cdf(df_test05.iloc[a]['Windspeedbin'], nnmean, nnsd)-norm.cdf(df_test05.iloc[a-1]['Windspeedbin'], nnmean, nnsd))\n",
        "nf_exp05 = [i*3192 for i in nf_exp05]\n"
      ],
      "metadata": {
        "id": "PUtytQymd6uC"
      },
      "execution_count": null,
      "outputs": []
    },
    {
      "cell_type": "code",
      "source": [
        "print(len(f_obs05), len(nf_exp05))"
      ],
      "metadata": {
        "colab": {
          "base_uri": "https://localhost:8080/"
        },
        "id": "x-U5DWKPe9Q_",
        "outputId": "153407af-f1f2-45fd-90a0-e3ead2a995ee"
      },
      "execution_count": null,
      "outputs": [
        {
          "output_type": "stream",
          "name": "stdout",
          "text": [
            "182 182\n"
          ]
        }
      ]
    },
    {
      "cell_type": "code",
      "source": [
        "print(f_obs05[0], f_obs05[len(f_obs05)-1])"
      ],
      "metadata": {
        "colab": {
          "base_uri": "https://localhost:8080/"
        },
        "id": "memYMzlohcT4",
        "outputId": "297fad2d-8dfd-4bef-c3c9-904b25657c37"
      },
      "execution_count": null,
      "outputs": [
        {
          "output_type": "stream",
          "name": "stdout",
          "text": [
            "6 2\n"
          ]
        }
      ]
    },
    {
      "cell_type": "code",
      "source": [
        "f_obs05.pop()"
      ],
      "metadata": {
        "colab": {
          "base_uri": "https://localhost:8080/"
        },
        "id": "BQZYnHZ_huIB",
        "outputId": "e2e84ee7-bb7b-4fba-f2d4-3e8f71091dbc"
      },
      "execution_count": null,
      "outputs": [
        {
          "output_type": "execute_result",
          "data": {
            "text/plain": [
              "2"
            ]
          },
          "metadata": {},
          "execution_count": 212
        }
      ]
    },
    {
      "cell_type": "code",
      "source": [
        "nchisqr05 = 0\n",
        "for i in range(0, len(nf_exp05), 1):\n",
        "  nchisqr05 = nchisqr05 + (f_obs05[i]-nf_exp05[i])**2/nf_exp05[i]\n",
        "nchisqr05"
      ],
      "metadata": {
        "colab": {
          "base_uri": "https://localhost:8080/"
        },
        "id": "e1J6gUW6g_kn",
        "outputId": "205990de-2320-4e10-b112-ea2ab31ddbc8"
      },
      "execution_count": null,
      "outputs": [
        {
          "output_type": "execute_result",
          "data": {
            "text/plain": [
              "294.1413521045471"
            ]
          },
          "metadata": {},
          "execution_count": 219
        }
      ]
    },
    {
      "cell_type": "markdown",
      "source": [
        ""
      ],
      "metadata": {
        "id": "htwY_Osjjq6r"
      }
    },
    {
      "cell_type": "markdown",
      "source": [
        "#Lognorm Fit"
      ],
      "metadata": {
        "id": "aYj2GsXQVg86"
      }
    },
    {
      "cell_type": "code",
      "source": [
        "from scipy.stats import lognorm"
      ],
      "metadata": {
        "id": "PdZ4FhsFUSJe"
      },
      "execution_count": null,
      "outputs": []
    },
    {
      "cell_type": "code",
      "source": [
        "lognormal = lognorm.fit(df.WindSpeed)"
      ],
      "metadata": {
        "id": "YfGL-cxAV8kn"
      },
      "execution_count": null,
      "outputs": []
    },
    {
      "cell_type": "code",
      "source": [
        "lnshape, lnloc, lnscale = lognormal[0], lognormal[1], lognormal[2]"
      ],
      "metadata": {
        "id": "Udh8x_obWOu1"
      },
      "execution_count": null,
      "outputs": []
    },
    {
      "cell_type": "code",
      "source": [
        "lognormal"
      ],
      "metadata": {
        "colab": {
          "base_uri": "https://localhost:8080/"
        },
        "id": "o8Ceyx45mcM3",
        "outputId": "c8b55629-d798-4b6d-d544-6684d42236c8"
      },
      "execution_count": null,
      "outputs": [
        {
          "output_type": "execute_result",
          "data": {
            "text/plain": [
              "(0.23223378475797785, -1.8549129977629346, 8.485792416248653)"
            ]
          },
          "metadata": {},
          "execution_count": 84
        }
      ]
    },
    {
      "cell_type": "code",
      "source": [
        "lnr = lognorm.pdf(x, lnshape,loc=lnloc, scale=lnscale)\n",
        "plt.plot(x, lnr)\n",
        "plt.hist(df.WindSpeed, bins=200, density=True)\n",
        "plt.show()"
      ],
      "metadata": {
        "colab": {
          "base_uri": "https://localhost:8080/",
          "height": 265
        },
        "id": "a8DITREzWb8S",
        "outputId": "7ccb2d9b-4139-407f-cc0e-a9ba4574e0d6"
      },
      "execution_count": null,
      "outputs": [
        {
          "output_type": "display_data",
          "data": {
            "text/plain": [
              "<Figure size 432x288 with 1 Axes>"
            ],
            "image/png": "[encoded data removed]"
          },
          "metadata": {
            "needs_background": "light"
          }
        }
      ]
    },
    {
      "cell_type": "code",
      "source": [
        "lnf_exp = []\n",
        "for a in range(1, len(df_test.Windspeedbin), 1):\n",
        "  lnf_exp.append(lognorm.cdf(df_test.iloc[a]['Windspeedbin'], lnshape, loc=lnloc, scale=lnscale)-lognorm.cdf(df_test.iloc[a-1]['Windspeedbin'], lnshape,loc=lnloc, scale=lnscale))\n",
        "lnf_exp = [i*3192 for i in lnf_exp]"
      ],
      "metadata": {
        "id": "8g3xuOQkYT3l"
      },
      "execution_count": null,
      "outputs": []
    },
    {
      "cell_type": "code",
      "source": [
        "lnchisqr = 0\n",
        "for i in range(0, len(lnf_exp), 1):\n",
        "  lnchisqr = lnchisqr + (f_obs[i]-lnf_exp[i])**2/lnf_exp[i]\n",
        "lnchisqr"
      ],
      "metadata": {
        "colab": {
          "base_uri": "https://localhost:8080/"
        },
        "id": "6lnFVqEgcb5O",
        "outputId": "01072c4f-eb68-4d93-f893-f6744a66fb2a"
      },
      "execution_count": null,
      "outputs": [
        {
          "output_type": "execute_result",
          "data": {
            "text/plain": [
              "460.13019350280433"
            ]
          },
          "metadata": {},
          "execution_count": 87
        }
      ]
    },
    {
      "cell_type": "code",
      "source": [
        "lnf_exp"
      ],
      "metadata": {
        "colab": {
          "base_uri": "https://localhost:8080/"
        },
        "id": "jf7pgEFRMbdc",
        "outputId": "15fdb8d1-0d48-4446-8306-476a90027439"
      },
      "execution_count": null,
      "outputs": [
        {
          "output_type": "execute_result",
          "data": {
            "text/plain": [
              "[5.280538447056402,\n",
              " 14.067504796293983,\n",
              " 6.903101908594771,\n",
              " 8.273016592894042,\n",
              " 9.807328053958285,\n",
              " 11.506651576061037,\n",
              " 13.36862477368479,\n",
              " 32.943595144493244,\n",
              " 19.86103137080723,\n",
              " 22.28939158854662,\n",
              " 24.82411707563108,\n",
              " 27.446270510475795,\n",
              " 30.13508306087246,\n",
              " 32.868363070240946,\n",
              " 35.62292827619235,\n",
              " 38.37504765415049,\n",
              " 41.10087975009708,\n",
              " 43.77689556654799,\n",
              " 46.380275588503544,\n",
              " 48.88927227545861,\n",
              " 51.2835312014084,\n",
              " 53.54436590716125,\n",
              " 55.65498336052468,\n",
              " 57.600658637206664,\n",
              " 59.36885899009335,\n",
              " 60.949318833063515,\n",
              " 62.33406830729742,\n",
              " 63.51741901442446,\n",
              " 64.49591119342921,\n",
              " 65.26822709681826,\n",
              " 65.83507560213964,\n",
              " 66.19905319828581,\n",
              " 66.36448643538465,\n",
              " 66.33726074758097,\n",
              " 66.12464027451735,\n",
              " 65.73508294420878,\n",
              " 65.17805466017933,\n",
              " 64.46384597957037,\n",
              " 63.60339419509346,\n",
              " 62.60811325767651,\n",
              " 61.4897335114532,\n",
              " 60.260152769144675,\n",
              " 58.93129984150681,\n",
              " 57.51501125545139,\n",
              " 56.022921555497426,\n",
              " 54.466367284146344,\n",
              " 52.85630447953382,\n",
              " 51.20323931243513,\n",
              " 49.51717130782088,\n",
              " 47.80754845641024,\n",
              " 46.083233416112456,\n",
              " 44.352479928717564,\n",
              " 42.622918530194845,\n",
              " 40.90155061013195,\n",
              " 39.19474987363858,\n",
              " 37.508270274176255,\n",
              " 35.84725951513472,\n",
              " 34.216277258667084,\n",
              " 32.61931722956308,\n",
              " 31.0598324576032,\n",
              " 29.540762961617695,\n",
              " 28.064565240667655,\n",
              " 26.633243000844068,\n",
              " 25.248378608727464,\n",
              " 23.911164823691866,\n",
              " 22.622436419993424,\n",
              " 21.382701365333254,\n",
              " 20.192171274946226,\n",
              " 19.050790908817213,\n",
              " 17.958266524132604,\n",
              " 16.91409293567732,\n",
              " 15.917579173248953,\n",
              " 14.967872657676107,\n",
              " 14.06398184563134,\n",
              " 13.204797318379402,\n",
              " 12.389111311086706,\n",
              " 11.615635697603754,\n",
              " 10.88301846093914,\n",
              " 10.189858692201664,\n",
              " 9.534720170960707,\n",
              " 8.916143587859693,\n",
              " 8.332657476301648,\n",
              " 7.782787924252444,\n",
              " 7.265067139951828,\n",
              " 6.778040946714946,\n",
              " 12.210637060651997,\n",
              " 10.59553635175609,\n",
              " 4.754129957090445,\n",
              " 4.422205094476698,\n",
              " 4.111615860038027,\n",
              " 7.370953246851077,\n",
              " 3.2962905217321934,\n",
              " 8.531931077708261,\n",
              " 10.541480487623705,\n",
              " 5.947859170557701,\n",
              " 11.468101199505458,\n",
              " 4.147330661146251]"
            ]
          },
          "metadata": {},
          "execution_count": 89
        }
      ]
    },
    {
      "cell_type": "code",
      "source": [
        "lnr = lognorm.pdf(x, lnshape,loc=lnloc, scale=lnscale)\n",
        "plt.plot(x, lnr)\n",
        "plt.hist(df_nov.WindSpeed, bins=200, density=True)\n",
        "plt.show()"
      ],
      "metadata": {
        "colab": {
          "base_uri": "https://localhost:8080/",
          "height": 265
        },
        "id": "eLe55sVjNynM",
        "outputId": "daa3e3ab-51b9-449b-ea6c-28c6a9f6b029"
      },
      "execution_count": null,
      "outputs": [
        {
          "output_type": "display_data",
          "data": {
            "text/plain": [
              "<Figure size 432x288 with 1 Axes>"
            ],
            "image/png": "[encoded data removed]"
          },
          "metadata": {
            "needs_background": "light"
          }
        }
      ]
    },
    {
      "cell_type": "code",
      "source": [
        ""
      ],
      "metadata": {
        "id": "02TV6zYfY75l"
      },
      "execution_count": null,
      "outputs": []
    }
  ]
}